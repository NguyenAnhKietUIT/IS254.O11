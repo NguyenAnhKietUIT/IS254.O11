{
  "nbformat": 4,
  "nbformat_minor": 0,
  "metadata": {
    "colab": {
      "provenance": [],
      "toc_visible": true,
      "authorship_tag": "ABX9TyO80WyULzpvM+KpzhB48fRy",
      "include_colab_link": true
    },
    "kernelspec": {
      "name": "python3",
      "display_name": "Python 3"
    },
    "language_info": {
      "name": "python"
    }
  },
  "cells": [
    {
      "cell_type": "markdown",
      "metadata": {
        "id": "view-in-github",
        "colab_type": "text"
      },
      "source": [
        "<a href=\"https://colab.research.google.com/github/NguyenAnhKietUIT/IS254.O11/blob/main/%5BDSS_Nhung%5D_Downloading_and_Parsing_Wikipedia_Articles_.ipynb\" target=\"_parent\"><img src=\"https://colab.research.google.com/assets/colab-badge.svg\" alt=\"Open In Colab\"/></a>"
      ]
    },
    {
      "cell_type": "markdown",
      "source": [
        "### Import Library"
      ],
      "metadata": {
        "id": "abz4HDphYzdu"
      }
    },
    {
      "cell_type": "code",
      "execution_count": null,
      "metadata": {
        "id": "HfF6HX-rYdmM"
      },
      "outputs": [],
      "source": [
        "import requests\n",
        "\n",
        "# Parsing HTML\n",
        "from bs4 import BeautifulSoup\n",
        "\n",
        "# File system management\n",
        "import os"
      ]
    },
    {
      "cell_type": "markdown",
      "source": [
        "### Searching for Wikipedia Download"
      ],
      "metadata": {
        "id": "SjMJ_ZkTZKm-"
      }
    },
    {
      "cell_type": "code",
      "source": [
        "base_url = 'https://dumps.wikimedia.org/enwiki/'\n",
        "index = requests.get(base_url).text\n",
        "soup_index = BeautifulSoup(index, 'html.parser')\n",
        "\n",
        "# Find the links that are dates of dumps\n",
        "dumps = [a['href'] for a in soup_index.find_all('a') if\n",
        "         a.has_attr('href')]\n",
        "dumps"
      ],
      "metadata": {
        "colab": {
          "base_uri": "https://localhost:8080/"
        },
        "id": "7T703NIeZR55",
        "outputId": "5a80bfa3-ce4a-4ea0-b36d-2178895b0f2f"
      },
      "execution_count": null,
      "outputs": [
        {
          "output_type": "execute_result",
          "data": {
            "text/plain": [
              "['../',\n",
              " '20230801/',\n",
              " '20230820/',\n",
              " '20230901/',\n",
              " '20230920/',\n",
              " '20231001/',\n",
              " '20231020/',\n",
              " '20231101/',\n",
              " 'latest/']"
            ]
          },
          "metadata": {},
          "execution_count": 108
        }
      ]
    },
    {
      "cell_type": "markdown",
      "source": [
        "Tìm kiếm nội dung HTML của trang web cho bản sao lưu được tạo ra vào ngày 01 tháng 08."
      ],
      "metadata": {
        "id": "0cLsfPBaabRM"
      }
    },
    {
      "cell_type": "code",
      "source": [
        "dump_url = base_url + '20231020/'\n",
        "\n",
        "# Retrieve the html\n",
        "dump_html = requests.get(dump_url).text\n",
        "dump_html[:10]"
      ],
      "metadata": {
        "colab": {
          "base_uri": "https://localhost:8080/",
          "height": 35
        },
        "id": "Y-n9doz2aF5t",
        "outputId": "7166722a-e308-4dd7-9d40-fcc41c65dc0f"
      },
      "execution_count": null,
      "outputs": [
        {
          "output_type": "execute_result",
          "data": {
            "text/plain": [
              "'<!DOCTYPE '"
            ],
            "application/vnd.google.colaboratory.intrinsic+json": {
              "type": "string"
            }
          },
          "metadata": {},
          "execution_count": 109
        }
      ]
    },
    {
      "cell_type": "markdown",
      "source": [
        "### Deciding What to Download"
      ],
      "metadata": {
        "id": "VOAyzMCua0vn"
      }
    },
    {
      "cell_type": "code",
      "source": [
        "# Convert to a soup\n",
        "soup_dump = BeautifulSoup(dump_html, 'html.parser')\n",
        "\n",
        "# Find li elements with the class file\n",
        "soup_dump.find_all('li', {'class': 'file'}, limit = 10)[:4]"
      ],
      "metadata": {
        "colab": {
          "base_uri": "https://localhost:8080/"
        },
        "id": "sC_il351avPs",
        "outputId": "d487200e-ba23-477e-a8dc-54cc474194fb"
      },
      "execution_count": null,
      "outputs": [
        {
          "output_type": "execute_result",
          "data": {
            "text/plain": [
              "[<li class=\"file\"><a href=\"/enwiki/20231020/enwiki-20231020-pages-articles-multistream.xml.bz2\">enwiki-20231020-pages-articles-multistream.xml.bz2</a> 21.0 GB</li>,\n",
              " <li class=\"file\"><a href=\"/enwiki/20231020/enwiki-20231020-pages-articles-multistream-index.txt.bz2\">enwiki-20231020-pages-articles-multistream-index.txt.bz2</a> 242.9 MB</li>,\n",
              " <li class=\"file\"><a href=\"/enwiki/20231020/enwiki-20231020-pages-articles-multistream1.xml-p1p41242.bz2\">enwiki-20231020-pages-articles-multistream1.xml-p1p41242.bz2</a> 261.2 MB</li>,\n",
              " <li class=\"file\"><a href=\"/enwiki/20231020/enwiki-20231020-pages-articles-multistream-index1.txt-p1p41242.bz2\">enwiki-20231020-pages-articles-multistream-index1.txt-p1p41242.bz2</a> 221 KB</li>]"
            ]
          },
          "metadata": {},
          "execution_count": 110
        }
      ]
    },
    {
      "cell_type": "markdown",
      "source": [
        "limit to only the files containing pages-articles to get only the recent versions of the articles."
      ],
      "metadata": {
        "id": "ZV2h4L3Lbcdf"
      }
    },
    {
      "cell_type": "code",
      "source": [
        "files = []\n",
        "\n",
        "# Search through all files\n",
        "for file in soup_dump.find_all('li', {'class': 'file'}):\n",
        "    text = file.text\n",
        "    # Select the relevant files\n",
        "    if 'pages-articles' in text:\n",
        "        files.append((text.split()[0], text.split()[1:]))\n",
        "\n",
        "files"
      ],
      "metadata": {
        "colab": {
          "base_uri": "https://localhost:8080/"
        },
        "id": "F-88FD5QbmYD",
        "outputId": "07b862c0-d957-40ca-9b14-5aafcfe7c81e"
      },
      "execution_count": null,
      "outputs": [
        {
          "output_type": "execute_result",
          "data": {
            "text/plain": [
              "[('enwiki-20231020-pages-articles-multistream.xml.bz2', ['21.0', 'GB']),\n",
              " ('enwiki-20231020-pages-articles-multistream-index.txt.bz2', ['242.9', 'MB']),\n",
              " ('enwiki-20231020-pages-articles-multistream1.xml-p1p41242.bz2',\n",
              "  ['261.2', 'MB']),\n",
              " ('enwiki-20231020-pages-articles-multistream-index1.txt-p1p41242.bz2',\n",
              "  ['221', 'KB']),\n",
              " ('enwiki-20231020-pages-articles-multistream2.xml-p41243p151573.bz2',\n",
              "  ['348.7', 'MB']),\n",
              " ('enwiki-20231020-pages-articles-multistream-index2.txt-p41243p151573.bz2',\n",
              "  ['637', 'KB']),\n",
              " ('enwiki-20231020-pages-articles-multistream3.xml-p151574p311329.bz2',\n",
              "  ['378.9', 'MB']),\n",
              " ('enwiki-20231020-pages-articles-multistream-index3.txt-p151574p311329.bz2',\n",
              "  ['819', 'KB']),\n",
              " ('enwiki-20231020-pages-articles-multistream4.xml-p311330p558391.bz2',\n",
              "  ['422.1', 'MB']),\n",
              " ('enwiki-20231020-pages-articles-multistream-index4.txt-p311330p558391.bz2',\n",
              "  ['1.3', 'MB']),\n",
              " ('enwiki-20231020-pages-articles-multistream5.xml-p558392p958045.bz2',\n",
              "  ['452.5', 'MB']),\n",
              " ('enwiki-20231020-pages-articles-multistream-index5.txt-p558392p958045.bz2',\n",
              "  ['2.1', 'MB']),\n",
              " ('enwiki-20231020-pages-articles-multistream6.xml-p958046p1483661.bz2',\n",
              "  ['484.0', 'MB']),\n",
              " ('enwiki-20231020-pages-articles-multistream-index6.txt-p958046p1483661.bz2',\n",
              "  ['2.5', 'MB']),\n",
              " ('enwiki-20231020-pages-articles-multistream7.xml-p1483662p2134111.bz2',\n",
              "  ['496.3', 'MB']),\n",
              " ('enwiki-20231020-pages-articles-multistream-index7.txt-p1483662p2134111.bz2',\n",
              "  ['3.0', 'MB']),\n",
              " ('enwiki-20231020-pages-articles-multistream8.xml-p2134112p2936260.bz2',\n",
              "  ['508.4', 'MB']),\n",
              " ('enwiki-20231020-pages-articles-multistream-index8.txt-p2134112p2936260.bz2',\n",
              "  ['3.6', 'MB']),\n",
              " ('enwiki-20231020-pages-articles-multistream9.xml-p2936261p4045402.bz2',\n",
              "  ['549.6', 'MB']),\n",
              " ('enwiki-20231020-pages-articles-multistream-index9.txt-p2936261p4045402.bz2',\n",
              "  ['4.2', 'MB']),\n",
              " ('enwiki-20231020-pages-articles-multistream10.xml-p4045403p5399366.bz2',\n",
              "  ['542.9', 'MB']),\n",
              " ('enwiki-20231020-pages-articles-multistream-index10.txt-p4045403p5399366.bz2',\n",
              "  ['4.6', 'MB']),\n",
              " ('enwiki-20231020-pages-articles-multistream11.xml-p5399367p6899366.bz2',\n",
              "  ['526.3', 'MB']),\n",
              " ('enwiki-20231020-pages-articles-multistream-index11.txt-p5399367p6899366.bz2',\n",
              "  ['4.8', 'MB']),\n",
              " ('enwiki-20231020-pages-articles-multistream11.xml-p6899367p7054859.bz2',\n",
              "  ['50.4', 'MB']),\n",
              " ('enwiki-20231020-pages-articles-multistream-index11.txt-p6899367p7054859.bz2',\n",
              "  ['475', 'KB']),\n",
              " ('enwiki-20231020-pages-articles-multistream12.xml-p7054860p8554859.bz2',\n",
              "  ['436.7', 'MB']),\n",
              " ('enwiki-20231020-pages-articles-multistream-index12.txt-p7054860p8554859.bz2',\n",
              "  ['4.4', 'MB']),\n",
              " ('enwiki-20231020-pages-articles-multistream12.xml-p8554860p9172788.bz2',\n",
              "  ['176.3', 'MB']),\n",
              " ('enwiki-20231020-pages-articles-multistream-index12.txt-p8554860p9172788.bz2',\n",
              "  ['1.8', 'MB']),\n",
              " ('enwiki-20231020-pages-articles-multistream13.xml-p9172789p10672788.bz2',\n",
              "  ['356.2', 'MB']),\n",
              " ('enwiki-20231020-pages-articles-multistream-index13.txt-p9172789p10672788.bz2',\n",
              "  ['3.7', 'MB']),\n",
              " ('enwiki-20231020-pages-articles-multistream13.xml-p10672789p11659682.bz2',\n",
              "  ['246.7', 'MB']),\n",
              " ('enwiki-20231020-pages-articles-multistream-index13.txt-p10672789p11659682.bz2',\n",
              "  ['2.6', 'MB']),\n",
              " ('enwiki-20231020-pages-articles-multistream14.xml-p11659683p13159682.bz2',\n",
              "  ['429.0', 'MB']),\n",
              " ('enwiki-20231020-pages-articles-multistream-index14.txt-p11659683p13159682.bz2',\n",
              "  ['4.8', 'MB']),\n",
              " ('enwiki-20231020-pages-articles-multistream14.xml-p13159683p14324602.bz2',\n",
              "  ['294.2', 'MB']),\n",
              " ('enwiki-20231020-pages-articles-multistream-index14.txt-p13159683p14324602.bz2',\n",
              "  ['3.4', 'MB']),\n",
              " ('enwiki-20231020-pages-articles-multistream15.xml-p14324603p15824602.bz2',\n",
              "  ['383.5', 'MB']),\n",
              " ('enwiki-20231020-pages-articles-multistream-index15.txt-p14324603p15824602.bz2',\n",
              "  ['4.8', 'MB']),\n",
              " ('enwiki-20231020-pages-articles-multistream15.xml-p15824603p17324602.bz2',\n",
              "  ['332.8', 'MB']),\n",
              " ('enwiki-20231020-pages-articles-multistream-index15.txt-p15824603p17324602.bz2',\n",
              "  ['5.1', 'MB']),\n",
              " ('enwiki-20231020-pages-articles-multistream15.xml-p17324603p17460152.bz2',\n",
              "  ['30.2', 'MB']),\n",
              " ('enwiki-20231020-pages-articles-multistream-index15.txt-p17324603p17460152.bz2',\n",
              "  ['358', 'KB']),\n",
              " ('enwiki-20231020-pages-articles-multistream16.xml-p17460153p18960152.bz2',\n",
              "  ['362.8', 'MB']),\n",
              " ('enwiki-20231020-pages-articles-multistream-index16.txt-p17460153p18960152.bz2',\n",
              "  ['4.3', 'MB']),\n",
              " ('enwiki-20231020-pages-articles-multistream16.xml-p18960153p20460152.bz2',\n",
              "  ['337.8', 'MB']),\n",
              " ('enwiki-20231020-pages-articles-multistream-index16.txt-p18960153p20460152.bz2',\n",
              "  ['4.3', 'MB']),\n",
              " ('enwiki-20231020-pages-articles-multistream16.xml-p20460153p20570392.bz2',\n",
              "  ['24.6', 'MB']),\n",
              " ('enwiki-20231020-pages-articles-multistream-index16.txt-p20460153p20570392.bz2',\n",
              "  ['285', 'KB']),\n",
              " ('enwiki-20231020-pages-articles-multistream17.xml-p20570393p22070392.bz2',\n",
              "  ['375.1', 'MB']),\n",
              " ('enwiki-20231020-pages-articles-multistream-index17.txt-p20570393p22070392.bz2',\n",
              "  ['4.5', 'MB']),\n",
              " ('enwiki-20231020-pages-articles-multistream17.xml-p22070393p23570392.bz2',\n",
              "  ['386.7', 'MB']),\n",
              " ('enwiki-20231020-pages-articles-multistream-index17.txt-p22070393p23570392.bz2',\n",
              "  ['5.0', 'MB']),\n",
              " ('enwiki-20231020-pages-articles-multistream17.xml-p23570393p23716197.bz2',\n",
              "  ['42.9', 'MB']),\n",
              " ('enwiki-20231020-pages-articles-multistream-index17.txt-p23570393p23716197.bz2',\n",
              "  ['558', 'KB']),\n",
              " ('enwiki-20231020-pages-articles-multistream18.xml-p23716198p25216197.bz2',\n",
              "  ['400.1', 'MB']),\n",
              " ('enwiki-20231020-pages-articles-multistream-index18.txt-p23716198p25216197.bz2',\n",
              "  ['4.8', 'MB']),\n",
              " ('enwiki-20231020-pages-articles-multistream18.xml-p25216198p26716197.bz2',\n",
              "  ['366.8', 'MB']),\n",
              " ('enwiki-20231020-pages-articles-multistream-index18.txt-p25216198p26716197.bz2',\n",
              "  ['4.4', 'MB']),\n",
              " ('enwiki-20231020-pages-articles-multistream18.xml-p26716198p27121850.bz2',\n",
              "  ['94.0', 'MB']),\n",
              " ('enwiki-20231020-pages-articles-multistream-index18.txt-p26716198p27121850.bz2',\n",
              "  ['1.3', 'MB']),\n",
              " ('enwiki-20231020-pages-articles-multistream19.xml-p27121851p28621850.bz2',\n",
              "  ['360.1', 'MB']),\n",
              " ('enwiki-20231020-pages-articles-multistream-index19.txt-p27121851p28621850.bz2',\n",
              "  ['5.1', 'MB']),\n",
              " ('enwiki-20231020-pages-articles-multistream19.xml-p28621851p30121850.bz2',\n",
              "  ['317.0', 'MB']),\n",
              " ('enwiki-20231020-pages-articles-multistream-index19.txt-p28621851p30121850.bz2',\n",
              "  ['4.8', 'MB']),\n",
              " ('enwiki-20231020-pages-articles-multistream19.xml-p30121851p31308442.bz2',\n",
              "  ['298.7', 'MB']),\n",
              " ('enwiki-20231020-pages-articles-multistream-index19.txt-p30121851p31308442.bz2',\n",
              "  ['3.5', 'MB']),\n",
              " ('enwiki-20231020-pages-articles-multistream20.xml-p31308443p32808442.bz2',\n",
              "  ['403.6', 'MB']),\n",
              " ('enwiki-20231020-pages-articles-multistream-index20.txt-p31308443p32808442.bz2',\n",
              "  ['5.0', 'MB']),\n",
              " ('enwiki-20231020-pages-articles-multistream20.xml-p32808443p34308442.bz2',\n",
              "  ['370.5', 'MB']),\n",
              " ('enwiki-20231020-pages-articles-multistream-index20.txt-p32808443p34308442.bz2',\n",
              "  ['4.7', 'MB']),\n",
              " ('enwiki-20231020-pages-articles-multistream20.xml-p34308443p35522432.bz2',\n",
              "  ['272.9', 'MB']),\n",
              " ('enwiki-20231020-pages-articles-multistream-index20.txt-p34308443p35522432.bz2',\n",
              "  ['3.7', 'MB']),\n",
              " ('enwiki-20231020-pages-articles-multistream21.xml-p35522433p37022432.bz2',\n",
              "  ['376.8', 'MB']),\n",
              " ('enwiki-20231020-pages-articles-multistream-index21.txt-p35522433p37022432.bz2',\n",
              "  ['4.9', 'MB']),\n",
              " ('enwiki-20231020-pages-articles-multistream21.xml-p37022433p38522432.bz2',\n",
              "  ['365.0', 'MB']),\n",
              " ('enwiki-20231020-pages-articles-multistream-index21.txt-p37022433p38522432.bz2',\n",
              "  ['4.8', 'MB']),\n",
              " ('enwiki-20231020-pages-articles-multistream21.xml-p38522433p39996245.bz2',\n",
              "  ['369.2', 'MB']),\n",
              " ('enwiki-20231020-pages-articles-multistream-index21.txt-p38522433p39996245.bz2',\n",
              "  ['4.8', 'MB']),\n",
              " ('enwiki-20231020-pages-articles-multistream22.xml-p39996246p41496245.bz2',\n",
              "  ['362.8', 'MB']),\n",
              " ('enwiki-20231020-pages-articles-multistream-index22.txt-p39996246p41496245.bz2',\n",
              "  ['4.7', 'MB']),\n",
              " ('enwiki-20231020-pages-articles-multistream22.xml-p41496246p42996245.bz2',\n",
              "  ['373.0', 'MB']),\n",
              " ('enwiki-20231020-pages-articles-multistream-index22.txt-p41496246p42996245.bz2',\n",
              "  ['4.8', 'MB']),\n",
              " ('enwiki-20231020-pages-articles-multistream22.xml-p42996246p44496245.bz2',\n",
              "  ['378.5', 'MB']),\n",
              " ('enwiki-20231020-pages-articles-multistream-index22.txt-p42996246p44496245.bz2',\n",
              "  ['5.2', 'MB']),\n",
              " ('enwiki-20231020-pages-articles-multistream22.xml-p44496246p44788941.bz2',\n",
              "  ['59.7', 'MB']),\n",
              " ('enwiki-20231020-pages-articles-multistream-index22.txt-p44496246p44788941.bz2',\n",
              "  ['825', 'KB']),\n",
              " ('enwiki-20231020-pages-articles-multistream23.xml-p44788942p46288941.bz2',\n",
              "  ['243.0', 'MB']),\n",
              " ('enwiki-20231020-pages-articles-multistream-index23.txt-p44788942p46288941.bz2',\n",
              "  ['3.1', 'MB']),\n",
              " ('enwiki-20231020-pages-articles-multistream23.xml-p46288942p47788941.bz2',\n",
              "  ['389.1', 'MB']),\n",
              " ('enwiki-20231020-pages-articles-multistream-index23.txt-p46288942p47788941.bz2',\n",
              "  ['5.2', 'MB']),\n",
              " ('enwiki-20231020-pages-articles-multistream23.xml-p47788942p49288941.bz2',\n",
              "  ['324.9', 'MB']),\n",
              " ('enwiki-20231020-pages-articles-multistream-index23.txt-p47788942p49288941.bz2',\n",
              "  ['4.3', 'MB']),\n",
              " ('enwiki-20231020-pages-articles-multistream23.xml-p49288942p50564553.bz2',\n",
              "  ['256.4', 'MB']),\n",
              " ('enwiki-20231020-pages-articles-multistream-index23.txt-p49288942p50564553.bz2',\n",
              "  ['4.1', 'MB']),\n",
              " ('enwiki-20231020-pages-articles-multistream24.xml-p50564554p52064553.bz2',\n",
              "  ['349.7', 'MB']),\n",
              " ('enwiki-20231020-pages-articles-multistream-index24.txt-p50564554p52064553.bz2',\n",
              "  ['4.9', 'MB']),\n",
              " ('enwiki-20231020-pages-articles-multistream24.xml-p52064554p53564553.bz2',\n",
              "  ['350.0', 'MB']),\n",
              " ('enwiki-20231020-pages-articles-multistream-index24.txt-p52064554p53564553.bz2',\n",
              "  ['4.8', 'MB']),\n",
              " ('enwiki-20231020-pages-articles-multistream24.xml-p53564554p55064553.bz2',\n",
              "  ['334.8', 'MB']),\n",
              " ('enwiki-20231020-pages-articles-multistream-index24.txt-p53564554p55064553.bz2',\n",
              "  ['4.7', 'MB']),\n",
              " ('enwiki-20231020-pages-articles-multistream24.xml-p55064554p56564553.bz2',\n",
              "  ['351.9', 'MB']),\n",
              " ('enwiki-20231020-pages-articles-multistream-index24.txt-p55064554p56564553.bz2',\n",
              "  ['5.1', 'MB']),\n",
              " ('enwiki-20231020-pages-articles-multistream24.xml-p56564554p57025655.bz2',\n",
              "  ['111.0', 'MB']),\n",
              " ('enwiki-20231020-pages-articles-multistream-index24.txt-p56564554p57025655.bz2',\n",
              "  ['1.5', 'MB']),\n",
              " ('enwiki-20231020-pages-articles-multistream25.xml-p57025656p58525655.bz2',\n",
              "  ['363.3', 'MB']),\n",
              " ('enwiki-20231020-pages-articles-multistream-index25.txt-p57025656p58525655.bz2',\n",
              "  ['4.8', 'MB']),\n",
              " ('enwiki-20231020-pages-articles-multistream25.xml-p58525656p60025655.bz2',\n",
              "  ['326.8', 'MB']),\n",
              " ('enwiki-20231020-pages-articles-multistream-index25.txt-p58525656p60025655.bz2',\n",
              "  ['4.9', 'MB']),\n",
              " ('enwiki-20231020-pages-articles-multistream25.xml-p60025656p61525655.bz2',\n",
              "  ['363.3', 'MB']),\n",
              " ('enwiki-20231020-pages-articles-multistream-index25.txt-p60025656p61525655.bz2',\n",
              "  ['4.9', 'MB']),\n",
              " ('enwiki-20231020-pages-articles-multistream25.xml-p61525656p62585850.bz2',\n",
              "  ['250.7', 'MB']),\n",
              " ('enwiki-20231020-pages-articles-multistream-index25.txt-p61525656p62585850.bz2',\n",
              "  ['3.3', 'MB']),\n",
              " ('enwiki-20231020-pages-articles-multistream26.xml-p62585851p63975909.bz2',\n",
              "  ['363.9', 'MB']),\n",
              " ('enwiki-20231020-pages-articles-multistream-index26.txt-p62585851p63975909.bz2',\n",
              "  ['4.8', 'MB']),\n",
              " ('enwiki-20231020-pages-articles-multistream27.xml-p63975910p65475909.bz2',\n",
              "  ['330.7', 'MB']),\n",
              " ('enwiki-20231020-pages-articles-multistream-index27.txt-p63975910p65475909.bz2',\n",
              "  ['4.4', 'MB']),\n",
              " ('enwiki-20231020-pages-articles-multistream27.xml-p65475910p66975909.bz2',\n",
              "  ['358.4', 'MB']),\n",
              " ('enwiki-20231020-pages-articles-multistream-index27.txt-p65475910p66975909.bz2',\n",
              "  ['4.6', 'MB']),\n",
              " ('enwiki-20231020-pages-articles-multistream27.xml-p66975910p68475909.bz2',\n",
              "  ['380.0', 'MB']),\n",
              " ('enwiki-20231020-pages-articles-multistream-index27.txt-p66975910p68475909.bz2',\n",
              "  ['5.0', 'MB']),\n",
              " ('enwiki-20231020-pages-articles-multistream27.xml-p68475910p69975909.bz2',\n",
              "  ['375.0', 'MB']),\n",
              " ('enwiki-20231020-pages-articles-multistream-index27.txt-p68475910p69975909.bz2',\n",
              "  ['5.2', 'MB']),\n",
              " ('enwiki-20231020-pages-articles-multistream27.xml-p69975910p71475909.bz2',\n",
              "  ['366.5', 'MB']),\n",
              " ('enwiki-20231020-pages-articles-multistream-index27.txt-p69975910p71475909.bz2',\n",
              "  ['5.1', 'MB']),\n",
              " ('enwiki-20231020-pages-articles-multistream27.xml-p71475910p72975909.bz2',\n",
              "  ['348.7', 'MB']),\n",
              " ('enwiki-20231020-pages-articles-multistream-index27.txt-p71475910p72975909.bz2',\n",
              "  ['4.9', 'MB']),\n",
              " ('enwiki-20231020-pages-articles-multistream27.xml-p72975910p74475909.bz2',\n",
              "  ['354.0', 'MB']),\n",
              " ('enwiki-20231020-pages-articles-multistream-index27.txt-p72975910p74475909.bz2',\n",
              "  ['5.1', 'MB']),\n",
              " ('enwiki-20231020-pages-articles-multistream27.xml-p74475910p75105778.bz2',\n",
              "  ['161.5', 'MB']),\n",
              " ('enwiki-20231020-pages-articles-multistream-index27.txt-p74475910p75105778.bz2',\n",
              "  ['2.5', 'MB']),\n",
              " ('enwiki-20231020-pages-articles.xml.bz2', ['19.9', 'GB']),\n",
              " ('enwiki-20231020-pages-articles1.xml-p1p41242.bz2', ['260.4', 'MB']),\n",
              " ('enwiki-20231020-pages-articles2.xml-p41243p151573.bz2', ['345.4', 'MB']),\n",
              " ('enwiki-20231020-pages-articles3.xml-p151574p311329.bz2', ['376.1', 'MB']),\n",
              " ('enwiki-20231020-pages-articles4.xml-p311330p558391.bz2', ['417.7', 'MB']),\n",
              " ('enwiki-20231020-pages-articles5.xml-p558392p958045.bz2', ['445.7', 'MB']),\n",
              " ('enwiki-20231020-pages-articles6.xml-p958046p1483661.bz2', ['476.6', 'MB']),\n",
              " ('enwiki-20231020-pages-articles7.xml-p1483662p2134111.bz2', ['486.8', 'MB']),\n",
              " ('enwiki-20231020-pages-articles8.xml-p2134112p2936260.bz2', ['495.1', 'MB']),\n",
              " ('enwiki-20231020-pages-articles9.xml-p2936261p4045402.bz2', ['532.5', 'MB']),\n",
              " ('enwiki-20231020-pages-articles10.xml-p4045403p5399366.bz2',\n",
              "  ['522.7', 'MB']),\n",
              " ('enwiki-20231020-pages-articles11.xml-p5399367p6899366.bz2',\n",
              "  ['503.7', 'MB']),\n",
              " ('enwiki-20231020-pages-articles11.xml-p6899367p7054859.bz2', ['48.2', 'MB']),\n",
              " ('enwiki-20231020-pages-articles12.xml-p7054860p8554859.bz2',\n",
              "  ['415.9', 'MB']),\n",
              " ('enwiki-20231020-pages-articles12.xml-p8554860p9172788.bz2',\n",
              "  ['167.9', 'MB']),\n",
              " ('enwiki-20231020-pages-articles13.xml-p9172789p10672788.bz2',\n",
              "  ['339.1', 'MB']),\n",
              " ('enwiki-20231020-pages-articles13.xml-p10672789p11659682.bz2',\n",
              "  ['234.8', 'MB']),\n",
              " ('enwiki-20231020-pages-articles14.xml-p11659683p13159682.bz2',\n",
              "  ['405.0', 'MB']),\n",
              " ('enwiki-20231020-pages-articles14.xml-p13159683p14324602.bz2',\n",
              "  ['278.6', 'MB']),\n",
              " ('enwiki-20231020-pages-articles15.xml-p14324603p15824602.bz2',\n",
              "  ['360.9', 'MB']),\n",
              " ('enwiki-20231020-pages-articles15.xml-p15824603p17324602.bz2',\n",
              "  ['310.5', 'MB']),\n",
              " ('enwiki-20231020-pages-articles15.xml-p17324603p17460152.bz2',\n",
              "  ['28.6', 'MB']),\n",
              " ('enwiki-20231020-pages-articles16.xml-p17460153p18960152.bz2',\n",
              "  ['342.9', 'MB']),\n",
              " ('enwiki-20231020-pages-articles16.xml-p18960153p20460152.bz2',\n",
              "  ['318.1', 'MB']),\n",
              " ('enwiki-20231020-pages-articles16.xml-p20460153p20570392.bz2',\n",
              "  ['23.4', 'MB']),\n",
              " ('enwiki-20231020-pages-articles17.xml-p20570393p22070392.bz2',\n",
              "  ['354.6', 'MB']),\n",
              " ('enwiki-20231020-pages-articles17.xml-p22070393p23570392.bz2',\n",
              "  ['364.7', 'MB']),\n",
              " ('enwiki-20231020-pages-articles17.xml-p23570393p23716197.bz2',\n",
              "  ['40.5', 'MB']),\n",
              " ('enwiki-20231020-pages-articles18.xml-p23716198p25216197.bz2',\n",
              "  ['378.8', 'MB']),\n",
              " ('enwiki-20231020-pages-articles18.xml-p25216198p26716197.bz2',\n",
              "  ['347.5', 'MB']),\n",
              " ('enwiki-20231020-pages-articles18.xml-p26716198p27121850.bz2',\n",
              "  ['88.1', 'MB']),\n",
              " ('enwiki-20231020-pages-articles19.xml-p27121851p28621850.bz2',\n",
              "  ['337.8', 'MB']),\n",
              " ('enwiki-20231020-pages-articles19.xml-p28621851p30121850.bz2',\n",
              "  ['296.9', 'MB']),\n",
              " ('enwiki-20231020-pages-articles19.xml-p30121851p31308442.bz2',\n",
              "  ['284.2', 'MB']),\n",
              " ('enwiki-20231020-pages-articles20.xml-p31308443p32808442.bz2',\n",
              "  ['383.5', 'MB']),\n",
              " ('enwiki-20231020-pages-articles20.xml-p32808443p34308442.bz2',\n",
              "  ['349.9', 'MB']),\n",
              " ('enwiki-20231020-pages-articles20.xml-p34308443p35522432.bz2',\n",
              "  ['258.2', 'MB']),\n",
              " ('enwiki-20231020-pages-articles21.xml-p35522433p37022432.bz2',\n",
              "  ['354.2', 'MB']),\n",
              " ('enwiki-20231020-pages-articles21.xml-p37022433p38522432.bz2',\n",
              "  ['342.7', 'MB']),\n",
              " ('enwiki-20231020-pages-articles21.xml-p38522433p39996245.bz2',\n",
              "  ['347.7', 'MB']),\n",
              " ('enwiki-20231020-pages-articles22.xml-p39996246p41496245.bz2',\n",
              "  ['342.2', 'MB']),\n",
              " ('enwiki-20231020-pages-articles22.xml-p41496246p42996245.bz2',\n",
              "  ['352.4', 'MB']),\n",
              " ('enwiki-20231020-pages-articles22.xml-p42996246p44496245.bz2',\n",
              "  ['355.8', 'MB']),\n",
              " ('enwiki-20231020-pages-articles22.xml-p44496246p44788941.bz2',\n",
              "  ['56.3', 'MB']),\n",
              " ('enwiki-20231020-pages-articles23.xml-p44788942p46288941.bz2',\n",
              "  ['229.8', 'MB']),\n",
              " ('enwiki-20231020-pages-articles23.xml-p46288942p47788941.bz2',\n",
              "  ['366.2', 'MB']),\n",
              " ('enwiki-20231020-pages-articles23.xml-p47788942p49288941.bz2',\n",
              "  ['306.8', 'MB']),\n",
              " ('enwiki-20231020-pages-articles23.xml-p49288942p50564553.bz2',\n",
              "  ['238.7', 'MB']),\n",
              " ('enwiki-20231020-pages-articles24.xml-p50564554p52064553.bz2',\n",
              "  ['328.8', 'MB']),\n",
              " ('enwiki-20231020-pages-articles24.xml-p52064554p53564553.bz2',\n",
              "  ['329.5', 'MB']),\n",
              " ('enwiki-20231020-pages-articles24.xml-p53564554p55064553.bz2',\n",
              "  ['314.3', 'MB']),\n",
              " ('enwiki-20231020-pages-articles24.xml-p55064554p56564553.bz2',\n",
              "  ['330.0', 'MB']),\n",
              " ('enwiki-20231020-pages-articles24.xml-p56564554p57025655.bz2',\n",
              "  ['104.4', 'MB']),\n",
              " ('enwiki-20231020-pages-articles25.xml-p57025656p58525655.bz2',\n",
              "  ['344.0', 'MB']),\n",
              " ('enwiki-20231020-pages-articles25.xml-p58525656p60025655.bz2',\n",
              "  ['308.3', 'MB']),\n",
              " ('enwiki-20231020-pages-articles25.xml-p60025656p61525655.bz2',\n",
              "  ['343.6', 'MB']),\n",
              " ('enwiki-20231020-pages-articles25.xml-p61525656p62585850.bz2',\n",
              "  ['237.7', 'MB']),\n",
              " ('enwiki-20231020-pages-articles26.xml-p62585851p63975909.bz2',\n",
              "  ['345.5', 'MB']),\n",
              " ('enwiki-20231020-pages-articles27.xml-p63975910p65475909.bz2',\n",
              "  ['312.6', 'MB']),\n",
              " ('enwiki-20231020-pages-articles27.xml-p65475910p66975909.bz2',\n",
              "  ['340.6', 'MB']),\n",
              " ('enwiki-20231020-pages-articles27.xml-p66975910p68475909.bz2',\n",
              "  ['359.1', 'MB']),\n",
              " ('enwiki-20231020-pages-articles27.xml-p68475910p69975909.bz2',\n",
              "  ['354.7', 'MB']),\n",
              " ('enwiki-20231020-pages-articles27.xml-p69975910p71475909.bz2',\n",
              "  ['346.9', 'MB']),\n",
              " ('enwiki-20231020-pages-articles27.xml-p71475910p72975909.bz2',\n",
              "  ['329.4', 'MB']),\n",
              " ('enwiki-20231020-pages-articles27.xml-p72975910p74475909.bz2',\n",
              "  ['332.6', 'MB']),\n",
              " ('enwiki-20231020-pages-articles27.xml-p74475910p75105778.bz2',\n",
              "  ['150.1', 'MB'])]"
            ]
          },
          "metadata": {},
          "execution_count": 113
        }
      ]
    },
    {
      "cell_type": "markdown",
      "source": [
        "Phân vùng tệp, lựa chọn tệp có đuôi ``` xml-p ```\n",
        "\n",
        "\n",
        "\n"
      ],
      "metadata": {
        "id": "0ig6U9y5gaHS"
      }
    },
    {
      "cell_type": "code",
      "source": [
        "files_to_download = [file[0] for file in files if '.xml-p' in file[0]]\n",
        "files_to_download[-5:]"
      ],
      "metadata": {
        "colab": {
          "base_uri": "https://localhost:8080/"
        },
        "id": "ljif73ozeMBD",
        "outputId": "4ec978bd-305e-4393-90e4-7d73bb5a3f49"
      },
      "execution_count": null,
      "outputs": [
        {
          "output_type": "execute_result",
          "data": {
            "text/plain": [
              "['enwiki-20231020-pages-articles27.xml-p68475910p69975909.bz2',\n",
              " 'enwiki-20231020-pages-articles27.xml-p69975910p71475909.bz2',\n",
              " 'enwiki-20231020-pages-articles27.xml-p71475910p72975909.bz2',\n",
              " 'enwiki-20231020-pages-articles27.xml-p72975910p74475909.bz2',\n",
              " 'enwiki-20231020-pages-articles27.xml-p74475910p75105778.bz2']"
            ]
          },
          "metadata": {},
          "execution_count": 114
        }
      ]
    },
    {
      "cell_type": "markdown",
      "source": [
        "### Download Wikipedia Data"
      ],
      "metadata": {
        "id": "Gq3PrZ-FeSAK"
      }
    },
    {
      "cell_type": "code",
      "source": [
        "!pip install keras"
      ],
      "metadata": {
        "colab": {
          "base_uri": "https://localhost:8080/"
        },
        "id": "fInkgFaziNuz",
        "outputId": "5439a125-cc26-4055-83fa-4d2e44848617"
      },
      "execution_count": null,
      "outputs": [
        {
          "output_type": "stream",
          "name": "stdout",
          "text": [
            "Requirement already satisfied: keras in /usr/local/lib/python3.10/dist-packages (2.14.0)\n"
          ]
        }
      ]
    },
    {
      "cell_type": "code",
      "source": [
        "import sys\n",
        "from keras.utils import get_file\n",
        "\n",
        "keras_home = '/content/sample_data/dataset/'\n",
        "print(keras_home)"
      ],
      "metadata": {
        "id": "C-24OlpFeU4v",
        "colab": {
          "base_uri": "https://localhost:8080/"
        },
        "outputId": "90676b6a-bb68-418d-8e5b-f4c90c3f2ba3"
      },
      "execution_count": null,
      "outputs": [
        {
          "output_type": "stream",
          "name": "stdout",
          "text": [
            "/content/sample_data/dataset/\n"
          ]
        }
      ]
    },
    {
      "cell_type": "code",
      "source": [
        "for file in files_to_download:\n",
        "    path = keras_home + file\n",
        "\n",
        "    # Check to see if the path exists (if the file is already downloaded)\n",
        "    if not os.path.exists(keras_home + file):\n",
        "        # If not, download the file\n",
        "        data_paths.append(get_file(file, dump_url))"
      ],
      "metadata": {
        "id": "J_XZthnVw4Ii"
      },
      "execution_count": null,
      "outputs": []
    },
    {
      "cell_type": "code",
      "source": [
        "data_paths = []\n",
        "file_info = []\n",
        "\n",
        "# Iterate through each file\n",
        "for file in files_to_download:\n",
        "    path = keras_home + file\n",
        "\n",
        "    # Check to see if the path exists (if the file is already downloaded)\n",
        "    if not os.path.exists(keras_home + file):\n",
        "        print('Downloading')\n",
        "        # If not, download the file\n",
        "        data_paths.append(get_file(file, dump_url))\n",
        "        # Find the file size in MB\n",
        "        file_size = os.stat(path).st_size / 1e6\n",
        "\n",
        "        # Find the number of articles\n",
        "        file_articles = int(file.split('p')[-1].split('.')[-2]) - int(file.split('p')[-2])\n",
        "        file_info.append((file, file_size, file_articles))\n",
        "\n",
        "    # If the file is already downloaded find some information\n",
        "    else:\n",
        "        data_paths.append(path)\n",
        "        # Find the file size in MB\n",
        "        file_size = os.stat(path).st_size / 1e6\n",
        "\n",
        "        # Find the number of articles\n",
        "        file_number = int(file.split('p')[-1].split('.')[-2]) - int(file.split('p')[-2])\n",
        "        file_info.append((file.split('-')[-1], file_size, file_number))"
      ],
      "metadata": {
        "colab": {
          "base_uri": "https://localhost:8080/",
          "height": 287
        },
        "id": "ZZBoiPI_n6wB",
        "outputId": "43076268-1685-4250-d6ae-99ac82b3aae0"
      },
      "execution_count": null,
      "outputs": [
        {
          "output_type": "stream",
          "name": "stdout",
          "text": [
            "Downloading\n"
          ]
        },
        {
          "output_type": "error",
          "ename": "FileNotFoundError",
          "evalue": "ignored",
          "traceback": [
            "\u001b[0;31m---------------------------------------------------------------------------\u001b[0m",
            "\u001b[0;31mFileNotFoundError\u001b[0m                         Traceback (most recent call last)",
            "\u001b[0;32m<ipython-input-125-cfef61c59ce1>\u001b[0m in \u001b[0;36m<cell line: 5>\u001b[0;34m()\u001b[0m\n\u001b[1;32m     12\u001b[0m         \u001b[0mdata_paths\u001b[0m\u001b[0;34m.\u001b[0m\u001b[0mappend\u001b[0m\u001b[0;34m(\u001b[0m\u001b[0mget_file\u001b[0m\u001b[0;34m(\u001b[0m\u001b[0mfile\u001b[0m\u001b[0;34m,\u001b[0m \u001b[0mdump_url\u001b[0m\u001b[0;34m)\u001b[0m\u001b[0;34m)\u001b[0m\u001b[0;34m\u001b[0m\u001b[0;34m\u001b[0m\u001b[0m\n\u001b[1;32m     13\u001b[0m         \u001b[0;31m# Find the file size in MB\u001b[0m\u001b[0;34m\u001b[0m\u001b[0;34m\u001b[0m\u001b[0m\n\u001b[0;32m---> 14\u001b[0;31m         \u001b[0mfile_size\u001b[0m \u001b[0;34m=\u001b[0m \u001b[0mos\u001b[0m\u001b[0;34m.\u001b[0m\u001b[0mstat\u001b[0m\u001b[0;34m(\u001b[0m\u001b[0mpath\u001b[0m\u001b[0;34m)\u001b[0m\u001b[0;34m.\u001b[0m\u001b[0mst_size\u001b[0m \u001b[0;34m/\u001b[0m \u001b[0;36m1e6\u001b[0m\u001b[0;34m\u001b[0m\u001b[0;34m\u001b[0m\u001b[0m\n\u001b[0m\u001b[1;32m     15\u001b[0m \u001b[0;34m\u001b[0m\u001b[0m\n\u001b[1;32m     16\u001b[0m         \u001b[0;31m# Find the number of articles\u001b[0m\u001b[0;34m\u001b[0m\u001b[0;34m\u001b[0m\u001b[0m\n",
            "\u001b[0;31mFileNotFoundError\u001b[0m: [Errno 2] No such file or directory: '/content/sample_data/dataset/enwiki-20231020-pages-articles-multistream2.xml-p41243p151573.bz2'"
          ]
        }
      ]
    },
    {
      "cell_type": "code",
      "source": [
        "sorted(file_info, key = lambda x: x[1], reverse = True)[:5]"
      ],
      "metadata": {
        "colab": {
          "base_uri": "https://localhost:8080/"
        },
        "id": "dUXMawpFeiTA",
        "outputId": "e04a8dd5-7594-4881-9490-9909c058d2f8"
      },
      "execution_count": null,
      "outputs": [
        {
          "output_type": "execute_result",
          "data": {
            "text/plain": [
              "[]"
            ]
          },
          "metadata": {},
          "execution_count": 9
        }
      ]
    },
    {
      "cell_type": "code",
      "source": [
        "sorted(file_info, key = lambda x: x[2], reverse = True)[:5]"
      ],
      "metadata": {
        "colab": {
          "base_uri": "https://localhost:8080/"
        },
        "id": "FsusZ6RLejbU",
        "outputId": "ea7558b0-0cbf-470c-d40d-1ddadcdcc9a9"
      },
      "execution_count": null,
      "outputs": [
        {
          "output_type": "execute_result",
          "data": {
            "text/plain": [
              "[]"
            ]
          },
          "metadata": {},
          "execution_count": 10
        }
      ]
    },
    {
      "cell_type": "code",
      "source": [
        "print(f'There are {len(file_info)} partitions.')"
      ],
      "metadata": {
        "colab": {
          "base_uri": "https://localhost:8080/"
        },
        "id": "-UTSjojTen1R",
        "outputId": "502548fe-6e7d-42d3-c2b3-130471688b86"
      },
      "execution_count": null,
      "outputs": [
        {
          "output_type": "stream",
          "name": "stdout",
          "text": [
            "There are 0 partitions.\n"
          ]
        }
      ]
    },
    {
      "cell_type": "code",
      "source": [
        "import pandas as pd\n",
        "import matplotlib.pyplot as plt\n",
        "%matplotlib inline\n",
        "file_df = pd.DataFrame(file_info, columns = ['file', 'size (MB)', 'articles']).set_index('file')\n",
        "file_df['size (MB)'].plot.bar(color = 'red', figsize = (12, 6));"
      ],
      "metadata": {
        "colab": {
          "base_uri": "https://localhost:8080/",
          "height": 364
        },
        "id": "-PL1JadXep-g",
        "outputId": "2b2a52b0-d382-403b-aeaf-54d9e746835e"
      },
      "execution_count": null,
      "outputs": [
        {
          "output_type": "error",
          "ename": "TypeError",
          "evalue": "ignored",
          "traceback": [
            "\u001b[0;31m---------------------------------------------------------------------------\u001b[0m",
            "\u001b[0;31mTypeError\u001b[0m                                 Traceback (most recent call last)",
            "\u001b[0;32m<ipython-input-12-4c54a67165b7>\u001b[0m in \u001b[0;36m<cell line: 5>\u001b[0;34m()\u001b[0m\n\u001b[1;32m      3\u001b[0m \u001b[0mget_ipython\u001b[0m\u001b[0;34m(\u001b[0m\u001b[0;34m)\u001b[0m\u001b[0;34m.\u001b[0m\u001b[0mrun_line_magic\u001b[0m\u001b[0;34m(\u001b[0m\u001b[0;34m'matplotlib'\u001b[0m\u001b[0;34m,\u001b[0m \u001b[0;34m'inline'\u001b[0m\u001b[0;34m)\u001b[0m\u001b[0;34m\u001b[0m\u001b[0;34m\u001b[0m\u001b[0m\n\u001b[1;32m      4\u001b[0m \u001b[0mfile_df\u001b[0m \u001b[0;34m=\u001b[0m \u001b[0mpd\u001b[0m\u001b[0;34m.\u001b[0m\u001b[0mDataFrame\u001b[0m\u001b[0;34m(\u001b[0m\u001b[0mfile_info\u001b[0m\u001b[0;34m,\u001b[0m \u001b[0mcolumns\u001b[0m \u001b[0;34m=\u001b[0m \u001b[0;34m[\u001b[0m\u001b[0;34m'file'\u001b[0m\u001b[0;34m,\u001b[0m \u001b[0;34m'size (MB)'\u001b[0m\u001b[0;34m,\u001b[0m \u001b[0;34m'articles'\u001b[0m\u001b[0;34m]\u001b[0m\u001b[0;34m)\u001b[0m\u001b[0;34m.\u001b[0m\u001b[0mset_index\u001b[0m\u001b[0;34m(\u001b[0m\u001b[0;34m'file'\u001b[0m\u001b[0;34m)\u001b[0m\u001b[0;34m\u001b[0m\u001b[0;34m\u001b[0m\u001b[0m\n\u001b[0;32m----> 5\u001b[0;31m \u001b[0mfile_df\u001b[0m\u001b[0;34m[\u001b[0m\u001b[0;34m'size (MB)'\u001b[0m\u001b[0;34m]\u001b[0m\u001b[0;34m.\u001b[0m\u001b[0mplot\u001b[0m\u001b[0;34m.\u001b[0m\u001b[0mbar\u001b[0m\u001b[0;34m(\u001b[0m\u001b[0mcolor\u001b[0m \u001b[0;34m=\u001b[0m \u001b[0;34m'red'\u001b[0m\u001b[0;34m,\u001b[0m \u001b[0mfigsize\u001b[0m \u001b[0;34m=\u001b[0m \u001b[0;34m(\u001b[0m\u001b[0;36m12\u001b[0m\u001b[0;34m,\u001b[0m \u001b[0;36m6\u001b[0m\u001b[0;34m)\u001b[0m\u001b[0;34m)\u001b[0m\u001b[0;34m;\u001b[0m\u001b[0;34m\u001b[0m\u001b[0;34m\u001b[0m\u001b[0m\n\u001b[0m",
            "\u001b[0;32m/usr/local/lib/python3.10/dist-packages/pandas/plotting/_core.py\u001b[0m in \u001b[0;36mbar\u001b[0;34m(self, x, y, **kwargs)\u001b[0m\n\u001b[1;32m   1157\u001b[0m         \u001b[0mother\u001b[0m \u001b[0maxis\u001b[0m \u001b[0mrepresents\u001b[0m \u001b[0ma\u001b[0m \u001b[0mmeasured\u001b[0m \u001b[0mvalue\u001b[0m\u001b[0;34m.\u001b[0m\u001b[0;34m\u001b[0m\u001b[0;34m\u001b[0m\u001b[0m\n\u001b[1;32m   1158\u001b[0m         \"\"\"\n\u001b[0;32m-> 1159\u001b[0;31m         \u001b[0;32mreturn\u001b[0m \u001b[0mself\u001b[0m\u001b[0;34m(\u001b[0m\u001b[0mkind\u001b[0m\u001b[0;34m=\u001b[0m\u001b[0;34m\"bar\"\u001b[0m\u001b[0;34m,\u001b[0m \u001b[0mx\u001b[0m\u001b[0;34m=\u001b[0m\u001b[0mx\u001b[0m\u001b[0;34m,\u001b[0m \u001b[0my\u001b[0m\u001b[0;34m=\u001b[0m\u001b[0my\u001b[0m\u001b[0;34m,\u001b[0m \u001b[0;34m**\u001b[0m\u001b[0mkwargs\u001b[0m\u001b[0;34m)\u001b[0m\u001b[0;34m\u001b[0m\u001b[0;34m\u001b[0m\u001b[0m\n\u001b[0m\u001b[1;32m   1160\u001b[0m \u001b[0;34m\u001b[0m\u001b[0m\n\u001b[1;32m   1161\u001b[0m     @Appender(\n",
            "\u001b[0;32m/usr/local/lib/python3.10/dist-packages/pandas/plotting/_core.py\u001b[0m in \u001b[0;36m__call__\u001b[0;34m(self, *args, **kwargs)\u001b[0m\n\u001b[1;32m    998\u001b[0m                     \u001b[0mdata\u001b[0m\u001b[0;34m.\u001b[0m\u001b[0mcolumns\u001b[0m \u001b[0;34m=\u001b[0m \u001b[0mlabel_name\u001b[0m\u001b[0;34m\u001b[0m\u001b[0;34m\u001b[0m\u001b[0m\n\u001b[1;32m    999\u001b[0m \u001b[0;34m\u001b[0m\u001b[0m\n\u001b[0;32m-> 1000\u001b[0;31m         \u001b[0;32mreturn\u001b[0m \u001b[0mplot_backend\u001b[0m\u001b[0;34m.\u001b[0m\u001b[0mplot\u001b[0m\u001b[0;34m(\u001b[0m\u001b[0mdata\u001b[0m\u001b[0;34m,\u001b[0m \u001b[0mkind\u001b[0m\u001b[0;34m=\u001b[0m\u001b[0mkind\u001b[0m\u001b[0;34m,\u001b[0m \u001b[0;34m**\u001b[0m\u001b[0mkwargs\u001b[0m\u001b[0;34m)\u001b[0m\u001b[0;34m\u001b[0m\u001b[0;34m\u001b[0m\u001b[0m\n\u001b[0m\u001b[1;32m   1001\u001b[0m \u001b[0;34m\u001b[0m\u001b[0m\n\u001b[1;32m   1002\u001b[0m     \u001b[0m__call__\u001b[0m\u001b[0;34m.\u001b[0m\u001b[0m__doc__\u001b[0m \u001b[0;34m=\u001b[0m \u001b[0m__doc__\u001b[0m\u001b[0;34m\u001b[0m\u001b[0;34m\u001b[0m\u001b[0m\n",
            "\u001b[0;32m/usr/local/lib/python3.10/dist-packages/pandas/plotting/_matplotlib/__init__.py\u001b[0m in \u001b[0;36mplot\u001b[0;34m(data, kind, **kwargs)\u001b[0m\n\u001b[1;32m     69\u001b[0m             \u001b[0mkwargs\u001b[0m\u001b[0;34m[\u001b[0m\u001b[0;34m\"ax\"\u001b[0m\u001b[0;34m]\u001b[0m \u001b[0;34m=\u001b[0m \u001b[0mgetattr\u001b[0m\u001b[0;34m(\u001b[0m\u001b[0max\u001b[0m\u001b[0;34m,\u001b[0m \u001b[0;34m\"left_ax\"\u001b[0m\u001b[0;34m,\u001b[0m \u001b[0max\u001b[0m\u001b[0;34m)\u001b[0m\u001b[0;34m\u001b[0m\u001b[0;34m\u001b[0m\u001b[0m\n\u001b[1;32m     70\u001b[0m     \u001b[0mplot_obj\u001b[0m \u001b[0;34m=\u001b[0m \u001b[0mPLOT_CLASSES\u001b[0m\u001b[0;34m[\u001b[0m\u001b[0mkind\u001b[0m\u001b[0;34m]\u001b[0m\u001b[0;34m(\u001b[0m\u001b[0mdata\u001b[0m\u001b[0;34m,\u001b[0m \u001b[0;34m**\u001b[0m\u001b[0mkwargs\u001b[0m\u001b[0;34m)\u001b[0m\u001b[0;34m\u001b[0m\u001b[0;34m\u001b[0m\u001b[0m\n\u001b[0;32m---> 71\u001b[0;31m     \u001b[0mplot_obj\u001b[0m\u001b[0;34m.\u001b[0m\u001b[0mgenerate\u001b[0m\u001b[0;34m(\u001b[0m\u001b[0;34m)\u001b[0m\u001b[0;34m\u001b[0m\u001b[0;34m\u001b[0m\u001b[0m\n\u001b[0m\u001b[1;32m     72\u001b[0m     \u001b[0mplot_obj\u001b[0m\u001b[0;34m.\u001b[0m\u001b[0mdraw\u001b[0m\u001b[0;34m(\u001b[0m\u001b[0;34m)\u001b[0m\u001b[0;34m\u001b[0m\u001b[0;34m\u001b[0m\u001b[0m\n\u001b[1;32m     73\u001b[0m     \u001b[0;32mreturn\u001b[0m \u001b[0mplot_obj\u001b[0m\u001b[0;34m.\u001b[0m\u001b[0mresult\u001b[0m\u001b[0;34m\u001b[0m\u001b[0;34m\u001b[0m\u001b[0m\n",
            "\u001b[0;32m/usr/local/lib/python3.10/dist-packages/pandas/plotting/_matplotlib/core.py\u001b[0m in \u001b[0;36mgenerate\u001b[0;34m(self)\u001b[0m\n\u001b[1;32m    448\u001b[0m     \u001b[0;32mdef\u001b[0m \u001b[0mgenerate\u001b[0m\u001b[0;34m(\u001b[0m\u001b[0mself\u001b[0m\u001b[0;34m)\u001b[0m \u001b[0;34m->\u001b[0m \u001b[0;32mNone\u001b[0m\u001b[0;34m:\u001b[0m\u001b[0;34m\u001b[0m\u001b[0;34m\u001b[0m\u001b[0m\n\u001b[1;32m    449\u001b[0m         \u001b[0mself\u001b[0m\u001b[0;34m.\u001b[0m\u001b[0m_args_adjust\u001b[0m\u001b[0;34m(\u001b[0m\u001b[0;34m)\u001b[0m\u001b[0;34m\u001b[0m\u001b[0;34m\u001b[0m\u001b[0m\n\u001b[0;32m--> 450\u001b[0;31m         \u001b[0mself\u001b[0m\u001b[0;34m.\u001b[0m\u001b[0m_compute_plot_data\u001b[0m\u001b[0;34m(\u001b[0m\u001b[0;34m)\u001b[0m\u001b[0;34m\u001b[0m\u001b[0;34m\u001b[0m\u001b[0m\n\u001b[0m\u001b[1;32m    451\u001b[0m         \u001b[0mself\u001b[0m\u001b[0;34m.\u001b[0m\u001b[0m_setup_subplots\u001b[0m\u001b[0;34m(\u001b[0m\u001b[0;34m)\u001b[0m\u001b[0;34m\u001b[0m\u001b[0;34m\u001b[0m\u001b[0m\n\u001b[1;32m    452\u001b[0m         \u001b[0mself\u001b[0m\u001b[0;34m.\u001b[0m\u001b[0m_make_plot\u001b[0m\u001b[0;34m(\u001b[0m\u001b[0;34m)\u001b[0m\u001b[0;34m\u001b[0m\u001b[0;34m\u001b[0m\u001b[0m\n",
            "\u001b[0;32m/usr/local/lib/python3.10/dist-packages/pandas/plotting/_matplotlib/core.py\u001b[0m in \u001b[0;36m_compute_plot_data\u001b[0;34m(self)\u001b[0m\n\u001b[1;32m    633\u001b[0m         \u001b[0;31m# no non-numeric frames or series allowed\u001b[0m\u001b[0;34m\u001b[0m\u001b[0;34m\u001b[0m\u001b[0m\n\u001b[1;32m    634\u001b[0m         \u001b[0;32mif\u001b[0m \u001b[0mis_empty\u001b[0m\u001b[0;34m:\u001b[0m\u001b[0;34m\u001b[0m\u001b[0;34m\u001b[0m\u001b[0m\n\u001b[0;32m--> 635\u001b[0;31m             \u001b[0;32mraise\u001b[0m \u001b[0mTypeError\u001b[0m\u001b[0;34m(\u001b[0m\u001b[0;34m\"no numeric data to plot\"\u001b[0m\u001b[0;34m)\u001b[0m\u001b[0;34m\u001b[0m\u001b[0;34m\u001b[0m\u001b[0m\n\u001b[0m\u001b[1;32m    636\u001b[0m \u001b[0;34m\u001b[0m\u001b[0m\n\u001b[1;32m    637\u001b[0m         \u001b[0mself\u001b[0m\u001b[0;34m.\u001b[0m\u001b[0mdata\u001b[0m \u001b[0;34m=\u001b[0m \u001b[0mnumeric_data\u001b[0m\u001b[0;34m.\u001b[0m\u001b[0mapply\u001b[0m\u001b[0;34m(\u001b[0m\u001b[0mself\u001b[0m\u001b[0;34m.\u001b[0m\u001b[0m_convert_to_ndarray\u001b[0m\u001b[0;34m)\u001b[0m\u001b[0;34m\u001b[0m\u001b[0;34m\u001b[0m\u001b[0m\n",
            "\u001b[0;31mTypeError\u001b[0m: no numeric data to plot"
          ]
        }
      ]
    }
  ]
}