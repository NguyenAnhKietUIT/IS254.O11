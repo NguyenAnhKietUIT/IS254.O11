{
  "cells": [
    {
      "cell_type": "markdown",
      "metadata": {
        "colab_type": "text",
        "id": "view-in-github"
      },
      "source": [
        "<a href=\"https://colab.research.google.com/github/NguyenAnhKietUIT/IS254.O11/blob/main/Downloading_and_Parsing_Wikipedia_Articles.ipynb\" target=\"_parent\"><img src=\"https://colab.research.google.com/assets/colab-badge.svg\" alt=\"Open In Colab\"/></a>"
      ]
    },
    {
      "cell_type": "code",
      "execution_count": 1,
      "metadata": {
        "colab": {
          "base_uri": "https://localhost:8080/"
        },
        "id": "odc8xzPE4BFq",
        "outputId": "d015e0df-346a-46d3-92e9-be9f56b5c36c"
      },
      "outputs": [
        {
          "name": "stdout",
          "output_type": "stream",
          "text": [
            "Mounted at /content/drive\n"
          ]
        }
      ],
      "source": [
        "from google.colab import drive\n",
        "drive.mount('/content/drive')"
      ]
    },
    {
      "cell_type": "code",
      "execution_count": 2,
      "metadata": {
        "id": "HfF6HX-rYdmM"
      },
      "outputs": [],
      "source": [
        "import requests\n",
        "\n",
        "# Parsing HTML\n",
        "from bs4 import BeautifulSoup\n",
        "\n",
        "# File system management\n",
        "import os"
      ]
    },
    {
      "cell_type": "code",
      "execution_count": 3,
      "metadata": {
        "colab": {
          "base_uri": "https://localhost:8080/"
        },
        "id": "7T703NIeZR55",
        "outputId": "b494feaa-047c-4bb3-8516-5943382fa151"
      },
      "outputs": [
        {
          "data": {
            "text/plain": [
              "['../',\n",
              " '20230801/',\n",
              " '20230820/',\n",
              " '20230901/',\n",
              " '20230920/',\n",
              " '20231001/',\n",
              " '20231020/',\n",
              " '20231101/',\n",
              " 'latest/']"
            ]
          },
          "execution_count": 3,
          "metadata": {},
          "output_type": "execute_result"
        }
      ],
      "source": [
        "# Define the base URL for the Wikimedia English Wikipedia dump files\n",
        "base_url = 'https://dumps.wikimedia.org/enwiki/'\n",
        "\n",
        "# Send an HTTP GET request to the base URL and store the page content as text\n",
        "index = requests.get(base_url).text\n",
        "\n",
        "# Create a BeautifulSoup object to parse the HTML content\n",
        "soup_index = BeautifulSoup(index, 'html.parser')\n",
        "\n",
        "# Find all anchor ('<a>') elements in the parsed HTML content\n",
        "# Filter and extract the 'href' attribute from each anchor element that has one\n",
        "dumps = [a['href'] for a in soup_index.find_all('a') if a.has_attr('href')]\n",
        "\n",
        "# The 'dumps' list now contains the extracted 'href' attribute values from\n",
        "# anchor elements\n",
        "dumps"
      ]
    },
    {
      "cell_type": "code",
      "execution_count": 4,
      "metadata": {
        "colab": {
          "base_uri": "https://localhost:8080/",
          "height": 122
        },
        "id": "Y-n9doz2aF5t",
        "outputId": "14825deb-5def-437b-8457-277bc39c537f"
      },
      "outputs": [
        {
          "data": {
            "application/vnd.google.colaboratory.intrinsic+json": {
              "type": "string"
            },
            "text/plain": [
              "'<!DOCTYPE html PUBLIC \"-//W3C//DTD XHTML 1.0 Strict//EN\"\\n        \"http://www.w3.org/TR/xhtml1/DTD/xhtml1-strict.dtd\">\\n\\n<html xmlns=\"http://www.w3.org/1999/xhtml\" xml:lang=\"en\" lang=\"en\">\\n<head>\\n        <meta http-equiv=\"Content-Type\" content=\"text/html; charset=utf-8\"/>\\n        <title>enwiki dump progress on 20231020</title>\\n        <link rel=\"stylesheet\" type=\"text/css\" href=\"/dumps.css\" />\\n        <style type=\"text/css\">\\n                .siteinfo {\\n                        text-align: center;\\n                }\\n                li {\\n                        list-style-type: none;\\n                        padding: 0.5em 1.5em 0.5em 1.5em;\\n                        background: #fff;\\n                        margin-bottom: 1em;\\n                }\\n                li li {\\n                        background-color: white;\\n                        box-shadow: none;\\n                        border-top: none;\\n                        padding: 0px;\\n                        margin-bottom: 0em;\\n                }\\n                li ul {\\n                        margin-top: 4px;\\n                        margin-bottom: 8px;\\n                        box-shadow: none;\\n                        border-top: none;\\n                        padding: 0.5em 0px 0px;\\n                }\\n                .detail {\\n                        font-weight: normal;\\n                        font-style: italic;\\n                }\\n                .updates {\\n                        font: monospace;\\n                        font-size: smaller;\\n                }\\n                .status {\\n                        font-weight: bold;\\n                }\\n                .status, .checksum {\\n                        padding-left: 1em;\\n                        padding-right: 1em;\\n                }\\n                li.in-progress {\\n                        border-top: 3px solid #3366cc;\\n                        font-weight: bold;\\n                        box-shadow: 0 1px 1px rgba( 0, 0, 0, 0.15 );\\n                }\\n                li.done {\\n                        border-top: 3px solid #00af89;\\n                        box-shadow: 0 1px 1px rgba( 0, 0, 0, 0.15 );\\n                }\\n                li.failed {\\n                        color: #b32424;\\n                        font-weight: bold;\\n                        border-top: 3px solid #b32424;\\n                        box-shadow: 0 1px 1px rgba( 0, 0, 0, 0.15 );\\n                }\\n                .waiting {\\n                        color: #c8ccd1;\\n                        box-shadow: none;\\n                        border-top: none;\\n                }\\n                .progress {\\n                        font-family: monospace;\\n                        font-size: 80%;\\n                        margin-left: .5in;\\n                }\\n                .notice {\\n                        border: none;\\n                        background-color: transparent;\\n                        font-weight: normal;\\n                        color: #b32424;\\n                }\\n        </style>\\n</head>\\n\\n<body>\\n        <h1>enwiki dump progress on 20231020</h1>\\n\\n        <p class=\"siteinfo\">\\n                This is the Wikimedia dump service.\\n                Please read the <a href=\\'../../legal.html\\'>copyrights</a> information.\\n                See <a href=\"http://meta.wikimedia.org/wiki/Data_dumps\">Meta:Data dumps</a>\\n                for documentation on the provided data formats.\\n        </p>\\n        <p>\\n          Older versions of the 7zip decoder on Windows are known to have\\n          <a href=\"https://phabricator.wikimedia.org/T208647\">problems</a> with some bz2-format\\n          files for larger wikis; we recommend the use of bzip2 for Windows for these cases.\\n          7zip 20.00 alpha (x64) on Win10 LTSC 2019 and later versions should work properly.\\n        </p>\\n        <p>\\n          Please report problems with these dumps on Phabricator and add the\\n          <a href=\"https://phabricator.wikimedia.org/project/profile/1519/\">Dumps-generation</a> tag.\\n        </p>\\n        <p class=\"notice\"></p>\\n\\n        <p>See <a href=\"../../backup-index.html\">all databases list</a>.</p>\\n\\n        <p class=\"previous\">\\n                <a href=\"../20231001/\">Last dumped on 2023-10-01</a>\\n        </p>\\n\\n        <p>\\n          For a machine-readable version of the information on this page,\\n          see <a href=\"dumpstatus.json\">the json status file.</a>\\n        </p>\\n\\n        <p class=\"status\">\\n                <span class=\\'done\\'>Dump complete</span>\\n        </p>\\n\\n        <p class=\"checksum\">\\n                Verify downloaded files against the <a href=\"/enwiki/20231020/enwiki-20231020-md5sums.txt\">(md5)</a>, <a href=\"/enwiki/20231020/enwiki-20231020-sha1sums.txt\">(sha1)</a> checksums\\n                to check for corrupted files.\\n        </p>\\n\\n        <ul>\\n                <li class=\\'done\\'><span class=\\'updates\\'>2023-10-21 05:25:24</span> <span class=\\'status\\'>done</span> <span class=\\'title\\'>Recombine multiple bz2 streams</span><ul><li class=\\'file\\'><a href=\"/enwiki/20231020/enwiki-20231020-pages-articles-multistream.xml.bz2\">enwiki-20231020-pages-articles-multistream.xml.bz2</a> 21.0 GB</li>\\n<li class=\\'file\\'><a href=\"/enwiki/20231020/enwiki-20231020-pages-articles-multistream-index.txt.bz2\">enwiki-20231020-pages-articles-multistream-index.txt.bz2</a> 242.9 MB</li></ul></li>\\n<li class=\\'done\\'><span class=\\'updates\\'>2023-10-21 04:46:24</span> <span class=\\'status\\'>done</span> <span class=\\'title\\'>Articles, templates, media/file descriptions, and primary meta-pages, in multiple bz2 streams, 100 pages per stream</span><ul><li class=\\'file\\'><a href=\"/enwiki/20231020/enwiki-20231020-pages-articles-multistream1.xml-p1p41242.bz2\">enwiki-20231020-pages-articles-multistream1.xml-p1p41242.bz2</a> 261.2 MB</li>\\n<li class=\\'file\\'><a href=\"/enwiki/20231020/enwiki-20231020-pages-articles-multistream-index1.txt-p1p41242.bz2\">enwiki-20231020-pages-articles-multistream-index1.txt-p1p41242.bz2</a> 221 KB</li>\\n<li class=\\'file\\'><a href=\"/enwiki/20231020/enwiki-20231020-pages-articles-multistream2.xml-p41243p151573.bz2\">enwiki-20231020-pages-articles-multistream2.xml-p41243p151573.bz2</a> 348.7 MB</li>\\n<li class=\\'file\\'><a href=\"/enwiki/20231020/enwiki-20231020-pages-articles-multistream-index2.txt-p41243p151573.bz2\">enwiki-20231020-pages-articles-multistream-index2.txt-p41243p151573.bz2</a> 637 KB</li>\\n<li class=\\'file\\'><a href=\"/enwiki/20231020/enwiki-20231020-pages-articles-multistream3.xml-p151574p311329.bz2\">enwiki-20231020-pages-articles-multistream3.xml-p151574p311329.bz2</a> 378.9 MB</li>\\n<li class=\\'file\\'><a href=\"/enwiki/20231020/enwiki-20231020-pages-articles-multistream-index3.txt-p151574p311329.bz2\">enwiki-20231020-pages-articles-multistream-index3.txt-p151574p311329.bz2</a> 819 KB</li>\\n<li class=\\'file\\'><a href=\"/enwiki/20231020/enwiki-20231020-pages-articles-multistream4.xml-p311330p558391.bz2\">enwiki-20231020-pages-articles-multistream4.xml-p311330p558391.bz2</a> 422.1 MB</li>\\n<li class=\\'file\\'><a href=\"/enwiki/20231020/enwiki-20231020-pages-articles-multistream-index4.txt-p311330p558391.bz2\">enwiki-20231020-pages-articles-multistream-index4.txt-p311330p558391.bz2</a> 1.3 MB</li>\\n<li class=\\'file\\'><a href=\"/enwiki/20231020/enwiki-20231020-pages-articles-multistream5.xml-p558392p958045.bz2\">enwiki-20231020-pages-articles-multistream5.xml-p558392p958045.bz2</a> 452.5 MB</li>\\n<li class=\\'file\\'><a href=\"/enwiki/20231020/enwiki-20231020-pages-articles-multistream-index5.txt-p558392p958045.bz2\">enwiki-20231020-pages-articles-multistream-index5.txt-p558392p958045.bz2</a> 2.1 MB</li>\\n<li class=\\'file\\'><a href=\"/enwiki/20231020/enwiki-20231020-pages-articles-multistream6.xml-p958046p1483661.bz2\">enwiki-20231020-pages-articles-multistream6.xml-p958046p1483661.bz2</a> 484.0 MB</li>\\n<li class=\\'file\\'><a href=\"/enwiki/20231020/enwiki-20231020-pages-articles-multistream-index6.txt-p958046p1483661.bz2\">enwiki-20231020-pages-articles-multistream-index6.txt-p958046p1483661.bz2</a> 2.5 MB</li>\\n<li class=\\'file\\'><a href=\"/enwiki/20231020/enwiki-20231020-pages-articles-multistream7.xml-p1483662p2134111.bz2\">enwiki-20231020-pages-articles-multistream7.xml-p1483662p2134111.bz2</a> 496.3 MB</li>\\n<li class=\\'file\\'><a href=\"/enwiki/20231020/enwiki-20231020-pages-articles-multistream-index7.txt-p1483662p2134111.bz2\">enwiki-20231020-pages-articles-multistream-index7.txt-p1483662p2134111.bz2</a> 3.0 MB</li>\\n<li class=\\'file\\'><a href=\"/enwiki/20231020/enwiki-20231020-pages-articles-multistream8.xml-p2134112p2936260.bz2\">enwiki-20231020-pages-articles-multistream8.xml-p2134112p2936260.bz2</a> 508.4 MB</li>\\n<li class=\\'file\\'><a href=\"/enwiki/20231020/enwiki-20231020-pages-articles-multistream-index8.txt-p2134112p2936260.bz2\">enwiki-20231020-pages-articles-multistream-index8.txt-p2134112p2936260.bz2</a> 3.6 MB</li>\\n<li class=\\'file\\'><a href=\"/enwiki/20231020/enwiki-20231020-pages-articles-multistream9.xml-p2936261p4045402.bz2\">enwiki-20231020-pages-articles-multistream9.xml-p2936261p4045402.bz2</a> 549.6 MB</li>\\n<li class=\\'file\\'><a href=\"/enwiki/20231020/enwiki-20231020-pages-articles-multistream-index9.txt-p2936261p4045402.bz2\">enwiki-20231020-pages-articles-multistream-index9.txt-p2936261p4045402.bz2</a> 4.2 MB</li>\\n<li class=\\'file\\'><a href=\"/enwiki/20231020/enwiki-20231020-pages-articles-multistream10.xml-p4045403p5399366.bz2\">enwiki-20231020-pages-articles-multistream10.xml-p4045403p5399366.bz2</a> 542.9 MB</li>\\n<li class=\\'file\\'><a href=\"/enwiki/20231020/enwiki-20231020-pages-articles-multistream-index10.txt-p4045403p5399366.bz2\">enwiki-20231020-pages-articles-multistream-index10.txt-p4045403p5399366.bz2</a> 4.6 MB</li>\\n<li class=\\'file\\'><a href=\"/enwiki/20231020/enwiki-20231020-pages-articles-multistream11.xml-p5399367p6899366.bz2\">enwiki-20231020-pages-articles-multistream11.xml-p5399367p6899366.bz2</a> 526.3 MB</li>\\n<li class=\\'file\\'><a href=\"/enwiki/20231020/enwiki-20231020-pages-articles-multistream-index11.txt-p5399367p6899366.bz2\">enwiki-20231020-pages-articles-multistream-index11.txt-p5399367p6899366.bz2</a> 4.8 MB</li>\\n<li class=\\'file\\'><a href=\"/enwiki/20231020/enwiki-20231020-pages-articles-multistream11.xml-p6899367p7054859.bz2\">enwiki-20231020-pages-articles-multistream11.xml-p6899367p7054859.bz2</a> 50.4 MB</li>\\n<li class=\\'file\\'><a href=\"/enwiki/20231020/enwiki-20231020-pages-articles-multistream-index11.txt-p6899367p7054859.bz2\">enwiki-20231020-pages-articles-multistream-index11.txt-p6899367p7054859.bz2</a> 475 KB</li>\\n<li class=\\'file\\'><a href=\"/enwiki/20231020/enwiki-20231020-pages-articles-multistream12.xml-p7054860p8554859.bz2\">enwiki-20231020-pages-articles-multistream12.xml-p7054860p8554859.bz2</a> 436.7 MB</li>\\n<li class=\\'file\\'><a href=\"/enwiki/20231020/enwiki-20231020-pages-articles-multistream-index12.txt-p7054860p8554859.bz2\">enwiki-20231020-pages-articles-multistream-index12.txt-p7054860p8554859.bz2</a> 4.4 MB</li>\\n<li class=\\'file\\'><a href=\"/enwiki/20231020/enwiki-20231020-pages-articles-multistream12.xml-p8554860p9172788.bz2\">enwiki-20231020-pages-articles-multistream12.xml-p8554860p9172788.bz2</a> 176.3 MB</li>\\n<li class=\\'file\\'><a href=\"/enwiki/20231020/enwiki-20231020-pages-articles-multistream-index12.txt-p8554860p9172788.bz2\">enwiki-20231020-pages-articles-multistream-index12.txt-p8554860p9172788.bz2</a> 1.8 MB</li>\\n<li class=\\'file\\'><a href=\"/enwiki/20231020/enwiki-20231020-pages-articles-multistream13.xml-p9172789p10672788.bz2\">enwiki-20231020-pages-articles-multistream13.xml-p9172789p10672788.bz2</a> 356.2 MB</li>\\n<li class=\\'file\\'><a href=\"/enwiki/20231020/enwiki-20231020-pages-articles-multistream-index13.txt-p9172789p10672788.bz2\">enwiki-20231020-pages-articles-multistream-index13.txt-p9172789p10672788.bz2</a> 3.7 MB</li>\\n<li class=\\'file\\'><a href=\"/enwiki/20231020/enwiki-20231020-pages-articles-multistream13.xml-p10672789p11659682.bz2\">enwiki-20231020-pages-articles-multistream13.xml-p10672789p11659682.bz2</a> 246.7 MB</li>\\n<li class=\\'file\\'><a href=\"/enwiki/20231020/enwiki-20231020-pages-articles-multistream-index13.txt-p10672789p11659682.bz2\">enwiki-20231020-pages-articles-multistream-index13.txt-p10672789p11659682.bz2</a> 2.6 MB</li>\\n<li class=\\'file\\'><a href=\"/enwiki/20231020/enwiki-20231020-pages-articles-multistream14.xml-p11659683p13159682.bz2\">enwiki-20231020-pages-articles-multistream14.xml-p11659683p13159682.bz2</a> 429.0 MB</li>\\n<li class=\\'file\\'><a href=\"/enwiki/20231020/enwiki-20231020-pages-articles-multistream-index14.txt-p11659683p13159682.bz2\">enwiki-20231020-pages-articles-multistream-index14.txt-p11659683p13159682.bz2</a> 4.8 MB</li>\\n<li class=\\'file\\'><a href=\"/enwiki/20231020/enwiki-20231020-pages-articles-multistream14.xml-p13159683p14324602.bz2\">enwiki-20231020-pages-articles-multistream14.xml-p13159683p14324602.bz2</a> 294.2 MB</li>\\n<li class=\\'file\\'><a href=\"/enwiki/20231020/enwiki-20231020-pages-articles-multistream-index14.txt-p13159683p14324602.bz2\">enwiki-20231020-pages-articles-multistream-index14.txt-p13159683p14324602.bz2</a> 3.4 MB</li>\\n<li class=\\'file\\'><a href=\"/enwiki/20231020/enwiki-20231020-pages-articles-multistream15.xml-p14324603p15824602.bz2\">enwiki-20231020-pages-articles-multistream15.xml-p14324603p15824602.bz2</a> 383.5 MB</li>\\n<li class=\\'file\\'><a href=\"/enwiki/20231020/enwiki-20231020-pages-articles-multistream-index15.txt-p14324603p15824602.bz2\">enwiki-20231020-pages-articles-multistream-index15.txt-p14324603p15824602.bz2</a> 4.8 MB</li>\\n<li class=\\'file\\'><a href=\"/enwiki/20231020/enwiki-20231020-pages-articles-multistream15.xml-p15824603p17324602.bz2\">enwiki-20231020-pages-articles-multistream15.xml-p15824603p17324602.bz2</a> 332.8 MB</li>\\n<li class=\\'file\\'><a href=\"/enwiki/20231020/enwiki-20231020-pages-articles-multistream-index15.txt-p15824603p17324602.bz2\">enwiki-20231020-pages-articles-multistream-index15.txt-p15824603p17324602.bz2</a> 5.1 MB</li>\\n<li class=\\'file\\'><a href=\"/enwiki/20231020/enwiki-20231020-pages-articles-multistream15.xml-p17324603p17460152.bz2\">enwiki-20231020-pages-articles-multistream15.xml-p17324603p17460152.bz2</a> 30.2 MB</li>\\n<li class=\\'file\\'><a href=\"/enwiki/20231020/enwiki-20231020-pages-articles-multistream-index15.txt-p17324603p17460152.bz2\">enwiki-20231020-pages-articles-multistream-index15.txt-p17324603p17460152.bz2</a> 358 KB</li>\\n<li class=\\'file\\'><a href=\"/enwiki/20231020/enwiki-20231020-pages-articles-multistream16.xml-p17460153p18960152.bz2\">enwiki-20231020-pages-articles-multistream16.xml-p17460153p18960152.bz2</a> 362.8 MB</li>\\n<li class=\\'file\\'><a href=\"/enwiki/20231020/enwiki-20231020-pages-articles-multistream-index16.txt-p17460153p18960152.bz2\">enwiki-20231020-pages-articles-multistream-index16.txt-p17460153p18960152.bz2</a> 4.3 MB</li>\\n<li class=\\'file\\'><a href=\"/enwiki/20231020/enwiki-20231020-pages-articles-multistream16.xml-p18960153p20460152.bz2\">enwiki-20231020-pages-articles-multistream16.xml-p18960153p20460152.bz2</a> 337.8 MB</li>\\n<li class=\\'file\\'><a href=\"/enwiki/20231020/enwiki-20231020-pages-articles-multistream-index16.txt-p18960153p20460152.bz2\">enwiki-20231020-pages-articles-multistream-index16.txt-p18960153p20460152.bz2</a> 4.3 MB</li>\\n<li class=\\'file\\'><a href=\"/enwiki/20231020/enwiki-20231020-pages-articles-multistream16.xml-p20460153p20570392.bz2\">enwiki-20231020-pages-articles-multistream16.xml-p20460153p20570392.bz2</a> 24.6 MB</li>\\n<li class=\\'file\\'><a href=\"/enwiki/20231020/enwiki-20231020-pages-articles-multistream-index16.txt-p20460153p20570392.bz2\">enwiki-20231020-pages-articles-multistream-index16.txt-p20460153p20570392.bz2</a> 285 KB</li>\\n<li class=\\'file\\'><a href=\"/enwiki/20231020/enwiki-20231020-pages-articles-multistream17.xml-p20570393p22070392.bz2\">enwiki-20231020-pages-articles-multistream17.xml-p20570393p22070392.bz2</a> 375.1 MB</li>\\n<li class=\\'file\\'><a href=\"/enwiki/20231020/enwiki-20231020-pages-articles-multistream-index17.txt-p20570393p22070392.bz2\">enwiki-20231020-pages-articles-multistream-index17.txt-p20570393p22070392.bz2</a> 4.5 MB</li>\\n<li class=\\'file\\'><a href=\"/enwiki/20231020/enwiki-20231020-pages-articles-multistream17.xml-p22070393p23570392.bz2\">enwiki-20231020-pages-articles-multistream17.xml-p22070393p23570392.bz2</a> 386.7 MB</li>\\n<li class=\\'file\\'><a href=\"/enwiki/20231020/enwiki-20231020-pages-articles-multistream-index17.txt-p22070393p23570392.bz2\">enwiki-20231020-pages-articles-multistream-index17.txt-p22070393p23570392.bz2</a> 5.0 MB</li>\\n<li class=\\'file\\'><a href=\"/enwiki/20231020/enwiki-20231020-pages-articles-multistream17.xml-p23570393p23716197.bz2\">enwiki-20231020-pages-articles-multistream17.xml-p23570393p23716197.bz2</a> 42.9 MB</li>\\n<li class=\\'file\\'><a href=\"/enwiki/20231020/enwiki-20231020-pages-articles-multistream-index17.txt-p23570393p23716197.bz2\">enwiki-20231020-pages-articles-multistream-index17.txt-p23570393p23716197.bz2</a> 558 KB</li>\\n<li class=\\'file\\'><a href=\"/enwiki/20231020/enwiki-20231020-pages-articles-multistream18.xml-p23716198p25216197.bz2\">enwiki-20231020-pages-articles-multistream18.xml-p23716198p25216197.bz2</a> 400.1 MB</li>\\n<li class=\\'file\\'><a href=\"/enwiki/20231020/enwiki-20231020-pages-articles-multistream-index18.txt-p23716198p25216197.bz2\">enwiki-20231020-pages-articles-multistream-index18.txt-p23716198p25216197.bz2</a> 4.8 MB</li>\\n<li class=\\'file\\'><a href=\"/enwiki/20231020/enwiki-20231020-pages-articles-multistream18.xml-p25216198p26716197.bz2\">enwiki-20231020-pages-articles-multistream18.xml-p25216198p26716197.bz2</a> 366.8 MB</li>\\n<li class=\\'file\\'><a href=\"/enwiki/20231020/enwiki-20231020-pages-articles-multistream-index18.txt-p25216198p26716197.bz2\">enwiki-20231020-pages-articles-multistream-index18.txt-p25216198p26716197.bz2</a> 4.4 MB</li>\\n<li class=\\'file\\'><a href=\"/enwiki/20231020/enwiki-20231020-pages-articles-multistream18.xml-p26716198p27121850.bz2\">enwiki-20231020-pages-articles-multistream18.xml-p26716198p27121850.bz2</a> 94.0 MB</li>\\n<li class=\\'file\\'><a href=\"/enwiki/20231020/enwiki-20231020-pages-articles-multistream-index18.txt-p26716198p27121850.bz2\">enwiki-20231020-pages-articles-multistream-index18.txt-p26716198p27121850.bz2</a> 1.3 MB</li>\\n<li class=\\'file\\'><a href=\"/enwiki/20231020/enwiki-20231020-pages-articles-multistream19.xml-p27121851p28621850.bz2\">enwiki-20231020-pages-articles-multistream19.xml-p27121851p28621850.bz2</a> 360.1 MB</li>\\n<li class=\\'file\\'><a href=\"/enwiki/20231020/enwiki-20231020-pages-articles-multistream-index19.txt-p27121851p28621850.bz2\">enwiki-20231020-pages-articles-multistream-index19.txt-p27121851p28621850.bz2</a> 5.1 MB</li>\\n<li class=\\'file\\'><a href=\"/enwiki/20231020/enwiki-20231020-pages-articles-multistream19.xml-p28621851p30121850.bz2\">enwiki-20231020-pages-articles-multistream19.xml-p28621851p30121850.bz2</a> 317.0 MB</li>\\n<li class=\\'file\\'><a href=\"/enwiki/20231020/enwiki-20231020-pages-articles-multistream-index19.txt-p28621851p30121850.bz2\">enwiki-20231020-pages-articles-multistream-index19.txt-p28621851p30121850.bz2</a> 4.8 MB</li>\\n<li class=\\'file\\'><a href=\"/enwiki/20231020/enwiki-20231020-pages-articles-multistream19.xml-p30121851p31308442.bz2\">enwiki-20231020-pages-articles-multistream19.xml-p30121851p31308442.bz2</a> 298.7 MB</li>\\n<li class=\\'file\\'><a href=\"/enwiki/20231020/enwiki-20231020-pages-articles-multistream-index19.txt-p30121851p31308442.bz2\">enwiki-20231020-pages-articles-multistream-index19.txt-p30121851p31308442.bz2</a> 3.5 MB</li>\\n<li class=\\'file\\'><a href=\"/enwiki/20231020/enwiki-20231020-pages-articles-multistream20.xml-p31308443p32808442.bz2\">enwiki-20231020-pages-articles-multistream20.xml-p31308443p32808442.bz2</a> 403.6 MB</li>\\n<li class=\\'file\\'><a href=\"/enwiki/20231020/enwiki-20231020-pages-articles-multistream-index20.txt-p31308443p32808442.bz2\">enwiki-20231020-pages-articles-multistream-index20.txt-p31308443p32808442.bz2</a> 5.0 MB</li>\\n<li class=\\'file\\'><a href=\"/enwiki/20231020/enwiki-20231020-pages-articles-multistream20.xml-p32808443p34308442.bz2\">enwiki-20231020-pages-articles-multistream20.xml-p32808443p34308442.bz2</a> 370.5 MB</li>\\n<li class=\\'file\\'><a href=\"/enwiki/20231020/enwiki-20231020-pages-articles-multistream-index20.txt-p32808443p34308442.bz2\">enwiki-20231020-pages-articles-multistream-index20.txt-p32808443p34308442.bz2</a> 4.7 MB</li>\\n<li class=\\'file\\'><a href=\"/enwiki/20231020/enwiki-20231020-pages-articles-multistream20.xml-p34308443p35522432.bz2\">enwiki-20231020-pages-articles-multistream20.xml-p34308443p35522432.bz2</a> 272.9 MB</li>\\n<li class=\\'file\\'><a href=\"/enwiki/20231020/enwiki-20231020-pages-articles-multistream-index20.txt-p34308443p35522432.bz2\">enwiki-20231020-pages-articles-multistream-index20.txt-p34308443p35522432.bz2</a> 3.7 MB</li>\\n<li class=\\'file\\'><a href=\"/enwiki/20231020/enwiki-20231020-pages-articles-multistream21.xml-p35522433p37022432.bz2\">enwiki-20231020-pages-articles-multistream21.xml-p35522433p37022432.bz2</a> 376.8 MB</li>\\n<li class=\\'file\\'><a href=\"/enwiki/20231020/enwiki-20231020-pages-articles-multistream-index21.txt-p35522433p37022432.bz2\">enwiki-20231020-pages-articles-multistream-index21.txt-p35522433p37022432.bz2</a> 4.9 MB</li>\\n<li class=\\'file\\'><a href=\"/enwiki/20231020/enwiki-20231020-pages-articles-multistream21.xml-p37022433p38522432.bz2\">enwiki-20231020-pages-articles-multistream21.xml-p37022433p38522432.bz2</a> 365.0 MB</li>\\n<li class=\\'file\\'><a href=\"/enwiki/20231020/enwiki-20231020-pages-articles-multistream-index21.txt-p37022433p38522432.bz2\">enwiki-20231020-pages-articles-multistream-index21.txt-p37022433p38522432.bz2</a> 4.8 MB</li>\\n<li class=\\'file\\'><a href=\"/enwiki/20231020/enwiki-20231020-pages-articles-multistream21.xml-p38522433p39996245.bz2\">enwiki-20231020-pages-articles-multistream21.xml-p38522433p39996245.bz2</a> 369.2 MB</li>\\n<li class=\\'file\\'><a href=\"/enwiki/20231020/enwiki-20231020-pages-articles-multistream-index21.txt-p38522433p39996245.bz2\">enwiki-20231020-pages-articles-multistream-index21.txt-p38522433p39996245.bz2</a> 4.8 MB</li>\\n<li class=\\'file\\'><a href=\"/enwiki/20231020/enwiki-20231020-pages-articles-multistream22.xml-p39996246p41496245.bz2\">enwiki-20231020-pages-articles-multistream22.xml-p39996246p41496245.bz2</a> 362.8 MB</li>\\n<li class=\\'file\\'><a href=\"/enwiki/20231020/enwiki-20231020-pages-articles-multistream-index22.txt-p39996246p41496245.bz2\">enwiki-20231020-pages-articles-multistream-index22.txt-p39996246p41496245.bz2</a> 4.7 MB</li>\\n<li class=\\'file\\'><a href=\"/enwiki/20231020/enwiki-20231020-pages-articles-multistream22.xml-p41496246p42996245.bz2\">enwiki-20231020-pages-articles-multistream22.xml-p41496246p42996245.bz2</a> 373.0 MB</li>\\n<li class=\\'file\\'><a href=\"/enwiki/20231020/enwiki-20231020-pages-articles-multistream-index22.txt-p41496246p42996245.bz2\">enwiki-20231020-pages-articles-multistream-index22.txt-p41496246p42996245.bz2</a> 4.8 MB</li>\\n<li class=\\'file\\'><a href=\"/enwiki/20231020/enwiki-20231020-pages-articles-multistream22.xml-p42996246p44496245.bz2\">enwiki-20231020-pages-articles-multistream22.xml-p42996246p44496245.bz2</a> 378.5 MB</li>\\n<li class=\\'file\\'><a href=\"/enwiki/20231020/enwiki-20231020-pages-articles-multistream-index22.txt-p42996246p44496245.bz2\">enwiki-20231020-pages-articles-multistream-index22.txt-p42996246p44496245.bz2</a> 5.2 MB</li>\\n<li class=\\'file\\'><a href=\"/enwiki/20231020/enwiki-20231020-pages-articles-multistream22.xml-p44496246p44788941.bz2\">enwiki-20231020-pages-articles-multistream22.xml-p44496246p44788941.bz2</a> 59.7 MB</li>\\n<li class=\\'file\\'><a href=\"/enwiki/20231020/enwiki-20231020-pages-articles-multistream-index22.txt-p44496246p44788941.bz2\">enwiki-20231020-pages-articles-multistream-index22.txt-p44496246p44788941.bz2</a> 825 KB</li>\\n<li class=\\'file\\'><a href=\"/enwiki/20231020/enwiki-20231020-pages-articles-multistream23.xml-p44788942p46288941.bz2\">enwiki-20231020-pages-articles-multistream23.xml-p44788942p46288941.bz2</a> 243.0 MB</li>\\n<li class=\\'file\\'><a href=\"/enwiki/20231020/enwiki-20231020-pages-articles-multistream-index23.txt-p44788942p46288941.bz2\">enwiki-20231020-pages-articles-multistream-index23.txt-p44788942p46288941.bz2</a> 3.1 MB</li>\\n<li class=\\'file\\'><a href=\"/enwiki/20231020/enwiki-20231020-pages-articles-multistream23.xml-p46288942p47788941.bz2\">enwiki-20231020-pages-articles-multistream23.xml-p46288942p47788941.bz2</a> 389.1 MB</li>\\n<li class=\\'file\\'><a href=\"/enwiki/20231020/enwiki-20231020-pages-articles-multistream-index23.txt-p46288942p47788941.bz2\">enwiki-20231020-pages-articles-multistream-index23.txt-p46288942p47788941.bz2</a> 5.2 MB</li>\\n<li class=\\'file\\'><a href=\"/enwiki/20231020/enwiki-20231020-pages-articles-multistream23.xml-p47788942p49288941.bz2\">enwiki-20231020-pages-articles-multistream23.xml-p47788942p49288941.bz2</a> 324.9 MB</li>\\n<li class=\\'file\\'><a href=\"/enwiki/20231020/enwiki-20231020-pages-articles-multistream-index23.txt-p47788942p49288941.bz2\">enwiki-20231020-pages-articles-multistream-index23.txt-p47788942p49288941.bz2</a> 4.3 MB</li>\\n<li class=\\'file\\'><a href=\"/enwiki/20231020/enwiki-20231020-pages-articles-multistream23.xml-p49288942p50564553.bz2\">enwiki-20231020-pages-articles-multistream23.xml-p49288942p50564553.bz2</a> 256.4 MB</li>\\n<li class=\\'file\\'><a href=\"/enwiki/20231020/enwiki-20231020-pages-articles-multistream-index23.txt-p49288942p50564553.bz2\">enwiki-20231020-pages-articles-multistream-index23.txt-p49288942p50564553.bz2</a> 4.1 MB</li>\\n<li class=\\'file\\'><a href=\"/enwiki/20231020/enwiki-20231020-pages-articles-multistream24.xml-p50564554p52064553.bz2\">enwiki-20231020-pages-articles-multistream24.xml-p50564554p52064553.bz2</a> 349.7 MB</li>\\n<li class=\\'file\\'><a href=\"/enwiki/20231020/enwiki-20231020-pages-articles-multistream-index24.txt-p50564554p52064553.bz2\">enwiki-20231020-pages-articles-multistream-index24.txt-p50564554p52064553.bz2</a> 4.9 MB</li>\\n<li class=\\'file\\'><a href=\"/enwiki/20231020/enwiki-20231020-pages-articles-multistream24.xml-p52064554p53564553.bz2\">enwiki-20231020-pages-articles-multistream24.xml-p52064554p53564553.bz2</a> 350.0 MB</li>\\n<li class=\\'file\\'><a href=\"/enwiki/20231020/enwiki-20231020-pages-articles-multistream-index24.txt-p52064554p53564553.bz2\">enwiki-20231020-pages-articles-multistream-index24.txt-p52064554p53564553.bz2</a> 4.8 MB</li>\\n<li class=\\'file\\'><a href=\"/enwiki/20231020/enwiki-20231020-pages-articles-multistream24.xml-p53564554p55064553.bz2\">enwiki-20231020-pages-articles-multistream24.xml-p53564554p55064553.bz2</a> 334.8 MB</li>\\n<li class=\\'file\\'><a href=\"/enwiki/20231020/enwiki-20231020-pages-articles-multistream-index24.txt-p53564554p55064553.bz2\">enwiki-20231020-pages-articles-multistream-index24.txt-p53564554p55064553.bz2</a> 4.7 MB</li>\\n<li class=\\'file\\'><a href=\"/enwiki/20231020/enwiki-20231020-pages-articles-multistream24.xml-p55064554p56564553.bz2\">enwiki-20231020-pages-articles-multistream24.xml-p55064554p56564553.bz2</a> 351.9 MB</li>\\n<li class=\\'file\\'><a href=\"/enwiki/20231020/enwiki-20231020-pages-articles-multistream-index24.txt-p55064554p56564553.bz2\">enwiki-20231020-pages-articles-multistream-index24.txt-p55064554p56564553.bz2</a> 5.1 MB</li>\\n<li class=\\'file\\'><a href=\"/enwiki/20231020/enwiki-20231020-pages-articles-multistream24.xml-p56564554p57025655.bz2\">enwiki-20231020-pages-articles-multistream24.xml-p56564554p57025655.bz2</a> 111.0 MB</li>\\n<li class=\\'file\\'><a href=\"/enwiki/20231020/enwiki-20231020-pages-articles-multistream-index24.txt-p56564554p57025655.bz2\">enwiki-20231020-pages-articles-multistream-index24.txt-p56564554p57025655.bz2</a> 1.5 MB</li>\\n<li class=\\'file\\'><a href=\"/enwiki/20231020/enwiki-20231020-pages-articles-multistream25.xml-p57025656p58525655.bz2\">enwiki-20231020-pages-articles-multistream25.xml-p57025656p58525655.bz2</a> 363.3 MB</li>\\n<li class=\\'file\\'><a href=\"/enwiki/20231020/enwiki-20231020-pages-articles-multistream-index25.txt-p57025656p58525655.bz2\">enwiki-20231020-pages-articles-multistream-index25.txt-p57025656p58525655.bz2</a> 4.8 MB</li>\\n<li class=\\'file\\'><a href=\"/enwiki/20231020/enwiki-20231020-pages-articles-multistream25.xml-p58525656p60025655.bz2\">enwiki-20231020-pages-articles-multistream25.xml-p58525656p60025655.bz2</a> 326.8 MB</li>\\n<li class=\\'file\\'><a href=\"/enwiki/20231020/enwiki-20231020-pages-articles-multistream-index25.txt-p58525656p60025655.bz2\">enwiki-20231020-pages-articles-multistream-index25.txt-p58525656p60025655.bz2</a> 4.9 MB</li>\\n<li class=\\'file\\'><a href=\"/enwiki/20231020/enwiki-20231020-pages-articles-multistream25.xml-p60025656p61525655.bz2\">enwiki-20231020-pages-articles-multistream25.xml-p60025656p61525655.bz2</a> 363.3 MB</li>\\n<li class=\\'file\\'><a href=\"/enwiki/20231020/enwiki-20231020-pages-articles-multistream-index25.txt-p60025656p61525655.bz2\">enwiki-20231020-pages-articles-multistream-index25.txt-p60025656p61525655.bz2</a> 4.9 MB</li>\\n<li class=\\'file\\'><a href=\"/enwiki/20231020/enwiki-20231020-pages-articles-multistream25.xml-p61525656p62585850.bz2\">enwiki-20231020-pages-articles-multistream25.xml-p61525656p62585850.bz2</a> 250.7 MB</li>\\n<li class=\\'file\\'><a href=\"/enwiki/20231020/enwiki-20231020-pages-articles-multistream-index25.txt-p61525656p62585850.bz2\">enwiki-20231020-pages-articles-multistream-index25.txt-p61525656p62585850.bz2</a> 3.3 MB</li>\\n<li class=\\'file\\'><a href=\"/enwiki/20231020/enwiki-20231020-pages-articles-multistream26.xml-p62585851p63975909.bz2\">enwiki-20231020-pages-articles-multistream26.xml-p62585851p63975909.bz2</a> 363.9 MB</li>\\n<li class=\\'file\\'><a href=\"/enwiki/20231020/enwiki-20231020-pages-articles-multistream-index26.txt-p62585851p63975909.bz2\">enwiki-20231020-pages-articles-multistream-index26.txt-p62585851p63975909.bz2</a> 4.8 MB</li>\\n<li class=\\'file\\'><a href=\"/enwiki/20231020/enwiki-20231020-pages-articles-multistream27.xml-p63975910p65475909.bz2\">enwiki-20231020-pages-articles-multistream27.xml-p63975910p65475909.bz2</a> 330.7 MB</li>\\n<li class=\\'file\\'><a href=\"/enwiki/20231020/enwiki-20231020-pages-articles-multistream-index27.txt-p63975910p65475909.bz2\">enwiki-20231020-pages-articles-multistream-index27.txt-p63975910p65475909.bz2</a> 4.4 MB</li>\\n<li class=\\'file\\'><a href=\"/enwiki/20231020/enwiki-20231020-pages-articles-multistream27.xml-p65475910p66975909.bz2\">enwiki-20231020-pages-articles-multistream27.xml-p65475910p66975909.bz2</a> 358.4 MB</li>\\n<li class=\\'file\\'><a href=\"/enwiki/20231020/enwiki-20231020-pages-articles-multistream-index27.txt-p65475910p66975909.bz2\">enwiki-20231020-pages-articles-multistream-index27.txt-p65475910p66975909.bz2</a> 4.6 MB</li>\\n<li class=\\'file\\'><a href=\"/enwiki/20231020/enwiki-20231020-pages-articles-multistream27.xml-p66975910p68475909.bz2\">enwiki-20231020-pages-articles-multistream27.xml-p66975910p68475909.bz2</a> 380.0 MB</li>\\n<li class=\\'file\\'><a href=\"/enwiki/20231020/enwiki-20231020-pages-articles-multistream-index27.txt-p66975910p68475909.bz2\">enwiki-20231020-pages-articles-multistream-index27.txt-p66975910p68475909.bz2</a> 5.0 MB</li>\\n<li class=\\'file\\'><a href=\"/enwiki/20231020/enwiki-20231020-pages-articles-multistream27.xml-p68475910p69975909.bz2\">enwiki-20231020-pages-articles-multistream27.xml-p68475910p69975909.bz2</a> 375.0 MB</li>\\n<li class=\\'file\\'><a href=\"/enwiki/20231020/enwiki-20231020-pages-articles-multistream-index27.txt-p68475910p69975909.bz2\">enwiki-20231020-pages-articles-multistream-index27.txt-p68475910p69975909.bz2</a> 5.2 MB</li>\\n<li class=\\'file\\'><a href=\"/enwiki/20231020/enwiki-20231020-pages-articles-multistream27.xml-p69975910p71475909.bz2\">enwiki-20231020-pages-articles-multistream27.xml-p69975910p71475909.bz2</a> 366.5 MB</li>\\n<li class=\\'file\\'><a href=\"/enwiki/20231020/enwiki-20231020-pages-articles-multistream-index27.txt-p69975910p71475909.bz2\">enwiki-20231020-pages-articles-multistream-index27.txt-p69975910p71475909.bz2</a> 5.1 MB</li>\\n<li class=\\'file\\'><a href=\"/enwiki/20231020/enwiki-20231020-pages-articles-multistream27.xml-p71475910p72975909.bz2\">enwiki-20231020-pages-articles-multistream27.xml-p71475910p72975909.bz2</a> 348.7 MB</li>\\n<li class=\\'file\\'><a href=\"/enwiki/20231020/enwiki-20231020-pages-articles-multistream-index27.txt-p71475910p72975909.bz2\">enwiki-20231020-pages-articles-multistream-index27.txt-p71475910p72975909.bz2</a> 4.9 MB</li>\\n<li class=\\'file\\'><a href=\"/enwiki/20231020/enwiki-20231020-pages-articles-multistream27.xml-p72975910p74475909.bz2\">enwiki-20231020-pages-articles-multistream27.xml-p72975910p74475909.bz2</a> 354.0 MB</li>\\n<li class=\\'file\\'><a href=\"/enwiki/20231020/enwiki-20231020-pages-articles-multistream-index27.txt-p72975910p74475909.bz2\">enwiki-20231020-pages-articles-multistream-index27.txt-p72975910p74475909.bz2</a> 5.1 MB</li>\\n<li class=\\'file\\'><a href=\"/enwiki/20231020/enwiki-20231020-pages-articles-multistream27.xml-p74475910p75105778.bz2\">enwiki-20231020-pages-articles-multistream27.xml-p74475910p75105778.bz2</a> 161.5 MB</li>\\n<li class=\\'file\\'><a href=\"/enwiki/20231020/enwiki-20231020-pages-articles-multistream-index27.txt-p74475910p75105778.bz2\">enwiki-20231020-pages-articles-multistream-index27.txt-p74475910p75105778.bz2</a> 2.5 MB</li></ul></li>\\n<li class=\\'skipped\\'><span class=\\'updates\\'>2023-10-21 09:53:01</span> <span class=\\'status\\'>skipped</span> <span class=\\'title\\'>All pages with complete edit history (.7z)</span></li>\\n<li class=\\'skipped\\'><span class=\\'updates\\'>2023-10-21 09:53:01</span> <span class=\\'status\\'>skipped</span> <span class=\\'title\\'>All pages with complete page edit history (.bz2)</span></li>\\n<li class=\\'done\\'><span class=\\'updates\\'>2023-10-21 21:10:38</span> <span class=\\'status\\'>done</span> <span class=\\'title\\'>Recombine Log events to all pages and users</span><ul><li class=\\'file\\'><a href=\"/enwiki/20231020/enwiki-20231020-pages-logging.xml.gz\">enwiki-20231020-pages-logging.xml.gz</a> 5.2 GB</li></ul></li>\\n<li class=\\'done\\'><span class=\\'updates\\'>2023-10-21 21:07:15</span> <span class=\\'status\\'>done</span> <span class=\\'title\\'>Log events to all pages and users.</span><ul><li class=\\'detail\\'>This contains the log of actions performed on pages and users.</li>\\n<li class=\\'file\\'><a href=\"/enwiki/20231020/enwiki-20231020-pages-logging1.xml.gz\">enwiki-20231020-pages-logging1.xml.gz</a> 231.5 MB</li>\\n<li class=\\'file\\'><a href=\"/enwiki/20231020/enwiki-20231020-pages-logging2.xml.gz\">enwiki-20231020-pages-logging2.xml.gz</a> 210.0 MB</li>\\n<li class=\\'file\\'><a href=\"/enwiki/20231020/enwiki-20231020-pages-logging3.xml.gz\">enwiki-20231020-pages-logging3.xml.gz</a> 208.3 MB</li>\\n<li class=\\'file\\'><a href=\"/enwiki/20231020/enwiki-20231020-pages-logging4.xml.gz\">enwiki-20231020-pages-logging4.xml.gz</a> 165.1 MB</li>\\n<li class=\\'file\\'><a href=\"/enwiki/20231020/enwiki-20231020-pages-logging5.xml.gz\">enwiki-20231020-pages-logging5.xml.gz</a> 158.5 MB</li>\\n<li class=\\'file\\'><a href=\"/enwiki/20231020/enwiki-20231020-pages-logging6.xml.gz\">enwiki-20231020-pages-logging6.xml.gz</a> 144.2 MB</li>\\n<li class=\\'file\\'><a href=\"/enwiki/20231020/enwiki-20231020-pages-logging7.xml.gz\">enwiki-20231020-pages-logging7.xml.gz</a> 148.8 MB</li>\\n<li class=\\'file\\'><a href=\"/enwiki/20231020/enwiki-20231020-pages-logging8.xml.gz\">enwiki-20231020-pages-logging8.xml.gz</a> 141.2 MB</li>\\n<li class=\\'file\\'><a href=\"/enwiki/20231020/enwiki-20231020-pages-logging9.xml.gz\">enwiki-20231020-pages-logging9.xml.gz</a> 150.8 MB</li>\\n<li class=\\'file\\'><a href=\"/enwiki/20231020/enwiki-20231020-pages-logging10.xml.gz\">enwiki-20231020-pages-logging10.xml.gz</a> 140.0 MB</li>\\n<li class=\\'file\\'><a href=\"/enwiki/20231020/enwiki-20231020-pages-logging11.xml.gz\">enwiki-20231020-pages-logging11.xml.gz</a> 157.1 MB</li>\\n<li class=\\'file\\'><a href=\"/enwiki/20231020/enwiki-20231020-pages-logging12.xml.gz\">enwiki-20231020-pages-logging12.xml.gz</a> 141.0 MB</li>\\n<li class=\\'file\\'><a href=\"/enwiki/20231020/enwiki-20231020-pages-logging13.xml.gz\">enwiki-20231020-pages-logging13.xml.gz</a> 150.1 MB</li>\\n<li class=\\'file\\'><a href=\"/enwiki/20231020/enwiki-20231020-pages-logging14.xml.gz\">enwiki-20231020-pages-logging14.xml.gz</a> 150.5 MB</li>\\n<li class=\\'file\\'><a href=\"/enwiki/20231020/enwiki-20231020-pages-logging15.xml.gz\">enwiki-20231020-pages-logging15.xml.gz</a> 159.6 MB</li>\\n<li class=\\'file\\'><a href=\"/enwiki/20231020/enwiki-20231020-pages-logging16.xml.gz\">enwiki-20231020-pages-logging16.xml.gz</a> 173.2 MB</li>\\n<li class=\\'file\\'><a href=\"/enwiki/20231020/enwiki-20231020-pages-logging17.xml.gz\">enwiki-20231020-pages-logging17.xml.gz</a> 250.7 MB</li>\\n<li class=\\'file\\'><a href=\"/enwiki/20231020/enwiki-20231020-pages-logging18.xml.gz\">enwiki-20231020-pages-logging18.xml.gz</a> 251.4 MB</li>\\n<li class=\\'file\\'><a href=\"/enwiki/20231020/enwiki-20231020-pages-logging19.xml.gz\">enwiki-20231020-pages-logging19.xml.gz</a> 252.3 MB</li>\\n<li class=\\'file\\'><a href=\"/enwiki/20231020/enwiki-20231020-pages-logging20.xml.gz\">enwiki-20231020-pages-logging20.xml.gz</a> 256.8 MB</li>\\n<li class=\\'file\\'><a href=\"/enwiki/20231020/enwiki-20231020-pages-logging21.xml.gz\">enwiki-20231020-pages-logging21.xml.gz</a> 254.3 MB</li>\\n<li class=\\'file\\'><a href=\"/enwiki/20231020/enwiki-20231020-pages-logging22.xml.gz\">enwiki-20231020-pages-logging22.xml.gz</a> 239.9 MB</li>\\n<li class=\\'file\\'><a href=\"/enwiki/20231020/enwiki-20231020-pages-logging23.xml.gz\">enwiki-20231020-pages-logging23.xml.gz</a> 238.3 MB</li>\\n<li class=\\'file\\'><a href=\"/enwiki/20231020/enwiki-20231020-pages-logging24.xml.gz\">enwiki-20231020-pages-logging24.xml.gz</a> 223.0 MB</li>\\n<li class=\\'file\\'><a href=\"/enwiki/20231020/enwiki-20231020-pages-logging25.xml.gz\">enwiki-20231020-pages-logging25.xml.gz</a> 224.2 MB</li>\\n<li class=\\'file\\'><a href=\"/enwiki/20231020/enwiki-20231020-pages-logging26.xml.gz\">enwiki-20231020-pages-logging26.xml.gz</a> 229.5 MB</li>\\n<li class=\\'file\\'><a href=\"/enwiki/20231020/enwiki-20231020-pages-logging27.xml.gz\">enwiki-20231020-pages-logging27.xml.gz</a> 231.3 MB</li></ul></li>\\n<li class=\\'done\\'><span class=\\'updates\\'>2023-10-21 09:33:19</span> <span class=\\'status\\'>done</span> <span class=\\'title\\'>Recombine all pages, current versions only.</span><ul><li class=\\'file\\'><a href=\"/enwiki/20231020/enwiki-20231020-pages-meta-current.xml.bz2\">enwiki-20231020-pages-meta-current.xml.bz2</a> 36.7 GB</li></ul></li>\\n<li class=\\'done\\'><span class=\\'updates\\'>2023-10-21 06:57:38</span> <span class=\\'status\\'>done</span> <span class=\\'title\\'>All pages, current versions only.</span><ul><li class=\\'file\\'><a href=\"/enwiki/20231020/enwiki-20231020-pages-meta-current1.xml-p1p41242.bz2\">enwiki-20231020-pages-meta-current1.xml-p1p41242.bz2</a> 282.7 MB</li>\\n<li class=\\'file\\'><a href=\"/enwiki/20231020/enwiki-20231020-pages-meta-current2.xml-p41243p151573.bz2\">enwiki-20231020-pages-meta-current2.xml-p41243p151573.bz2</a> 382.0 MB</li>\\n<li class=\\'file\\'><a href=\"/enwiki/20231020/enwiki-20231020-pages-meta-current3.xml-p151574p311329.bz2\">enwiki-20231020-pages-meta-current3.xml-p151574p311329.bz2</a> 449.3 MB</li>\\n<li class=\\'file\\'><a href=\"/enwiki/20231020/enwiki-20231020-pages-meta-current4.xml-p311330p558391.bz2\">enwiki-20231020-pages-meta-current4.xml-p311330p558391.bz2</a> 507.3 MB</li>\\n<li class=\\'file\\'><a href=\"/enwiki/20231020/enwiki-20231020-pages-meta-current5.xml-p558392p958045.bz2\">enwiki-20231020-pages-meta-current5.xml-p558392p958045.bz2</a> 553.4 MB</li>\\n<li class=\\'file\\'><a href=\"/enwiki/20231020/enwiki-20231020-pages-meta-current6.xml-p958046p1483661.bz2\">enwiki-20231020-pages-meta-current6.xml-p958046p1483661.bz2</a> 627.0 MB</li>\\n<li class=\\'file\\'><a href=\"/enwiki/20231020/enwiki-20231020-pages-meta-current7.xml-p1483662p2134111.bz2\">enwiki-20231020-pages-meta-current7.xml-p1483662p2134111.bz2</a> 665.1 MB</li>\\n<li class=\\'file\\'><a href=\"/enwiki/20231020/enwiki-20231020-pages-meta-current8.xml-p2134112p2936260.bz2\">enwiki-20231020-pages-meta-current8.xml-p2134112p2936260.bz2</a> 703.3 MB</li>\\n<li class=\\'file\\'><a href=\"/enwiki/20231020/enwiki-20231020-pages-meta-current9.xml-p2936261p4045402.bz2\">enwiki-20231020-pages-meta-current9.xml-p2936261p4045402.bz2</a> 834.5 MB</li>\\n<li class=\\'file\\'><a href=\"/enwiki/20231020/enwiki-20231020-pages-meta-current10.xml-p4045403p5399366.bz2\">enwiki-20231020-pages-meta-current10.xml-p4045403p5399366.bz2</a> 872.5 MB</li>\\n<li class=\\'file\\'><a href=\"/enwiki/20231020/enwiki-20231020-pages-meta-current11.xml-p5399367p6899366.bz2\">enwiki-20231020-pages-meta-current11.xml-p5399367p6899366.bz2</a> 893.6 MB</li>\\n<li class=\\'file\\'><a href=\"/enwiki/20231020/enwiki-20231020-pages-meta-current11.xml-p6899367p7054859.bz2\">enwiki-20231020-pages-meta-current11.xml-p6899367p7054859.bz2</a> 84.6 MB</li>\\n<li class=\\'file\\'><a href=\"/enwiki/20231020/enwiki-20231020-pages-meta-current12.xml-p7054860p8554859.bz2\">enwiki-20231020-pages-meta-current12.xml-p7054860p8554859.bz2</a> 758.1 MB</li>\\n<li class=\\'file\\'><a href=\"/enwiki/20231020/enwiki-20231020-pages-meta-current12.xml-p8554860p9172788.bz2\">enwiki-20231020-pages-meta-current12.xml-p8554860p9172788.bz2</a> 311.5 MB</li>\\n<li class=\\'file\\'><a href=\"/enwiki/20231020/enwiki-20231020-pages-meta-current13.xml-p9172789p10672788.bz2\">enwiki-20231020-pages-meta-current13.xml-p9172789p10672788.bz2</a> 681.2 MB</li>\\n<li class=\\'file\\'><a href=\"/enwiki/20231020/enwiki-20231020-pages-meta-current13.xml-p10672789p11659682.bz2\">enwiki-20231020-pages-meta-current13.xml-p10672789p11659682.bz2</a> 445.8 MB</li>\\n<li class=\\'file\\'><a href=\"/enwiki/20231020/enwiki-20231020-pages-meta-current14.xml-p11659683p13159682.bz2\">enwiki-20231020-pages-meta-current14.xml-p11659683p13159682.bz2</a> 715.8 MB</li>\\n<li class=\\'file\\'><a href=\"/enwiki/20231020/enwiki-20231020-pages-meta-current14.xml-p13159683p14324602.bz2\">enwiki-20231020-pages-meta-current14.xml-p13159683p14324602.bz2</a> 519.5 MB</li>\\n<li class=\\'file\\'><a href=\"/enwiki/20231020/enwiki-20231020-pages-meta-current15.xml-p14324603p15824602.bz2\">enwiki-20231020-pages-meta-current15.xml-p14324603p15824602.bz2</a> 666.8 MB</li>\\n<li class=\\'file\\'><a href=\"/enwiki/20231020/enwiki-20231020-pages-meta-current15.xml-p15824603p17324602.bz2\">enwiki-20231020-pages-meta-current15.xml-p15824603p17324602.bz2</a> 593.3 MB</li>\\n<li class=\\'file\\'><a href=\"/enwiki/20231020/enwiki-20231020-pages-meta-current15.xml-p17324603p17460152.bz2\">enwiki-20231020-pages-meta-current15.xml-p17324603p17460152.bz2</a> 54.8 MB</li>\\n<li class=\\'file\\'><a href=\"/enwiki/20231020/enwiki-20231020-pages-meta-current16.xml-p17460153p18960152.bz2\">enwiki-20231020-pages-meta-current16.xml-p17460153p18960152.bz2</a> 653.0 MB</li>\\n<li class=\\'file\\'><a href=\"/enwiki/20231020/enwiki-20231020-pages-meta-current16.xml-p18960153p20460152.bz2\">enwiki-20231020-pages-meta-current16.xml-p18960153p20460152.bz2</a> 612.3 MB</li>\\n<li class=\\'file\\'><a href=\"/enwiki/20231020/enwiki-20231020-pages-meta-current16.xml-p20460153p20570392.bz2\">enwiki-20231020-pages-meta-current16.xml-p20460153p20570392.bz2</a> 46.5 MB</li>\\n<li class=\\'file\\'><a href=\"/enwiki/20231020/enwiki-20231020-pages-meta-current17.xml-p20570393p22070392.bz2\">enwiki-20231020-pages-meta-current17.xml-p20570393p22070392.bz2</a> 685.6 MB</li>\\n<li class=\\'file\\'><a href=\"/enwiki/20231020/enwiki-20231020-pages-meta-current17.xml-p22070393p23570392.bz2\">enwiki-20231020-pages-meta-current17.xml-p22070393p23570392.bz2</a> 696.2 MB</li>\\n<li class=\\'file\\'><a href=\"/enwiki/20231020/enwiki-20231020-pages-meta-current17.xml-p23570393p23716197.bz2\">enwiki-20231020-pages-meta-current17.xml-p23570393p23716197.bz2</a> 76.1 MB</li>\\n<li class=\\'file\\'><a href=\"/enwiki/20231020/enwiki-20231020-pages-meta-current18.xml-p23716198p25216197.bz2\">enwiki-20231020-pages-meta-current18.xml-p23716198p25216197.bz2</a> 729.6 MB</li>\\n<li class=\\'file\\'><a href=\"/enwiki/20231020/enwiki-20231020-pages-meta-current18.xml-p25216198p26716197.bz2\">enwiki-20231020-pages-meta-current18.xml-p25216198p26716197.bz2</a> 709.1 MB</li>\\n<li class=\\'file\\'><a href=\"/enwiki/20231020/enwiki-20231020-pages-meta-current18.xml-p26716198p27121850.bz2\">enwiki-20231020-pages-meta-current18.xml-p26716198p27121850.bz2</a> 170.5 MB</li>\\n<li class=\\'file\\'><a href=\"/enwiki/20231020/enwiki-20231020-pages-meta-current19.xml-p27121851p28621850.bz2\">enwiki-20231020-pages-meta-current19.xml-p27121851p28621850.bz2</a> 666.3 MB</li>\\n<li class=\\'file\\'><a href=\"/enwiki/20231020/enwiki-20231020-pages-meta-current19.xml-p28621851p30121850.bz2\">enwiki-20231020-pages-meta-current19.xml-p28621851p30121850.bz2</a> 597.5 MB</li>\\n<li class=\\'file\\'><a href=\"/enwiki/20231020/enwiki-20231020-pages-meta-current19.xml-p30121851p31308442.bz2\">enwiki-20231020-pages-meta-current19.xml-p30121851p31308442.bz2</a> 528.9 MB</li>\\n<li class=\\'file\\'><a href=\"/enwiki/20231020/enwiki-20231020-pages-meta-current20.xml-p31308443p32808442.bz2\">enwiki-20231020-pages-meta-current20.xml-p31308443p32808442.bz2</a> 724.0 MB</li>\\n<li class=\\'file\\'><a href=\"/enwiki/20231020/enwiki-20231020-pages-meta-current20.xml-p32808443p34308442.bz2\">enwiki-20231020-pages-meta-current20.xml-p32808443p34308442.bz2</a> 675.0 MB</li>\\n<li class=\\'file\\'><a href=\"/enwiki/20231020/enwiki-20231020-pages-meta-current20.xml-p34308443p35522432.bz2\">enwiki-20231020-pages-meta-current20.xml-p34308443p35522432.bz2</a> 517.7 MB</li>\\n<li class=\\'file\\'><a href=\"/enwiki/20231020/enwiki-20231020-pages-meta-current21.xml-p35522433p37022432.bz2\">enwiki-20231020-pages-meta-current21.xml-p35522433p37022432.bz2</a> 697.3 MB</li>\\n<li class=\\'file\\'><a href=\"/enwiki/20231020/enwiki-20231020-pages-meta-current21.xml-p37022433p38522432.bz2\">enwiki-20231020-pages-meta-current21.xml-p37022433p38522432.bz2</a> 679.9 MB</li>\\n<li class=\\'file\\'><a href=\"/enwiki/20231020/enwiki-20231020-pages-meta-current21.xml-p38522433p39996245.bz2\">enwiki-20231020-pages-meta-current21.xml-p38522433p39996245.bz2</a> 663.2 MB</li>\\n<li class=\\'file\\'><a href=\"/enwiki/20231020/enwiki-20231020-pages-meta-current22.xml-p39996246p41496245.bz2\">enwiki-20231020-pages-meta-current22.xml-p39996246p41496245.bz2</a> 676.2 MB</li>\\n<li class=\\'file\\'><a href=\"/enwiki/20231020/enwiki-20231020-pages-meta-current22.xml-p41496246p42996245.bz2\">enwiki-20231020-pages-meta-current22.xml-p41496246p42996245.bz2</a> 714.0 MB</li>\\n<li class=\\'file\\'><a href=\"/enwiki/20231020/enwiki-20231020-pages-meta-current22.xml-p42996246p44496245.bz2\">enwiki-20231020-pages-meta-current22.xml-p42996246p44496245.bz2</a> 700.3 MB</li>\\n<li class=\\'file\\'><a href=\"/enwiki/20231020/enwiki-20231020-pages-meta-current22.xml-p44496246p44788941.bz2\">enwiki-20231020-pages-meta-current22.xml-p44496246p44788941.bz2</a> 115.2 MB</li>\\n<li class=\\'file\\'><a href=\"/enwiki/20231020/enwiki-20231020-pages-meta-current23.xml-p44788942p46288941.bz2\">enwiki-20231020-pages-meta-current23.xml-p44788942p46288941.bz2</a> 491.9 MB</li>\\n<li class=\\'file\\'><a href=\"/enwiki/20231020/enwiki-20231020-pages-meta-current23.xml-p46288942p47788941.bz2\">enwiki-20231020-pages-meta-current23.xml-p46288942p47788941.bz2</a> 709.5 MB</li>\\n<li class=\\'file\\'><a href=\"/enwiki/20231020/enwiki-20231020-pages-meta-current23.xml-p47788942p49288941.bz2\">enwiki-20231020-pages-meta-current23.xml-p47788942p49288941.bz2</a> 619.8 MB</li>\\n<li class=\\'file\\'><a href=\"/enwiki/20231020/enwiki-20231020-pages-meta-current23.xml-p49288942p50564553.bz2\">enwiki-20231020-pages-meta-current23.xml-p49288942p50564553.bz2</a> 485.1 MB</li>\\n<li class=\\'file\\'><a href=\"/enwiki/20231020/enwiki-20231020-pages-meta-current24.xml-p50564554p52064553.bz2\">enwiki-20231020-pages-meta-current24.xml-p50564554p52064553.bz2</a> 632.9 MB</li>\\n<li class=\\'file\\'><a href=\"/enwiki/20231020/enwiki-20231020-pages-meta-current24.xml-p52064554p53564553.bz2\">enwiki-20231020-pages-meta-current24.xml-p52064554p53564553.bz2</a> 662.7 MB</li>\\n<li class=\\'file\\'><a href=\"/enwiki/20231020/enwiki-20231020-pages-meta-current24.xml-p53564554p55064553.bz2\">enwiki-20231020-pages-meta-current24.xml-p53564554p55064553.bz2</a> 626.8 MB</li>\\n<li class=\\'file\\'><a href=\"/enwiki/20231020/enwiki-20231020-pages-meta-current24.xml-p55064554p56564553.bz2\">enwiki-20231020-pages-meta-current24.xml-p55064554p56564553.bz2</a> 701.0 MB</li>\\n<li class=\\'file\\'><a href=\"/enwiki/20231020/enwiki-20231020-pages-meta-current24.xml-p56564554p57025655.bz2\">enwiki-20231020-pages-meta-current24.xml-p56564554p57025655.bz2</a> 226.8 MB</li>\\n<li class=\\'file\\'><a href=\"/enwiki/20231020/enwiki-20231020-pages-meta-current25.xml-p57025656p58525655.bz2\">enwiki-20231020-pages-meta-current25.xml-p57025656p58525655.bz2</a> 720.9 MB</li>\\n<li class=\\'file\\'><a href=\"/enwiki/20231020/enwiki-20231020-pages-meta-current25.xml-p58525656p60025655.bz2\">enwiki-20231020-pages-meta-current25.xml-p58525656p60025655.bz2</a> 670.4 MB</li>\\n<li class=\\'file\\'><a href=\"/enwiki/20231020/enwiki-20231020-pages-meta-current25.xml-p60025656p61525655.bz2\">enwiki-20231020-pages-meta-current25.xml-p60025656p61525655.bz2</a> 706.0 MB</li>\\n<li class=\\'file\\'><a href=\"/enwiki/20231020/enwiki-20231020-pages-meta-current25.xml-p61525656p62585850.bz2\">enwiki-20231020-pages-meta-current25.xml-p61525656p62585850.bz2</a> 497.9 MB</li>\\n<li class=\\'file\\'><a href=\"/enwiki/20231020/enwiki-20231020-pages-meta-current26.xml-p62585851p63975909.bz2\">enwiki-20231020-pages-meta-current26.xml-p62585851p63975909.bz2</a> 710.6 MB</li>\\n<li class=\\'file\\'><a href=\"/enwiki/20231020/enwiki-20231020-pages-meta-current27.xml-p63975910p65475909.bz2\">enwiki-20231020-pages-meta-current27.xml-p63975910p65475909.bz2</a> 645.0 MB</li>\\n<li class=\\'file\\'><a href=\"/enwiki/20231020/enwiki-20231020-pages-meta-current27.xml-p65475910p66975909.bz2\">enwiki-20231020-pages-meta-current27.xml-p65475910p66975909.bz2</a> 725.4 MB</li>\\n<li class=\\'file\\'><a href=\"/enwiki/20231020/enwiki-20231020-pages-meta-current27.xml-p66975910p68475909.bz2\">enwiki-20231020-pages-meta-current27.xml-p66975910p68475909.bz2</a> 729.8 MB</li>\\n<li class=\\'file\\'><a href=\"/enwiki/20231020/enwiki-20231020-pages-meta-current27.xml-p68475910p69975909.bz2\">enwiki-20231020-pages-meta-current27.xml-p68475910p69975909.bz2</a> 748.4 MB</li>\\n<li class=\\'file\\'><a href=\"/enwiki/20231020/enwiki-20231020-pages-meta-current27.xml-p69975910p71475909.bz2\">enwiki-20231020-pages-meta-current27.xml-p69975910p71475909.bz2</a> 711.2 MB</li>\\n<li class=\\'file\\'><a href=\"/enwiki/20231020/enwiki-20231020-pages-meta-current27.xml-p71475910p72975909.bz2\">enwiki-20231020-pages-meta-current27.xml-p71475910p72975909.bz2</a> 685.8 MB</li>\\n<li class=\\'file\\'><a href=\"/enwiki/20231020/enwiki-20231020-pages-meta-current27.xml-p72975910p74475909.bz2\">enwiki-20231020-pages-meta-current27.xml-p72975910p74475909.bz2</a> 663.5 MB</li>\\n<li class=\\'file\\'><a href=\"/enwiki/20231020/enwiki-20231020-pages-meta-current27.xml-p74475910p75105783.bz2\">enwiki-20231020-pages-meta-current27.xml-p74475910p75105783.bz2</a> 295.4 MB</li></ul></li>\\n<li class=\\'done\\'><span class=\\'updates\\'>2023-10-21 03:59:56</span> <span class=\\'status\\'>done</span> <span class=\\'title\\'><big><b>Recombine articles, templates, media/file descriptions, and primary meta-pages.</b></big></span><ul><li class=\\'file\\'><a href=\"/enwiki/20231020/enwiki-20231020-pages-articles.xml.bz2\">enwiki-20231020-pages-articles.xml.bz2</a> 19.9 GB</li></ul></li>\\n<li class=\\'done\\'><span class=\\'updates\\'>2023-10-21 02:31:38</span> <span class=\\'status\\'>done</span> <span class=\\'title\\'><big><b>Articles, templates, media/file descriptions, and primary meta-pages.</b></big></span><ul><li class=\\'file\\'><a href=\"/enwiki/20231020/enwiki-20231020-pages-articles1.xml-p1p41242.bz2\">enwiki-20231020-pages-articles1.xml-p1p41242.bz2</a> 260.4 MB</li>\\n<li class=\\'file\\'><a href=\"/enwiki/20231020/enwiki-20231020-pages-articles2.xml-p41243p151573.bz2\">enwiki-20231020-pages-articles2.xml-p41243p151573.bz2</a> 345.4 MB</li>\\n<li class=\\'file\\'><a href=\"/enwiki/20231020/enwiki-20231020-pages-articles3.xml-p151574p311329.bz2\">enwiki-20231020-pages-articles3.xml-p151574p311329.bz2</a> 376.1 MB</li>\\n<li class=\\'file\\'><a href=\"/enwiki/20231020/enwiki-20231020-pages-articles4.xml-p311330p558391.bz2\">enwiki-20231020-pages-articles4.xml-p311330p558391.bz2</a> 417.7 MB</li>\\n<li class=\\'file\\'><a href=\"/enwiki/20231020/enwiki-20231020-pages-articles5.xml-p558392p958045.bz2\">enwiki-20231020-pages-articles5.xml-p558392p958045.bz2</a> 445.7 MB</li>\\n<li class=\\'file\\'><a href=\"/enwiki/20231020/enwiki-20231020-pages-articles6.xml-p958046p1483661.bz2\">enwiki-20231020-pages-articles6.xml-p958046p1483661.bz2</a> 476.6 MB</li>\\n<li class=\\'file\\'><a href=\"/enwiki/20231020/enwiki-20231020-pages-articles7.xml-p1483662p2134111.bz2\">enwiki-20231020-pages-articles7.xml-p1483662p2134111.bz2</a> 486.8 MB</li>\\n<li class=\\'file\\'><a href=\"/enwiki/20231020/enwiki-20231020-pages-articles8.xml-p2134112p2936260.bz2\">enwiki-20231020-pages-articles8.xml-p2134112p2936260.bz2</a> 495.1 MB</li>\\n<li class=\\'file\\'><a href=\"/enwiki/20231020/enwiki-20231020-pages-articles9.xml-p2936261p4045402.bz2\">enwiki-20231020-pages-articles9.xml-p2936261p4045402.bz2</a> 532.5 MB</li>\\n<li class=\\'file\\'><a href=\"/enwiki/20231020/enwiki-20231020-pages-articles10.xml-p4045403p5399366.bz2\">enwiki-20231020-pages-articles10.xml-p4045403p5399366.bz2</a> 522.7 MB</li>\\n<li class=\\'file\\'><a href=\"/enwiki/20231020/enwiki-20231020-pages-articles11.xml-p5399367p6899366.bz2\">enwiki-20231020-pages-articles11.xml-p5399367p6899366.bz2</a> 503.7 MB</li>\\n<li class=\\'file\\'><a href=\"/enwiki/20231020/enwiki-20231020-pages-articles11.xml-p6899367p7054859.bz2\">enwiki-20231020-pages-articles11.xml-p6899367p7054859.bz2</a> 48.2 MB</li>\\n<li class=\\'file\\'><a href=\"/enwiki/20231020/enwiki-20231020-pages-articles12.xml-p7054860p8554859.bz2\">enwiki-20231020-pages-articles12.xml-p7054860p8554859.bz2</a> 415.9 MB</li>\\n<li class=\\'file\\'><a href=\"/enwiki/20231020/enwiki-20231020-pages-articles12.xml-p8554860p9172788.bz2\">enwiki-20231020-pages-articles12.xml-p8554860p9172788.bz2</a> 167.9 MB</li>\\n<li class=\\'file\\'><a href=\"/enwiki/20231020/enwiki-20231020-pages-articles13.xml-p9172789p10672788.bz2\">enwiki-20231020-pages-articles13.xml-p9172789p10672788.bz2</a> 339.1 MB</li>\\n<li class=\\'file\\'><a href=\"/enwiki/20231020/enwiki-20231020-pages-articles13.xml-p10672789p11659682.bz2\">enwiki-20231020-pages-articles13.xml-p10672789p11659682.bz2</a> 234.8 MB</li>\\n<li class=\\'file\\'><a href=\"/enwiki/20231020/enwiki-20231020-pages-articles14.xml-p11659683p13159682.bz2\">enwiki-20231020-pages-articles14.xml-p11659683p13159682.bz2</a> 405.0 MB</li>\\n<li class=\\'file\\'><a href=\"/enwiki/20231020/enwiki-20231020-pages-articles14.xml-p13159683p14324602.bz2\">enwiki-20231020-pages-articles14.xml-p13159683p14324602.bz2</a> 278.6 MB</li>\\n<li class=\\'file\\'><a href=\"/enwiki/20231020/enwiki-20231020-pages-articles15.xml-p14324603p15824602.bz2\">enwiki-20231020-pages-articles15.xml-p14324603p15824602.bz2</a> 360.9 MB</li>\\n<li class=\\'file\\'><a href=\"/enwiki/20231020/enwiki-20231020-pages-articles15.xml-p15824603p17324602.bz2\">enwiki-20231020-pages-articles15.xml-p15824603p17324602.bz2</a> 310.5 MB</li>\\n<li class=\\'file\\'><a href=\"/enwiki/20231020/enwiki-20231020-pages-articles15.xml-p17324603p17460152.bz2\">enwiki-20231020-pages-articles15.xml-p17324603p17460152.bz2</a> 28.6 MB</li>\\n<li class=\\'file\\'><a href=\"/enwiki/20231020/enwiki-20231020-pages-articles16.xml-p17460153p18960152.bz2\">enwiki-20231020-pages-articles16.xml-p17460153p18960152.bz2</a> 342.9 MB</li>\\n<li class=\\'file\\'><a href=\"/enwiki/20231020/enwiki-20231020-pages-articles16.xml-p18960153p20460152.bz2\">enwiki-20231020-pages-articles16.xml-p18960153p20460152.bz2</a> 318.1 MB</li>\\n<li class=\\'file\\'><a href=\"/enwiki/20231020/enwiki-20231020-pages-articles16.xml-p20460153p20570392.bz2\">enwiki-20231020-pages-articles16.xml-p20460153p20570392.bz2</a> 23.4 MB</li>\\n<li class=\\'file\\'><a href=\"/enwiki/20231020/enwiki-20231020-pages-articles17.xml-p20570393p22070392.bz2\">enwiki-20231020-pages-articles17.xml-p20570393p22070392.bz2</a> 354.6 MB</li>\\n<li class=\\'file\\'><a href=\"/enwiki/20231020/enwiki-20231020-pages-articles17.xml-p22070393p23570392.bz2\">enwiki-20231020-pages-articles17.xml-p22070393p23570392.bz2</a> 364.7 MB</li>\\n<li class=\\'file\\'><a href=\"/enwiki/20231020/enwiki-20231020-pages-articles17.xml-p23570393p23716197.bz2\">enwiki-20231020-pages-articles17.xml-p23570393p23716197.bz2</a> 40.5 MB</li>\\n<li class=\\'file\\'><a href=\"/enwiki/20231020/enwiki-20231020-pages-articles18.xml-p23716198p25216197.bz2\">enwiki-20231020-pages-articles18.xml-p23716198p25216197.bz2</a> 378.8 MB</li>\\n<li class=\\'file\\'><a href=\"/enwiki/20231020/enwiki-20231020-pages-articles18.xml-p25216198p26716197.bz2\">enwiki-20231020-pages-articles18.xml-p25216198p26716197.bz2</a> 347.5 MB</li>\\n<li class=\\'file\\'><a href=\"/enwiki/20231020/enwiki-20231020-pages-articles18.xml-p26716198p27121850.bz2\">enwiki-20231020-pages-articles18.xml-p26716198p27121850.bz2</a> 88.1 MB</li>\\n<li class=\\'file\\'><a href=\"/enwiki/20231020/enwiki-20231020-pages-articles19.xml-p27121851p28621850.bz2\">enwiki-20231020-pages-articles19.xml-p27121851p28621850.bz2</a> 337.8 MB</li>\\n<li class=\\'file\\'><a href=\"/enwiki/20231020/enwiki-20231020-pages-articles19.xml-p28621851p30121850.bz2\">enwiki-20231020-pages-articles19.xml-p28621851p30121850.bz2</a> 296.9 MB</li>\\n<li class=\\'file\\'><a href=\"/enwiki/20231020/enwiki-20231020-pages-articles19.xml-p30121851p31308442.bz2\">enwiki-20231020-pages-articles19.xml-p30121851p31308442.bz2</a> 284.2 MB</li>\\n<li class=\\'file\\'><a href=\"/enwiki/20231020/enwiki-20231020-pages-articles20.xml-p31308443p32808442.bz2\">enwiki-20231020-pages-articles20.xml-p31308443p32808442.bz2</a> 383.5 MB</li>\\n<li class=\\'file\\'><a href=\"/enwiki/20231020/enwiki-20231020-pages-articles20.xml-p32808443p34308442.bz2\">enwiki-20231020-pages-articles20.xml-p32808443p34308442.bz2</a> 349.9 MB</li>\\n<li class=\\'file\\'><a href=\"/enwiki/20231020/enwiki-20231020-pages-articles20.xml-p34308443p35522432.bz2\">enwiki-20231020-pages-articles20.xml-p34308443p35522432.bz2</a> 258.2 MB</li>\\n<li class=\\'file\\'><a href=\"/enwiki/20231020/enwiki-20231020-pages-articles21.xml-p35522433p37022432.bz2\">enwiki-20231020-pages-articles21.xml-p35522433p37022432.bz2</a> 354.2 MB</li>\\n<li class=\\'file\\'><a href=\"/enwiki/20231020/enwiki-20231020-pages-articles21.xml-p37022433p38522432.bz2\">enwiki-20231020-pages-articles21.xml-p37022433p38522432.bz2</a> 342.7 MB</li>\\n<li class=\\'file\\'><a href=\"/enwiki/20231020/enwiki-20231020-pages-articles21.xml-p38522433p39996245.bz2\">enwiki-20231020-pages-articles21.xml-p38522433p39996245.bz2</a> 347.7 MB</li>\\n<li class=\\'file\\'><a href=\"/enwiki/20231020/enwiki-20231020-pages-articles22.xml-p39996246p41496245.bz2\">enwiki-20231020-pages-articles22.xml-p39996246p41496245.bz2</a> 342.2 MB</li>\\n<li class=\\'file\\'><a href=\"/enwiki/20231020/enwiki-20231020-pages-articles22.xml-p41496246p42996245.bz2\">enwiki-20231020-pages-articles22.xml-p41496246p42996245.bz2</a> 352.4 MB</li>\\n<li class=\\'file\\'><a href=\"/enwiki/20231020/enwiki-20231020-pages-articles22.xml-p42996246p44496245.bz2\">enwiki-20231020-pages-articles22.xml-p42996246p44496245.bz2</a> 355.8 MB</li>\\n<li class=\\'file\\'><a href=\"/enwiki/20231020/enwiki-20231020-pages-articles22.xml-p44496246p44788941.bz2\">enwiki-20231020-pages-articles22.xml-p44496246p44788941.bz2</a> 56.3 MB</li>\\n<li class=\\'file\\'><a href=\"/enwiki/20231020/enwiki-20231020-pages-articles23.xml-p44788942p46288941.bz2\">enwiki-20231020-pages-articles23.xml-p44788942p46288941.bz2</a> 229.8 MB</li>\\n<li class=\\'file\\'><a href=\"/enwiki/20231020/enwiki-20231020-pages-articles23.xml-p46288942p47788941.bz2\">enwiki-20231020-pages-articles23.xml-p46288942p47788941.bz2</a> 366.2 MB</li>\\n<li class=\\'file\\'><a href=\"/enwiki/20231020/enwiki-20231020-pages-articles23.xml-p47788942p49288941.bz2\">enwiki-20231020-pages-articles23.xml-p47788942p49288941.bz2</a> 306.8 MB</li>\\n<li class=\\'file\\'><a href=\"/enwiki/20231020/enwiki-20231020-pages-articles23.xml-p49288942p50564553.bz2\">enwiki-20231020-pages-articles23.xml-p49288942p50564553.bz2</a> 238.7 MB</li>\\n<li class=\\'file\\'><a href=\"/enwiki/20231020/enwiki-20231020-pages-articles24.xml-p50564554p52064553.bz2\">enwiki-20231020-pages-articles24.xml-p50564554p52064553.bz2</a> 328.8 MB</li>\\n<li class=\\'file\\'><a href=\"/enwiki/20231020/enwiki-20231020-pages-articles24.xml-p52064554p53564553.bz2\">enwiki-20231020-pages-articles24.xml-p52064554p53564553.bz2</a> 329.5 MB</li>\\n<li class=\\'file\\'><a href=\"/enwiki/20231020/enwiki-20231020-pages-articles24.xml-p53564554p55064553.bz2\">enwiki-20231020-pages-articles24.xml-p53564554p55064553.bz2</a> 314.3 MB</li>\\n<li class=\\'file\\'><a href=\"/enwiki/20231020/enwiki-20231020-pages-articles24.xml-p55064554p56564553.bz2\">enwiki-20231020-pages-articles24.xml-p55064554p56564553.bz2</a> 330.0 MB</li>\\n<li class=\\'file\\'><a href=\"/enwiki/20231020/enwiki-20231020-pages-articles24.xml-p56564554p57025655.bz2\">enwiki-20231020-pages-articles24.xml-p56564554p57025655.bz2</a> 104.4 MB</li>\\n<li class=\\'file\\'><a href=\"/enwiki/20231020/enwiki-20231020-pages-articles25.xml-p57025656p58525655.bz2\">enwiki-20231020-pages-articles25.xml-p57025656p58525655.bz2</a> 344.0 MB</li>\\n<li class=\\'file\\'><a href=\"/enwiki/20231020/enwiki-20231020-pages-articles25.xml-p58525656p60025655.bz2\">enwiki-20231020-pages-articles25.xml-p58525656p60025655.bz2</a> 308.3 MB</li>\\n<li class=\\'file\\'><a href=\"/enwiki/20231020/enwiki-20231020-pages-articles25.xml-p60025656p61525655.bz2\">enwiki-20231020-pages-articles25.xml-p60025656p61525655.bz2</a> 343.6 MB</li>\\n<li class=\\'file\\'><a href=\"/enwiki/20231020/enwiki-20231020-pages-articles25.xml-p61525656p62585850.bz2\">enwiki-20231020-pages-articles25.xml-p61525656p62585850.bz2</a> 237.7 MB</li>\\n<li class=\\'file\\'><a href=\"/enwiki/20231020/enwiki-20231020-pages-articles26.xml-p62585851p63975909.bz2\">enwiki-20231020-pages-articles26.xml-p62585851p63975909.bz2</a> 345.5 MB</li>\\n<li class=\\'file\\'><a href=\"/enwiki/20231020/enwiki-20231020-pages-articles27.xml-p63975910p65475909.bz2\">enwiki-20231020-pages-articles27.xml-p63975910p65475909.bz2</a> 312.6 MB</li>\\n<li class=\\'file\\'><a href=\"/enwiki/20231020/enwiki-20231020-pages-articles27.xml-p65475910p66975909.bz2\">enwiki-20231020-pages-articles27.xml-p65475910p66975909.bz2</a> 340.6 MB</li>\\n<li class=\\'file\\'><a href=\"/enwiki/20231020/enwiki-20231020-pages-articles27.xml-p66975910p68475909.bz2\">enwiki-20231020-pages-articles27.xml-p66975910p68475909.bz2</a> 359.1 MB</li>\\n<li class=\\'file\\'><a href=\"/enwiki/20231020/enwiki-20231020-pages-articles27.xml-p68475910p69975909.bz2\">enwiki-20231020-pages-articles27.xml-p68475910p69975909.bz2</a> 354.7 MB</li>\\n<li class=\\'file\\'><a href=\"/enwiki/20231020/enwiki-20231020-pages-articles27.xml-p69975910p71475909.bz2\">enwiki-20231020-pages-articles27.xml-p69975910p71475909.bz2</a> 346.9 MB</li>\\n<li class=\\'file\\'><a href=\"/enwiki/20231020/enwiki-20231020-pages-articles27.xml-p71475910p72975909.bz2\">enwiki-20231020-pages-articles27.xml-p71475910p72975909.bz2</a> 329.4 MB</li>\\n<li class=\\'file\\'><a href=\"/enwiki/20231020/enwiki-20231020-pages-articles27.xml-p72975910p74475909.bz2\">enwiki-20231020-pages-articles27.xml-p72975910p74475909.bz2</a> 332.6 MB</li>\\n<li class=\\'file\\'><a href=\"/enwiki/20231020/enwiki-20231020-pages-articles27.xml-p74475910p75105778.bz2\">enwiki-20231020-pages-articles27.xml-p74475910p75105778.bz2</a> 150.1 MB</li></ul></li>\\n<li class=\\'done\\'><span class=\\'updates\\'>2023-10-21 00:57:26</span> <span class=\\'status\\'>done</span> <span class=\\'title\\'>Recombine first-pass for page XML data dumps</span><ul><li class=\\'detail\\'>These files contain no page text, only revision metadata.</li>\\n<li class=\\'file\\'><a href=\"/enwiki/20231020/enwiki-20231020-stub-meta-history.xml.gz\">enwiki-20231020-stub-meta-history.xml.gz</a> 78.8 GB</li>\\n<li class=\\'file\\'><a href=\"/enwiki/20231020/enwiki-20231020-stub-meta-current.xml.gz\">enwiki-20231020-stub-meta-current.xml.gz</a> 5.4 GB</li>\\n<li class=\\'file\\'><a href=\"/enwiki/20231020/enwiki-20231020-stub-articles.xml.gz\">enwiki-20231020-stub-articles.xml.gz</a> 2.3 GB</li></ul></li>\\n<li class=\\'done\\'><span class=\\'updates\\'>2023-10-20 23:36:00</span> <span class=\\'status\\'>done</span> <span class=\\'title\\'>First-pass for page XML data dumps</span><ul><li class=\\'detail\\'>These files contain no page text, only revision metadata.</li>\\n<li class=\\'file\\'><a href=\"/enwiki/20231020/enwiki-20231020-stub-meta-history1.xml.gz\">enwiki-20231020-stub-meta-history1.xml.gz</a> 2.7 GB</li>\\n<li class=\\'file\\'><a href=\"/enwiki/20231020/enwiki-20231020-stub-meta-history2.xml.gz\">enwiki-20231020-stub-meta-history2.xml.gz</a> 2.8 GB</li>\\n<li class=\\'file\\'><a href=\"/enwiki/20231020/enwiki-20231020-stub-meta-history3.xml.gz\">enwiki-20231020-stub-meta-history3.xml.gz</a> 2.8 GB</li>\\n<li class=\\'file\\'><a href=\"/enwiki/20231020/enwiki-20231020-stub-meta-history4.xml.gz\">enwiki-20231020-stub-meta-history4.xml.gz</a> 2.9 GB</li>\\n<li class=\\'file\\'><a href=\"/enwiki/20231020/enwiki-20231020-stub-meta-history5.xml.gz\">enwiki-20231020-stub-meta-history5.xml.gz</a> 2.9 GB</li>\\n<li class=\\'file\\'><a href=\"/enwiki/20231020/enwiki-20231020-stub-meta-history6.xml.gz\">enwiki-20231020-stub-meta-history6.xml.gz</a> 2.9 GB</li>\\n<li class=\\'file\\'><a href=\"/enwiki/20231020/enwiki-20231020-stub-meta-history7.xml.gz\">enwiki-20231020-stub-meta-history7.xml.gz</a> 2.9 GB</li>\\n<li class=\\'file\\'><a href=\"/enwiki/20231020/enwiki-20231020-stub-meta-history8.xml.gz\">enwiki-20231020-stub-meta-history8.xml.gz</a> 2.9 GB</li>\\n<li class=\\'file\\'><a href=\"/enwiki/20231020/enwiki-20231020-stub-meta-history9.xml.gz\">enwiki-20231020-stub-meta-history9.xml.gz</a> 2.9 GB</li>\\n<li class=\\'file\\'><a href=\"/enwiki/20231020/enwiki-20231020-stub-meta-history10.xml.gz\">enwiki-20231020-stub-meta-history10.xml.gz</a> 2.9 GB</li>\\n<li class=\\'file\\'><a href=\"/enwiki/20231020/enwiki-20231020-stub-meta-history11.xml.gz\">enwiki-20231020-stub-meta-history11.xml.gz</a> 3.0 GB</li>\\n<li class=\\'file\\'><a href=\"/enwiki/20231020/enwiki-20231020-stub-meta-history12.xml.gz\">enwiki-20231020-stub-meta-history12.xml.gz</a> 3.0 GB</li>\\n<li class=\\'file\\'><a href=\"/enwiki/20231020/enwiki-20231020-stub-meta-history13.xml.gz\">enwiki-20231020-stub-meta-history13.xml.gz</a> 3.0 GB</li>\\n<li class=\\'file\\'><a href=\"/enwiki/20231020/enwiki-20231020-stub-meta-history14.xml.gz\">enwiki-20231020-stub-meta-history14.xml.gz</a> 3.0 GB</li>\\n<li class=\\'file\\'><a href=\"/enwiki/20231020/enwiki-20231020-stub-meta-history15.xml.gz\">enwiki-20231020-stub-meta-history15.xml.gz</a> 3.0 GB</li>\\n<li class=\\'file\\'><a href=\"/enwiki/20231020/enwiki-20231020-stub-meta-history16.xml.gz\">enwiki-20231020-stub-meta-history16.xml.gz</a> 3.0 GB</li>\\n<li class=\\'file\\'><a href=\"/enwiki/20231020/enwiki-20231020-stub-meta-history17.xml.gz\">enwiki-20231020-stub-meta-history17.xml.gz</a> 3.1 GB</li>\\n<li class=\\'file\\'><a href=\"/enwiki/20231020/enwiki-20231020-stub-meta-history18.xml.gz\">enwiki-20231020-stub-meta-history18.xml.gz</a> 3.1 GB</li>\\n<li class=\\'file\\'><a href=\"/enwiki/20231020/enwiki-20231020-stub-meta-history19.xml.gz\">enwiki-20231020-stub-meta-history19.xml.gz</a> 3.1 GB</li>\\n<li class=\\'file\\'><a href=\"/enwiki/20231020/enwiki-20231020-stub-meta-history20.xml.gz\">enwiki-20231020-stub-meta-history20.xml.gz</a> 3.1 GB</li>\\n<li class=\\'file\\'><a href=\"/enwiki/20231020/enwiki-20231020-stub-meta-history21.xml.gz\">enwiki-20231020-stub-meta-history21.xml.gz</a> 3.2 GB</li>\\n<li class=\\'file\\'><a href=\"/enwiki/20231020/enwiki-20231020-stub-meta-history22.xml.gz\">enwiki-20231020-stub-meta-history22.xml.gz</a> 3.2 GB</li>\\n<li class=\\'file\\'><a href=\"/enwiki/20231020/enwiki-20231020-stub-meta-history23.xml.gz\">enwiki-20231020-stub-meta-history23.xml.gz</a> 3.1 GB</li>\\n<li class=\\'file\\'><a href=\"/enwiki/20231020/enwiki-20231020-stub-meta-history24.xml.gz\">enwiki-20231020-stub-meta-history24.xml.gz</a> 3.4 GB</li>\\n<li class=\\'file\\'><a href=\"/enwiki/20231020/enwiki-20231020-stub-meta-history25.xml.gz\">enwiki-20231020-stub-meta-history25.xml.gz</a> 2.5 GB</li>\\n<li class=\\'file\\'><a href=\"/enwiki/20231020/enwiki-20231020-stub-meta-history26.xml.gz\">enwiki-20231020-stub-meta-history26.xml.gz</a> 680.6 MB</li>\\n<li class=\\'file\\'><a href=\"/enwiki/20231020/enwiki-20231020-stub-meta-history27.xml.gz\">enwiki-20231020-stub-meta-history27.xml.gz</a> 3.7 GB</li>\\n<li class=\\'file\\'><a href=\"/enwiki/20231020/enwiki-20231020-stub-meta-current1.xml.gz\">enwiki-20231020-stub-meta-current1.xml.gz</a> 3.5 MB</li>\\n<li class=\\'file\\'><a href=\"/enwiki/20231020/enwiki-20231020-stub-meta-current2.xml.gz\">enwiki-20231020-stub-meta-current2.xml.gz</a> 9.3 MB</li>\\n<li class=\\'file\\'><a href=\"/enwiki/20231020/enwiki-20231020-stub-meta-current3.xml.gz\">enwiki-20231020-stub-meta-current3.xml.gz</a> 12.3 MB</li>\\n<li class=\\'file\\'><a href=\"/enwiki/20231020/enwiki-20231020-stub-meta-current4.xml.gz\">enwiki-20231020-stub-meta-current4.xml.gz</a> 18.3 MB</li>\\n<li class=\\'file\\'><a href=\"/enwiki/20231020/enwiki-20231020-stub-meta-current5.xml.gz\">enwiki-20231020-stub-meta-current5.xml.gz</a> 27.6 MB</li>\\n<li class=\\'file\\'><a href=\"/enwiki/20231020/enwiki-20231020-stub-meta-current6.xml.gz\">enwiki-20231020-stub-meta-current6.xml.gz</a> 35.4 MB</li>\\n<li class=\\'file\\'><a href=\"/enwiki/20231020/enwiki-20231020-stub-meta-current7.xml.gz\">enwiki-20231020-stub-meta-current7.xml.gz</a> 42.2 MB</li>\\n<li class=\\'file\\'><a href=\"/enwiki/20231020/enwiki-20231020-stub-meta-current8.xml.gz\">enwiki-20231020-stub-meta-current8.xml.gz</a> 51.3 MB</li>\\n<li class=\\'file\\'><a href=\"/enwiki/20231020/enwiki-20231020-stub-meta-current9.xml.gz\">enwiki-20231020-stub-meta-current9.xml.gz</a> 68.4 MB</li>\\n<li class=\\'file\\'><a href=\"/enwiki/20231020/enwiki-20231020-stub-meta-current10.xml.gz\">enwiki-20231020-stub-meta-current10.xml.gz</a> 81.9 MB</li>\\n<li class=\\'file\\'><a href=\"/enwiki/20231020/enwiki-20231020-stub-meta-current11.xml.gz\">enwiki-20231020-stub-meta-current11.xml.gz</a> 107.2 MB</li>\\n<li class=\\'file\\'><a href=\"/enwiki/20231020/enwiki-20231020-stub-meta-current12.xml.gz\">enwiki-20231020-stub-meta-current12.xml.gz</a> 128.7 MB</li>\\n<li class=\\'file\\'><a href=\"/enwiki/20231020/enwiki-20231020-stub-meta-current13.xml.gz\">enwiki-20231020-stub-meta-current13.xml.gz</a> 154.5 MB</li>\\n<li class=\\'file\\'><a href=\"/enwiki/20231020/enwiki-20231020-stub-meta-current14.xml.gz\">enwiki-20231020-stub-meta-current14.xml.gz</a> 169.5 MB</li>\\n<li class=\\'file\\'><a href=\"/enwiki/20231020/enwiki-20231020-stub-meta-current15.xml.gz\">enwiki-20231020-stub-meta-current15.xml.gz</a> 207.3 MB</li>\\n<li class=\\'file\\'><a href=\"/enwiki/20231020/enwiki-20231020-stub-meta-current16.xml.gz\">enwiki-20231020-stub-meta-current16.xml.gz</a> 209.3 MB</li>\\n<li class=\\'file\\'><a href=\"/enwiki/20231020/enwiki-20231020-stub-meta-current17.xml.gz\">enwiki-20231020-stub-meta-current17.xml.gz</a> 223.3 MB</li>\\n<li class=\\'file\\'><a href=\"/enwiki/20231020/enwiki-20231020-stub-meta-current18.xml.gz\">enwiki-20231020-stub-meta-current18.xml.gz</a> 243.0 MB</li>\\n<li class=\\'file\\'><a href=\"/enwiki/20231020/enwiki-20231020-stub-meta-current19.xml.gz\">enwiki-20231020-stub-meta-current19.xml.gz</a> 299.8 MB</li>\\n<li class=\\'file\\'><a href=\"/enwiki/20231020/enwiki-20231020-stub-meta-current20.xml.gz\">enwiki-20231020-stub-meta-current20.xml.gz</a> 303.5 MB</li>\\n<li class=\\'file\\'><a href=\"/enwiki/20231020/enwiki-20231020-stub-meta-current21.xml.gz\">enwiki-20231020-stub-meta-current21.xml.gz</a> 331.2 MB</li>\\n<li class=\\'file\\'><a href=\"/enwiki/20231020/enwiki-20231020-stub-meta-current22.xml.gz\">enwiki-20231020-stub-meta-current22.xml.gz</a> 359.4 MB</li>\\n<li class=\\'file\\'><a href=\"/enwiki/20231020/enwiki-20231020-stub-meta-current23.xml.gz\">enwiki-20231020-stub-meta-current23.xml.gz</a> 415.2 MB</li>\\n<li class=\\'file\\'><a href=\"/enwiki/20231020/enwiki-20231020-stub-meta-current24.xml.gz\">enwiki-20231020-stub-meta-current24.xml.gz</a> 503.1 MB</li>\\n<li class=\\'file\\'><a href=\"/enwiki/20231020/enwiki-20231020-stub-meta-current25.xml.gz\">enwiki-20231020-stub-meta-current25.xml.gz</a> 454.0 MB</li>\\n<li class=\\'file\\'><a href=\"/enwiki/20231020/enwiki-20231020-stub-meta-current26.xml.gz\">enwiki-20231020-stub-meta-current26.xml.gz</a> 118.0 MB</li>\\n<li class=\\'file\\'><a href=\"/enwiki/20231020/enwiki-20231020-stub-meta-current27.xml.gz\">enwiki-20231020-stub-meta-current27.xml.gz</a> 902.4 MB</li>\\n<li class=\\'file\\'><a href=\"/enwiki/20231020/enwiki-20231020-stub-articles1.xml.gz\">enwiki-20231020-stub-articles1.xml.gz</a> 3.0 MB</li>\\n<li class=\\'file\\'><a href=\"/enwiki/20231020/enwiki-20231020-stub-articles2.xml.gz\">enwiki-20231020-stub-articles2.xml.gz</a> 8.2 MB</li>\\n<li class=\\'file\\'><a href=\"/enwiki/20231020/enwiki-20231020-stub-articles3.xml.gz\">enwiki-20231020-stub-articles3.xml.gz</a> 9.8 MB</li>\\n<li class=\\'file\\'><a href=\"/enwiki/20231020/enwiki-20231020-stub-articles4.xml.gz\">enwiki-20231020-stub-articles4.xml.gz</a> 15.1 MB</li>\\n<li class=\\'file\\'><a href=\"/enwiki/20231020/enwiki-20231020-stub-articles5.xml.gz\">enwiki-20231020-stub-articles5.xml.gz</a> 22.9 MB</li>\\n<li class=\\'file\\'><a href=\"/enwiki/20231020/enwiki-20231020-stub-articles6.xml.gz\">enwiki-20231020-stub-articles6.xml.gz</a> 27.9 MB</li>\\n<li class=\\'file\\'><a href=\"/enwiki/20231020/enwiki-20231020-stub-articles7.xml.gz\">enwiki-20231020-stub-articles7.xml.gz</a> 32.5 MB</li>\\n<li class=\\'file\\'><a href=\"/enwiki/20231020/enwiki-20231020-stub-articles8.xml.gz\">enwiki-20231020-stub-articles8.xml.gz</a> 38.2 MB</li>\\n<li class=\\'file\\'><a href=\"/enwiki/20231020/enwiki-20231020-stub-articles9.xml.gz\">enwiki-20231020-stub-articles9.xml.gz</a> 44.8 MB</li>\\n<li class=\\'file\\'><a href=\"/enwiki/20231020/enwiki-20231020-stub-articles10.xml.gz\">enwiki-20231020-stub-articles10.xml.gz</a> 48.5 MB</li>\\n<li class=\\'file\\'><a href=\"/enwiki/20231020/enwiki-20231020-stub-articles11.xml.gz\">enwiki-20231020-stub-articles11.xml.gz</a> 55.3 MB</li>\\n<li class=\\'file\\'><a href=\"/enwiki/20231020/enwiki-20231020-stub-articles12.xml.gz\">enwiki-20231020-stub-articles12.xml.gz</a> 63.1 MB</li>\\n<li class=\\'file\\'><a href=\"/enwiki/20231020/enwiki-20231020-stub-articles13.xml.gz\">enwiki-20231020-stub-articles13.xml.gz</a> 63.6 MB</li>\\n<li class=\\'file\\'><a href=\"/enwiki/20231020/enwiki-20231020-stub-articles14.xml.gz\">enwiki-20231020-stub-articles14.xml.gz</a> 81.9 MB</li>\\n<li class=\\'file\\'><a href=\"/enwiki/20231020/enwiki-20231020-stub-articles15.xml.gz\">enwiki-20231020-stub-articles15.xml.gz</a> 97.4 MB</li>\\n<li class=\\'file\\'><a href=\"/enwiki/20231020/enwiki-20231020-stub-articles16.xml.gz\">enwiki-20231020-stub-articles16.xml.gz</a> 87.5 MB</li>\\n<li class=\\'file\\'><a href=\"/enwiki/20231020/enwiki-20231020-stub-articles17.xml.gz\">enwiki-20231020-stub-articles17.xml.gz</a> 97.5 MB</li>\\n<li class=\\'file\\'><a href=\"/enwiki/20231020/enwiki-20231020-stub-articles18.xml.gz\">enwiki-20231020-stub-articles18.xml.gz</a> 102.2 MB</li>\\n<li class=\\'file\\'><a href=\"/enwiki/20231020/enwiki-20231020-stub-articles19.xml.gz\">enwiki-20231020-stub-articles19.xml.gz</a> 126.4 MB</li>\\n<li class=\\'file\\'><a href=\"/enwiki/20231020/enwiki-20231020-stub-articles20.xml.gz\">enwiki-20231020-stub-articles20.xml.gz</a> 127.1 MB</li>\\n<li class=\\'file\\'><a href=\"/enwiki/20231020/enwiki-20231020-stub-articles21.xml.gz\">enwiki-20231020-stub-articles21.xml.gz</a> 140.4 MB</li>\\n<li class=\\'file\\'><a href=\"/enwiki/20231020/enwiki-20231020-stub-articles22.xml.gz\">enwiki-20231020-stub-articles22.xml.gz</a> 146.9 MB</li>\\n<li class=\\'file\\'><a href=\"/enwiki/20231020/enwiki-20231020-stub-articles23.xml.gz\">enwiki-20231020-stub-articles23.xml.gz</a> 156.9 MB</li>\\n<li class=\\'file\\'><a href=\"/enwiki/20231020/enwiki-20231020-stub-articles24.xml.gz\">enwiki-20231020-stub-articles24.xml.gz</a> 197.1 MB</li>\\n<li class=\\'file\\'><a href=\"/enwiki/20231020/enwiki-20231020-stub-articles25.xml.gz\">enwiki-20231020-stub-articles25.xml.gz</a> 165.3 MB</li>\\n<li class=\\'file\\'><a href=\"/enwiki/20231020/enwiki-20231020-stub-articles26.xml.gz\">enwiki-20231020-stub-articles26.xml.gz</a> 44.4 MB</li>\\n<li class=\\'file\\'><a href=\"/enwiki/20231020/enwiki-20231020-stub-articles27.xml.gz\">enwiki-20231020-stub-articles27.xml.gz</a> 340.0 MB</li></ul></li>\\n<li class=\\'done\\'><span class=\\'updates\\'>2023-10-21 20:42:16</span> <span class=\\'status\\'>done</span> <span class=\\'title\\'>Recombine extracted page abstracts for Yahoo</span><ul><li class=\\'file\\'><a href=\"/enwiki/20231020/enwiki-20231020-abstract.xml.gz\">enwiki-20231020-abstract.xml.gz</a> 823.3 MB</li></ul></li>\\n<li class=\\'done\\'><span class=\\'updates\\'>2023-10-21 20:41:06</span> <span class=\\'status\\'>done</span> <span class=\\'title\\'>Extracted page abstracts for Yahoo</span><ul><li class=\\'file\\'><a href=\"/enwiki/20231020/enwiki-20231020-abstract1.xml.gz\">enwiki-20231020-abstract1.xml.gz</a> 118.8 MB</li>\\n<li class=\\'file\\'><a href=\"/enwiki/20231020/enwiki-20231020-abstract2.xml.gz\">enwiki-20231020-abstract2.xml.gz</a> 54.2 MB</li>\\n<li class=\\'file\\'><a href=\"/enwiki/20231020/enwiki-20231020-abstract3.xml.gz\">enwiki-20231020-abstract3.xml.gz</a> 39.0 MB</li>\\n<li class=\\'file\\'><a href=\"/enwiki/20231020/enwiki-20231020-abstract4.xml.gz\">enwiki-20231020-abstract4.xml.gz</a> 30.4 MB</li>\\n<li class=\\'file\\'><a href=\"/enwiki/20231020/enwiki-20231020-abstract5.xml.gz\">enwiki-20231020-abstract5.xml.gz</a> 32.1 MB</li>\\n<li class=\\'file\\'><a href=\"/enwiki/20231020/enwiki-20231020-abstract6.xml.gz\">enwiki-20231020-abstract6.xml.gz</a> 26.8 MB</li>\\n<li class=\\'file\\'><a href=\"/enwiki/20231020/enwiki-20231020-abstract7.xml.gz\">enwiki-20231020-abstract7.xml.gz</a> 27.8 MB</li>\\n<li class=\\'file\\'><a href=\"/enwiki/20231020/enwiki-20231020-abstract8.xml.gz\">enwiki-20231020-abstract8.xml.gz</a> 27.3 MB</li>\\n<li class=\\'file\\'><a href=\"/enwiki/20231020/enwiki-20231020-abstract9.xml.gz\">enwiki-20231020-abstract9.xml.gz</a> 30.2 MB</li>\\n<li class=\\'file\\'><a href=\"/enwiki/20231020/enwiki-20231020-abstract10.xml.gz\">enwiki-20231020-abstract10.xml.gz</a> 27.5 MB</li>\\n<li class=\\'file\\'><a href=\"/enwiki/20231020/enwiki-20231020-abstract11.xml.gz\">enwiki-20231020-abstract11.xml.gz</a> 24.8 MB</li>\\n<li class=\\'file\\'><a href=\"/enwiki/20231020/enwiki-20231020-abstract12.xml.gz\">enwiki-20231020-abstract12.xml.gz</a> 28.3 MB</li>\\n<li class=\\'file\\'><a href=\"/enwiki/20231020/enwiki-20231020-abstract13.xml.gz\">enwiki-20231020-abstract13.xml.gz</a> 25.6 MB</li>\\n<li class=\\'file\\'><a href=\"/enwiki/20231020/enwiki-20231020-abstract14.xml.gz\">enwiki-20231020-abstract14.xml.gz</a> 26.2 MB</li>\\n<li class=\\'file\\'><a href=\"/enwiki/20231020/enwiki-20231020-abstract15.xml.gz\">enwiki-20231020-abstract15.xml.gz</a> 27.1 MB</li>\\n<li class=\\'file\\'><a href=\"/enwiki/20231020/enwiki-20231020-abstract16.xml.gz\">enwiki-20231020-abstract16.xml.gz</a> 27.4 MB</li>\\n<li class=\\'file\\'><a href=\"/enwiki/20231020/enwiki-20231020-abstract17.xml.gz\">enwiki-20231020-abstract17.xml.gz</a> 21.5 MB</li>\\n<li class=\\'file\\'><a href=\"/enwiki/20231020/enwiki-20231020-abstract18.xml.gz\">enwiki-20231020-abstract18.xml.gz</a> 23.6 MB</li>\\n<li class=\\'file\\'><a href=\"/enwiki/20231020/enwiki-20231020-abstract19.xml.gz\">enwiki-20231020-abstract19.xml.gz</a> 24.0 MB</li>\\n<li class=\\'file\\'><a href=\"/enwiki/20231020/enwiki-20231020-abstract20.xml.gz\">enwiki-20231020-abstract20.xml.gz</a> 23.1 MB</li>\\n<li class=\\'file\\'><a href=\"/enwiki/20231020/enwiki-20231020-abstract21.xml.gz\">enwiki-20231020-abstract21.xml.gz</a> 24.9 MB</li>\\n<li class=\\'file\\'><a href=\"/enwiki/20231020/enwiki-20231020-abstract22.xml.gz\">enwiki-20231020-abstract22.xml.gz</a> 22.0 MB</li>\\n<li class=\\'file\\'><a href=\"/enwiki/20231020/enwiki-20231020-abstract23.xml.gz\">enwiki-20231020-abstract23.xml.gz</a> 23.9 MB</li>\\n<li class=\\'file\\'><a href=\"/enwiki/20231020/enwiki-20231020-abstract24.xml.gz\">enwiki-20231020-abstract24.xml.gz</a> 21.7 MB</li>\\n<li class=\\'file\\'><a href=\"/enwiki/20231020/enwiki-20231020-abstract25.xml.gz\">enwiki-20231020-abstract25.xml.gz</a> 23.2 MB</li>\\n<li class=\\'file\\'><a href=\"/enwiki/20231020/enwiki-20231020-abstract26.xml.gz\">enwiki-20231020-abstract26.xml.gz</a> 21.9 MB</li>\\n<li class=\\'file\\'><a href=\"/enwiki/20231020/enwiki-20231020-abstract27.xml.gz\">enwiki-20231020-abstract27.xml.gz</a> 20.0 MB</li></ul></li>\\n<li class=\\'done\\'><span class=\\'updates\\'>2023-10-21 10:14:10</span> <span class=\\'status\\'>done</span> <span class=\\'title\\'>List of all page titles</span><ul><li class=\\'file\\'><a href=\"/enwiki/20231020/enwiki-20231020-all-titles.gz\">enwiki-20231020-all-titles.gz</a> 324.3 MB</li></ul></li>\\n<li class=\\'done\\'><span class=\\'updates\\'>2023-10-21 10:12:24</span> <span class=\\'status\\'>done</span> <span class=\\'title\\'>List of page titles in main namespace</span><ul><li class=\\'file\\'><a href=\"/enwiki/20231020/enwiki-20231020-all-titles-in-ns0.gz\">enwiki-20231020-all-titles-in-ns0.gz</a> 94.0 MB</li></ul></li>\\n<li class=\\'done\\'><span class=\\'updates\\'>2023-10-21 10:11:29</span> <span class=\\'status\\'>done</span> <span class=\\'title\\'>Namespaces, namespace aliases, magic words (formatversion=2).</span><ul><li class=\\'file\\'><a href=\"/enwiki/20231020/enwiki-20231020-siteinfo2-namespacesv2.json.gz\">enwiki-20231020-siteinfo2-namespacesv2.json.gz</a> 5 KB</li></ul></li>\\n<li class=\\'done\\'><span class=\\'updates\\'>2023-10-21 10:10:51</span> <span class=\\'status\\'>done</span> <span class=\\'title\\'>Namespaces, namespace aliases, magic words.</span><ul><li class=\\'file\\'><a href=\"/enwiki/20231020/enwiki-20231020-siteinfo-namespaces.json.gz\">enwiki-20231020-siteinfo-namespaces.json.gz</a> 4 KB</li></ul></li>\\n<li class=\\'done\\'><span class=\\'updates\\'>2023-10-20 10:16:39</span> <span class=\\'status\\'>done</span> <span class=\\'title\\'>Language proficiency information per user.</span><ul><li class=\\'file\\'><a href=\"/enwiki/20231020/enwiki-20231020-babel.sql.gz\">enwiki-20231020-babel.sql.gz</a> 84 KB</li></ul></li>\\n<li class=\\'done\\'><span class=\\'updates\\'>2023-10-20 10:15:56</span> <span class=\\'status\\'>done</span> <span class=\\'title\\'>Tracks which pages use which Wikidata items or properties and what aspect (e.g. item label) is used.</span><ul><li class=\\'file\\'><a href=\"/enwiki/20231020/enwiki-20231020-wbc_entity_usage.sql.gz\">enwiki-20231020-wbc_entity_usage.sql.gz</a> 373.8 MB</li></ul></li>\\n<li class=\\'done\\'><span class=\\'updates\\'>2023-10-20 10:14:08</span> <span class=\\'status\\'>done</span> <span class=\\'title\\'>This contains the SiteMatrix information from meta.wikimedia.org provided as a table.</span><ul><li class=\\'file\\'><a href=\"/enwiki/20231020/enwiki-20231020-sites.sql.gz\">enwiki-20231020-sites.sql.gz</a> 22 KB</li></ul></li>\\n<li class=\\'done\\'><span class=\\'updates\\'>2023-10-20 10:13:33</span> <span class=\\'status\\'>done</span> <span class=\\'title\\'>This contains a row for each template included in a flagged revision containing the rev id and name of the template as well as the rev id of the flagged revision.</span><ul><li class=\\'file\\'><a href=\"/enwiki/20231020/enwiki-20231020-flaggedtemplates.sql.gz\">enwiki-20231020-flaggedtemplates.sql.gz</a> 709 bytes</li></ul></li>\\n<li class=\\'done\\'><span class=\\'updates\\'>2023-10-20 10:12:57</span> <span class=\\'status\\'>done</span> <span class=\\'title\\'>Tracks links in stable versions.</span><ul><li class=\\'file\\'><a href=\"/enwiki/20231020/enwiki-20231020-flaggedrevs_tracking.sql.gz\">enwiki-20231020-flaggedrevs_tracking.sql.gz</a> 1 KB</li></ul></li>\\n<li class=\\'done\\'><span class=\\'updates\\'>2023-10-20 10:12:22</span> <span class=\\'status\\'>done</span> <span class=\\'title\\'>This contains per-namespace, per-user and overall statistics for reviews of revisions.</span><ul><li class=\\'file\\'><a href=\"/enwiki/20231020/enwiki-20231020-flaggedrevs_statistics.sql.gz\">enwiki-20231020-flaggedrevs_statistics.sql.gz</a> 846 KB</li></ul></li>\\n<li class=\\'done\\'><span class=\\'updates\\'>2023-10-20 10:11:47</span> <span class=\\'status\\'>done</span> <span class=\\'title\\'>This contains information about users who were demoted from being able to review flagged revisions, so they do not get autopromoted by mistake.</span><ul><li class=\\'file\\'><a href=\"/enwiki/20231020/enwiki-20231020-flaggedrevs_promote.sql.gz\">enwiki-20231020-flaggedrevs_promote.sql.gz</a> 8.6 MB</li></ul></li>\\n<li class=\\'done\\'><span class=\\'updates\\'>2023-10-20 10:11:06</span> <span class=\\'status\\'>done</span> <span class=\\'title\\'>This contains tracking information for edits needing review.</span><ul><li class=\\'file\\'><a href=\"/enwiki/20231020/enwiki-20231020-flaggedpage_pending.sql.gz\">enwiki-20231020-flaggedpage_pending.sql.gz</a> 757 bytes</li></ul></li>\\n<li class=\\'done\\'><span class=\\'updates\\'>2023-10-20 10:10:30</span> <span class=\\'status\\'>done</span> <span class=\\'title\\'>This stores settings on how to select the stable/default revision.</span><ul><li class=\\'file\\'><a href=\"/enwiki/20231020/enwiki-20231020-flaggedpage_config.sql.gz\">enwiki-20231020-flaggedpage_config.sql.gz</a> 21 KB</li></ul></li>\\n<li class=\\'done\\'><span class=\\'updates\\'>2023-10-20 10:09:53</span> <span class=\\'status\\'>done</span> <span class=\\'title\\'>This contains a row for each flagged revision containing who flagged it, when it was flagged, the flag values, and the quality tier those flags fall under.</span><ul><li class=\\'file\\'><a href=\"/enwiki/20231020/enwiki-20231020-flaggedrevs.sql.gz\">enwiki-20231020-flaggedrevs.sql.gz</a> 44.8 MB</li></ul></li>\\n<li class=\\'done\\'><span class=\\'updates\\'>2023-10-20 10:09:10</span> <span class=\\'status\\'>done</span> <span class=\\'title\\'>This contains a row for each flagged article containing the stable revision ID, if the lastest edit was flagged, and how long edits have been pending.</span><ul><li class=\\'file\\'><a href=\"/enwiki/20231020/enwiki-20231020-flaggedpages.sql.gz\">enwiki-20231020-flaggedpages.sql.gz</a> 36 KB</li></ul></li>\\n<li class=\\'done\\'><span class=\\'updates\\'>2023-10-20 10:08:35</span> <span class=\\'status\\'>done</span> <span class=\\'title\\'>Annotation (tag) names and ids.</span><ul><li class=\\'file\\'><a href=\"/enwiki/20231020/enwiki-20231020-change_tag_def.sql.gz\">enwiki-20231020-change_tag_def.sql.gz</a> 4 KB</li></ul></li>\\n<li class=\\'done\\'><span class=\\'updates\\'>2023-10-20 10:07:04</span> <span class=\\'status\\'>done</span> <span class=\\'title\\'>List of annotations (tags) for revisions and log entries</span><ul><li class=\\'file\\'><a href=\"/enwiki/20231020/enwiki-20231020-change_tag.sql.gz\">enwiki-20231020-change_tag.sql.gz</a> 2.8 GB</li></ul></li>\\n<li class=\\'done\\'><span class=\\'updates\\'>2023-10-20 09:58:32</span> <span class=\\'status\\'>done</span> <span class=\\'title\\'>List of pages\\' geographical coordinates</span><ul><li class=\\'file\\'><a href=\"/enwiki/20231020/enwiki-20231020-geo_tags.sql.gz\">enwiki-20231020-geo_tags.sql.gz</a> 45.1 MB</li></ul></li>\\n<li class=\\'done\\'><span class=\\'updates\\'>2023-10-20 09:57:47</span> <span class=\\'status\\'>done</span> <span class=\\'title\\'>Interwiki link tracking records</span><ul><li class=\\'file\\'><a href=\"/enwiki/20231020/enwiki-20231020-iwlinks.sql.gz\">enwiki-20231020-iwlinks.sql.gz</a> 231.4 MB</li></ul></li>\\n<li class=\\'done\\'><span class=\\'updates\\'>2023-10-20 09:56:07</span> <span class=\\'status\\'>done</span> <span class=\\'title\\'>Redirect list</span><ul><li class=\\'file\\'><a href=\"/enwiki/20231020/enwiki-20231020-redirect.sql.gz\">enwiki-20231020-redirect.sql.gz</a> 154.8 MB</li></ul></li>\\n<li class=\\'done\\'><span class=\\'updates\\'>2023-10-20 09:55:10</span> <span class=\\'status\\'>done</span> <span class=\\'title\\'>Nonexistent pages that have been protected.</span><ul><li class=\\'file\\'><a href=\"/enwiki/20231020/enwiki-20231020-protected_titles.sql.gz\">enwiki-20231020-protected_titles.sql.gz</a> 1.1 MB</li></ul></li>\\n<li class=\\'done\\'><span class=\\'updates\\'>2023-10-20 09:54:21</span> <span class=\\'status\\'>done</span> <span class=\\'title\\'>Name/value pairs for pages.</span><ul><li class=\\'file\\'><a href=\"/enwiki/20231020/enwiki-20231020-page_props.sql.gz\">enwiki-20231020-page_props.sql.gz</a> 367.6 MB</li></ul></li>\\n<li class=\\'done\\'><span class=\\'updates\\'>2023-10-20 09:53:00</span> <span class=\\'status\\'>done</span> <span class=\\'title\\'>Newer per-page restrictions table.</span><ul><li class=\\'file\\'><a href=\"/enwiki/20231020/enwiki-20231020-page_restrictions.sql.gz\">enwiki-20231020-page_restrictions.sql.gz</a> 1.1 MB</li></ul></li>\\n<li class=\\'done\\'><span class=\\'updates\\'>2023-10-20 09:51:37</span> <span class=\\'status\\'>done</span> <span class=\\'title\\'>Base per-page data (id, title, old restrictions, etc).</span><ul><li class=\\'file\\'><a href=\"/enwiki/20231020/enwiki-20231020-page.sql.gz\">enwiki-20231020-page.sql.gz</a> 2.0 GB</li></ul></li>\\n<li class=\\'done\\'><span class=\\'updates\\'>2023-10-20 09:46:36</span> <span class=\\'status\\'>done</span> <span class=\\'title\\'>Category information.</span><ul><li class=\\'file\\'><a href=\"/enwiki/20231020/enwiki-20231020-category.sql.gz\">enwiki-20231020-category.sql.gz</a> 29.2 MB</li></ul></li>\\n<li class=\\'done\\'><span class=\\'updates\\'>2023-10-20 09:45:54</span> <span class=\\'status\\'>done</span> <span class=\\'title\\'>Past user group assignments.</span><ul><li class=\\'file\\'><a href=\"/enwiki/20231020/enwiki-20231020-user_former_groups.sql.gz\">enwiki-20231020-user_former_groups.sql.gz</a> 77 KB</li></ul></li>\\n<li class=\\'done\\'><span class=\\'updates\\'>2023-10-20 09:45:13</span> <span class=\\'status\\'>done</span> <span class=\\'title\\'>User group assignments.</span><ul><li class=\\'file\\'><a href=\"/enwiki/20231020/enwiki-20231020-user_groups.sql.gz\">enwiki-20231020-user_groups.sql.gz</a> 369 KB</li></ul></li>\\n<li class=\\'done\\'><span class=\\'updates\\'>2023-10-20 09:44:27</span> <span class=\\'status\\'>done</span> <span class=\\'title\\'>Wiki interlanguage link records.</span><ul><li class=\\'file\\'><a href=\"/enwiki/20231020/enwiki-20231020-langlinks.sql.gz\">enwiki-20231020-langlinks.sql.gz</a> 473.6 MB</li></ul></li>\\n<li class=\\'done\\'><span class=\\'updates\\'>2023-10-20 09:41:12</span> <span class=\\'status\\'>done</span> <span class=\\'title\\'>Wiki external URL link records.</span><ul><li class=\\'file\\'><a href=\"/enwiki/20231020/enwiki-20231020-externallinks.sql.gz\">enwiki-20231020-externallinks.sql.gz</a> 3.8 GB</li></ul></li>\\n<li class=\\'done\\'><span class=\\'updates\\'>2023-10-20 09:32:50</span> <span class=\\'status\\'>done</span> <span class=\\'title\\'>Link records used in other tables.</span><ul><li class=\\'file\\'><a href=\"/enwiki/20231020/enwiki-20231020-linktarget.sql.gz\">enwiki-20231020-linktarget.sql.gz</a> 253.8 MB</li></ul></li>\\n<li class=\\'done\\'><span class=\\'updates\\'>2023-10-20 09:30:18</span> <span class=\\'status\\'>done</span> <span class=\\'title\\'>Wiki template inclusion link records.</span><ul><li class=\\'file\\'><a href=\"/enwiki/20231020/enwiki-20231020-templatelinks.sql.gz\">enwiki-20231020-templatelinks.sql.gz</a> 3.5 GB</li></ul></li>\\n<li class=\\'done\\'><span class=\\'updates\\'>2023-10-20 09:11:40</span> <span class=\\'status\\'>done</span> <span class=\\'title\\'>Wiki media/files usage records.</span><ul><li class=\\'file\\'><a href=\"/enwiki/20231020/enwiki-20231020-imagelinks.sql.gz\">enwiki-20231020-imagelinks.sql.gz</a> 550.3 MB</li></ul></li>\\n<li class=\\'done\\'><span class=\\'updates\\'>2023-10-20 09:07:18</span> <span class=\\'status\\'>done</span> <span class=\\'title\\'>Wiki category membership link records.</span><ul><li class=\\'file\\'><a href=\"/enwiki/20231020/enwiki-20231020-categorylinks.sql.gz\">enwiki-20231020-categorylinks.sql.gz</a> 3.4 GB</li></ul></li>\\n<li class=\\'done\\'><span class=\\'updates\\'>2023-10-20 08:55:38</span> <span class=\\'status\\'>done</span> <span class=\\'title\\'>Wiki page-to-page link records.</span><ul><li class=\\'file\\'><a href=\"/enwiki/20231020/enwiki-20231020-pagelinks.sql.gz\">enwiki-20231020-pagelinks.sql.gz</a> 10.4 GB</li></ul></li>\\n<li class=\\'done\\'><span class=\\'updates\\'>2023-10-20 08:27:31</span> <span class=\\'status\\'>done</span> <span class=\\'title\\'>Metadata on current versions of uploaded media/files.</span><ul><li class=\\'file\\'><a href=\"/enwiki/20231020/enwiki-20231020-image.sql.gz\">enwiki-20231020-image.sql.gz</a> 78.9 MB</li></ul></li>\\n<li class=\\'done\\'><span class=\\'updates\\'>2023-10-20 08:26:47</span> <span class=\\'status\\'>done</span> <span class=\\'title\\'>A few statistics such as the page count.</span><ul><li class=\\'file\\'><a href=\"/enwiki/20231020/enwiki-20231020-site_stats.sql.gz\">enwiki-20231020-site_stats.sql.gz</a> 960 bytes</li></ul></li>\\n        </ul>\\n\\n</body>\\n</html>\\n'"
            ]
          },
          "execution_count": 4,
          "metadata": {},
          "output_type": "execute_result"
        }
      ],
      "source": [
        "# Create a new URL by appending a specific date ('20231020') to the base URL\n",
        "dump_url = base_url + '20231020/'\n",
        "\n",
        "# Send an HTTP GET request to the newly created URL and store the page content as text\n",
        "dump_html = requests.get(dump_url).text\n",
        "\n",
        "# The 'dump_html' variable now contains the HTML content of the web page at the specified URL\n",
        "dump_html"
      ]
    },
    {
      "cell_type": "code",
      "execution_count": 5,
      "metadata": {
        "colab": {
          "base_uri": "https://localhost:8080/"
        },
        "id": "sC_il351avPs",
        "outputId": "78bc75d5-4610-4bb9-9549-b044fbc7e9cc"
      },
      "outputs": [
        {
          "data": {
            "text/plain": [
              "[<li class=\"file\"><a href=\"/enwiki/20231020/enwiki-20231020-pages-articles-multistream.xml.bz2\">enwiki-20231020-pages-articles-multistream.xml.bz2</a> 21.0 GB</li>,\n",
              " <li class=\"file\"><a href=\"/enwiki/20231020/enwiki-20231020-pages-articles-multistream-index.txt.bz2\">enwiki-20231020-pages-articles-multistream-index.txt.bz2</a> 242.9 MB</li>,\n",
              " <li class=\"file\"><a href=\"/enwiki/20231020/enwiki-20231020-pages-articles-multistream1.xml-p1p41242.bz2\">enwiki-20231020-pages-articles-multistream1.xml-p1p41242.bz2</a> 261.2 MB</li>,\n",
              " <li class=\"file\"><a href=\"/enwiki/20231020/enwiki-20231020-pages-articles-multistream-index1.txt-p1p41242.bz2\">enwiki-20231020-pages-articles-multistream-index1.txt-p1p41242.bz2</a> 221 KB</li>]"
            ]
          },
          "execution_count": 5,
          "metadata": {},
          "output_type": "execute_result"
        }
      ],
      "source": [
        "# Create a BeautifulSoup object to parse the HTML content of the 'dump_html' variable\n",
        "soup_dump = BeautifulSoup(dump_html, 'html.parser')\n",
        "soup_dump"
      ]
    },
    {
      "cell_type": "code",
      "execution_count": 6,
      "metadata": {
        "colab": {
          "base_uri": "https://localhost:8080/"
        },
        "id": "F-88FD5QbmYD",
        "outputId": "f9672832-c5c0-47be-e820-184891098ab0"
      },
      "outputs": [
        {
          "data": {
            "text/plain": [
              "[('enwiki-20231020-pages-articles-multistream.xml.bz2', ['21.0', 'GB']),\n",
              " ('enwiki-20231020-pages-articles-multistream-index.txt.bz2', ['242.9', 'MB']),\n",
              " ('enwiki-20231020-pages-articles-multistream1.xml-p1p41242.bz2',\n",
              "  ['261.2', 'MB']),\n",
              " ('enwiki-20231020-pages-articles-multistream-index1.txt-p1p41242.bz2',\n",
              "  ['221', 'KB']),\n",
              " ('enwiki-20231020-pages-articles-multistream2.xml-p41243p151573.bz2',\n",
              "  ['348.7', 'MB']),\n",
              " ('enwiki-20231020-pages-articles-multistream-index2.txt-p41243p151573.bz2',\n",
              "  ['637', 'KB']),\n",
              " ('enwiki-20231020-pages-articles-multistream3.xml-p151574p311329.bz2',\n",
              "  ['378.9', 'MB']),\n",
              " ('enwiki-20231020-pages-articles-multistream-index3.txt-p151574p311329.bz2',\n",
              "  ['819', 'KB']),\n",
              " ('enwiki-20231020-pages-articles-multistream4.xml-p311330p558391.bz2',\n",
              "  ['422.1', 'MB']),\n",
              " ('enwiki-20231020-pages-articles-multistream-index4.txt-p311330p558391.bz2',\n",
              "  ['1.3', 'MB']),\n",
              " ('enwiki-20231020-pages-articles-multistream5.xml-p558392p958045.bz2',\n",
              "  ['452.5', 'MB']),\n",
              " ('enwiki-20231020-pages-articles-multistream-index5.txt-p558392p958045.bz2',\n",
              "  ['2.1', 'MB']),\n",
              " ('enwiki-20231020-pages-articles-multistream6.xml-p958046p1483661.bz2',\n",
              "  ['484.0', 'MB']),\n",
              " ('enwiki-20231020-pages-articles-multistream-index6.txt-p958046p1483661.bz2',\n",
              "  ['2.5', 'MB']),\n",
              " ('enwiki-20231020-pages-articles-multistream7.xml-p1483662p2134111.bz2',\n",
              "  ['496.3', 'MB']),\n",
              " ('enwiki-20231020-pages-articles-multistream-index7.txt-p1483662p2134111.bz2',\n",
              "  ['3.0', 'MB']),\n",
              " ('enwiki-20231020-pages-articles-multistream8.xml-p2134112p2936260.bz2',\n",
              "  ['508.4', 'MB']),\n",
              " ('enwiki-20231020-pages-articles-multistream-index8.txt-p2134112p2936260.bz2',\n",
              "  ['3.6', 'MB']),\n",
              " ('enwiki-20231020-pages-articles-multistream9.xml-p2936261p4045402.bz2',\n",
              "  ['549.6', 'MB']),\n",
              " ('enwiki-20231020-pages-articles-multistream-index9.txt-p2936261p4045402.bz2',\n",
              "  ['4.2', 'MB']),\n",
              " ('enwiki-20231020-pages-articles-multistream10.xml-p4045403p5399366.bz2',\n",
              "  ['542.9', 'MB']),\n",
              " ('enwiki-20231020-pages-articles-multistream-index10.txt-p4045403p5399366.bz2',\n",
              "  ['4.6', 'MB']),\n",
              " ('enwiki-20231020-pages-articles-multistream11.xml-p5399367p6899366.bz2',\n",
              "  ['526.3', 'MB']),\n",
              " ('enwiki-20231020-pages-articles-multistream-index11.txt-p5399367p6899366.bz2',\n",
              "  ['4.8', 'MB']),\n",
              " ('enwiki-20231020-pages-articles-multistream11.xml-p6899367p7054859.bz2',\n",
              "  ['50.4', 'MB']),\n",
              " ('enwiki-20231020-pages-articles-multistream-index11.txt-p6899367p7054859.bz2',\n",
              "  ['475', 'KB']),\n",
              " ('enwiki-20231020-pages-articles-multistream12.xml-p7054860p8554859.bz2',\n",
              "  ['436.7', 'MB']),\n",
              " ('enwiki-20231020-pages-articles-multistream-index12.txt-p7054860p8554859.bz2',\n",
              "  ['4.4', 'MB']),\n",
              " ('enwiki-20231020-pages-articles-multistream12.xml-p8554860p9172788.bz2',\n",
              "  ['176.3', 'MB']),\n",
              " ('enwiki-20231020-pages-articles-multistream-index12.txt-p8554860p9172788.bz2',\n",
              "  ['1.8', 'MB']),\n",
              " ('enwiki-20231020-pages-articles-multistream13.xml-p9172789p10672788.bz2',\n",
              "  ['356.2', 'MB']),\n",
              " ('enwiki-20231020-pages-articles-multistream-index13.txt-p9172789p10672788.bz2',\n",
              "  ['3.7', 'MB']),\n",
              " ('enwiki-20231020-pages-articles-multistream13.xml-p10672789p11659682.bz2',\n",
              "  ['246.7', 'MB']),\n",
              " ('enwiki-20231020-pages-articles-multistream-index13.txt-p10672789p11659682.bz2',\n",
              "  ['2.6', 'MB']),\n",
              " ('enwiki-20231020-pages-articles-multistream14.xml-p11659683p13159682.bz2',\n",
              "  ['429.0', 'MB']),\n",
              " ('enwiki-20231020-pages-articles-multistream-index14.txt-p11659683p13159682.bz2',\n",
              "  ['4.8', 'MB']),\n",
              " ('enwiki-20231020-pages-articles-multistream14.xml-p13159683p14324602.bz2',\n",
              "  ['294.2', 'MB']),\n",
              " ('enwiki-20231020-pages-articles-multistream-index14.txt-p13159683p14324602.bz2',\n",
              "  ['3.4', 'MB']),\n",
              " ('enwiki-20231020-pages-articles-multistream15.xml-p14324603p15824602.bz2',\n",
              "  ['383.5', 'MB']),\n",
              " ('enwiki-20231020-pages-articles-multistream-index15.txt-p14324603p15824602.bz2',\n",
              "  ['4.8', 'MB']),\n",
              " ('enwiki-20231020-pages-articles-multistream15.xml-p15824603p17324602.bz2',\n",
              "  ['332.8', 'MB']),\n",
              " ('enwiki-20231020-pages-articles-multistream-index15.txt-p15824603p17324602.bz2',\n",
              "  ['5.1', 'MB']),\n",
              " ('enwiki-20231020-pages-articles-multistream15.xml-p17324603p17460152.bz2',\n",
              "  ['30.2', 'MB']),\n",
              " ('enwiki-20231020-pages-articles-multistream-index15.txt-p17324603p17460152.bz2',\n",
              "  ['358', 'KB']),\n",
              " ('enwiki-20231020-pages-articles-multistream16.xml-p17460153p18960152.bz2',\n",
              "  ['362.8', 'MB']),\n",
              " ('enwiki-20231020-pages-articles-multistream-index16.txt-p17460153p18960152.bz2',\n",
              "  ['4.3', 'MB']),\n",
              " ('enwiki-20231020-pages-articles-multistream16.xml-p18960153p20460152.bz2',\n",
              "  ['337.8', 'MB']),\n",
              " ('enwiki-20231020-pages-articles-multistream-index16.txt-p18960153p20460152.bz2',\n",
              "  ['4.3', 'MB']),\n",
              " ('enwiki-20231020-pages-articles-multistream16.xml-p20460153p20570392.bz2',\n",
              "  ['24.6', 'MB']),\n",
              " ('enwiki-20231020-pages-articles-multistream-index16.txt-p20460153p20570392.bz2',\n",
              "  ['285', 'KB']),\n",
              " ('enwiki-20231020-pages-articles-multistream17.xml-p20570393p22070392.bz2',\n",
              "  ['375.1', 'MB']),\n",
              " ('enwiki-20231020-pages-articles-multistream-index17.txt-p20570393p22070392.bz2',\n",
              "  ['4.5', 'MB']),\n",
              " ('enwiki-20231020-pages-articles-multistream17.xml-p22070393p23570392.bz2',\n",
              "  ['386.7', 'MB']),\n",
              " ('enwiki-20231020-pages-articles-multistream-index17.txt-p22070393p23570392.bz2',\n",
              "  ['5.0', 'MB']),\n",
              " ('enwiki-20231020-pages-articles-multistream17.xml-p23570393p23716197.bz2',\n",
              "  ['42.9', 'MB']),\n",
              " ('enwiki-20231020-pages-articles-multistream-index17.txt-p23570393p23716197.bz2',\n",
              "  ['558', 'KB']),\n",
              " ('enwiki-20231020-pages-articles-multistream18.xml-p23716198p25216197.bz2',\n",
              "  ['400.1', 'MB']),\n",
              " ('enwiki-20231020-pages-articles-multistream-index18.txt-p23716198p25216197.bz2',\n",
              "  ['4.8', 'MB']),\n",
              " ('enwiki-20231020-pages-articles-multistream18.xml-p25216198p26716197.bz2',\n",
              "  ['366.8', 'MB']),\n",
              " ('enwiki-20231020-pages-articles-multistream-index18.txt-p25216198p26716197.bz2',\n",
              "  ['4.4', 'MB']),\n",
              " ('enwiki-20231020-pages-articles-multistream18.xml-p26716198p27121850.bz2',\n",
              "  ['94.0', 'MB']),\n",
              " ('enwiki-20231020-pages-articles-multistream-index18.txt-p26716198p27121850.bz2',\n",
              "  ['1.3', 'MB']),\n",
              " ('enwiki-20231020-pages-articles-multistream19.xml-p27121851p28621850.bz2',\n",
              "  ['360.1', 'MB']),\n",
              " ('enwiki-20231020-pages-articles-multistream-index19.txt-p27121851p28621850.bz2',\n",
              "  ['5.1', 'MB']),\n",
              " ('enwiki-20231020-pages-articles-multistream19.xml-p28621851p30121850.bz2',\n",
              "  ['317.0', 'MB']),\n",
              " ('enwiki-20231020-pages-articles-multistream-index19.txt-p28621851p30121850.bz2',\n",
              "  ['4.8', 'MB']),\n",
              " ('enwiki-20231020-pages-articles-multistream19.xml-p30121851p31308442.bz2',\n",
              "  ['298.7', 'MB']),\n",
              " ('enwiki-20231020-pages-articles-multistream-index19.txt-p30121851p31308442.bz2',\n",
              "  ['3.5', 'MB']),\n",
              " ('enwiki-20231020-pages-articles-multistream20.xml-p31308443p32808442.bz2',\n",
              "  ['403.6', 'MB']),\n",
              " ('enwiki-20231020-pages-articles-multistream-index20.txt-p31308443p32808442.bz2',\n",
              "  ['5.0', 'MB']),\n",
              " ('enwiki-20231020-pages-articles-multistream20.xml-p32808443p34308442.bz2',\n",
              "  ['370.5', 'MB']),\n",
              " ('enwiki-20231020-pages-articles-multistream-index20.txt-p32808443p34308442.bz2',\n",
              "  ['4.7', 'MB']),\n",
              " ('enwiki-20231020-pages-articles-multistream20.xml-p34308443p35522432.bz2',\n",
              "  ['272.9', 'MB']),\n",
              " ('enwiki-20231020-pages-articles-multistream-index20.txt-p34308443p35522432.bz2',\n",
              "  ['3.7', 'MB']),\n",
              " ('enwiki-20231020-pages-articles-multistream21.xml-p35522433p37022432.bz2',\n",
              "  ['376.8', 'MB']),\n",
              " ('enwiki-20231020-pages-articles-multistream-index21.txt-p35522433p37022432.bz2',\n",
              "  ['4.9', 'MB']),\n",
              " ('enwiki-20231020-pages-articles-multistream21.xml-p37022433p38522432.bz2',\n",
              "  ['365.0', 'MB']),\n",
              " ('enwiki-20231020-pages-articles-multistream-index21.txt-p37022433p38522432.bz2',\n",
              "  ['4.8', 'MB']),\n",
              " ('enwiki-20231020-pages-articles-multistream21.xml-p38522433p39996245.bz2',\n",
              "  ['369.2', 'MB']),\n",
              " ('enwiki-20231020-pages-articles-multistream-index21.txt-p38522433p39996245.bz2',\n",
              "  ['4.8', 'MB']),\n",
              " ('enwiki-20231020-pages-articles-multistream22.xml-p39996246p41496245.bz2',\n",
              "  ['362.8', 'MB']),\n",
              " ('enwiki-20231020-pages-articles-multistream-index22.txt-p39996246p41496245.bz2',\n",
              "  ['4.7', 'MB']),\n",
              " ('enwiki-20231020-pages-articles-multistream22.xml-p41496246p42996245.bz2',\n",
              "  ['373.0', 'MB']),\n",
              " ('enwiki-20231020-pages-articles-multistream-index22.txt-p41496246p42996245.bz2',\n",
              "  ['4.8', 'MB']),\n",
              " ('enwiki-20231020-pages-articles-multistream22.xml-p42996246p44496245.bz2',\n",
              "  ['378.5', 'MB']),\n",
              " ('enwiki-20231020-pages-articles-multistream-index22.txt-p42996246p44496245.bz2',\n",
              "  ['5.2', 'MB']),\n",
              " ('enwiki-20231020-pages-articles-multistream22.xml-p44496246p44788941.bz2',\n",
              "  ['59.7', 'MB']),\n",
              " ('enwiki-20231020-pages-articles-multistream-index22.txt-p44496246p44788941.bz2',\n",
              "  ['825', 'KB']),\n",
              " ('enwiki-20231020-pages-articles-multistream23.xml-p44788942p46288941.bz2',\n",
              "  ['243.0', 'MB']),\n",
              " ('enwiki-20231020-pages-articles-multistream-index23.txt-p44788942p46288941.bz2',\n",
              "  ['3.1', 'MB']),\n",
              " ('enwiki-20231020-pages-articles-multistream23.xml-p46288942p47788941.bz2',\n",
              "  ['389.1', 'MB']),\n",
              " ('enwiki-20231020-pages-articles-multistream-index23.txt-p46288942p47788941.bz2',\n",
              "  ['5.2', 'MB']),\n",
              " ('enwiki-20231020-pages-articles-multistream23.xml-p47788942p49288941.bz2',\n",
              "  ['324.9', 'MB']),\n",
              " ('enwiki-20231020-pages-articles-multistream-index23.txt-p47788942p49288941.bz2',\n",
              "  ['4.3', 'MB']),\n",
              " ('enwiki-20231020-pages-articles-multistream23.xml-p49288942p50564553.bz2',\n",
              "  ['256.4', 'MB']),\n",
              " ('enwiki-20231020-pages-articles-multistream-index23.txt-p49288942p50564553.bz2',\n",
              "  ['4.1', 'MB']),\n",
              " ('enwiki-20231020-pages-articles-multistream24.xml-p50564554p52064553.bz2',\n",
              "  ['349.7', 'MB']),\n",
              " ('enwiki-20231020-pages-articles-multistream-index24.txt-p50564554p52064553.bz2',\n",
              "  ['4.9', 'MB']),\n",
              " ('enwiki-20231020-pages-articles-multistream24.xml-p52064554p53564553.bz2',\n",
              "  ['350.0', 'MB']),\n",
              " ('enwiki-20231020-pages-articles-multistream-index24.txt-p52064554p53564553.bz2',\n",
              "  ['4.8', 'MB']),\n",
              " ('enwiki-20231020-pages-articles-multistream24.xml-p53564554p55064553.bz2',\n",
              "  ['334.8', 'MB']),\n",
              " ('enwiki-20231020-pages-articles-multistream-index24.txt-p53564554p55064553.bz2',\n",
              "  ['4.7', 'MB']),\n",
              " ('enwiki-20231020-pages-articles-multistream24.xml-p55064554p56564553.bz2',\n",
              "  ['351.9', 'MB']),\n",
              " ('enwiki-20231020-pages-articles-multistream-index24.txt-p55064554p56564553.bz2',\n",
              "  ['5.1', 'MB']),\n",
              " ('enwiki-20231020-pages-articles-multistream24.xml-p56564554p57025655.bz2',\n",
              "  ['111.0', 'MB']),\n",
              " ('enwiki-20231020-pages-articles-multistream-index24.txt-p56564554p57025655.bz2',\n",
              "  ['1.5', 'MB']),\n",
              " ('enwiki-20231020-pages-articles-multistream25.xml-p57025656p58525655.bz2',\n",
              "  ['363.3', 'MB']),\n",
              " ('enwiki-20231020-pages-articles-multistream-index25.txt-p57025656p58525655.bz2',\n",
              "  ['4.8', 'MB']),\n",
              " ('enwiki-20231020-pages-articles-multistream25.xml-p58525656p60025655.bz2',\n",
              "  ['326.8', 'MB']),\n",
              " ('enwiki-20231020-pages-articles-multistream-index25.txt-p58525656p60025655.bz2',\n",
              "  ['4.9', 'MB']),\n",
              " ('enwiki-20231020-pages-articles-multistream25.xml-p60025656p61525655.bz2',\n",
              "  ['363.3', 'MB']),\n",
              " ('enwiki-20231020-pages-articles-multistream-index25.txt-p60025656p61525655.bz2',\n",
              "  ['4.9', 'MB']),\n",
              " ('enwiki-20231020-pages-articles-multistream25.xml-p61525656p62585850.bz2',\n",
              "  ['250.7', 'MB']),\n",
              " ('enwiki-20231020-pages-articles-multistream-index25.txt-p61525656p62585850.bz2',\n",
              "  ['3.3', 'MB']),\n",
              " ('enwiki-20231020-pages-articles-multistream26.xml-p62585851p63975909.bz2',\n",
              "  ['363.9', 'MB']),\n",
              " ('enwiki-20231020-pages-articles-multistream-index26.txt-p62585851p63975909.bz2',\n",
              "  ['4.8', 'MB']),\n",
              " ('enwiki-20231020-pages-articles-multistream27.xml-p63975910p65475909.bz2',\n",
              "  ['330.7', 'MB']),\n",
              " ('enwiki-20231020-pages-articles-multistream-index27.txt-p63975910p65475909.bz2',\n",
              "  ['4.4', 'MB']),\n",
              " ('enwiki-20231020-pages-articles-multistream27.xml-p65475910p66975909.bz2',\n",
              "  ['358.4', 'MB']),\n",
              " ('enwiki-20231020-pages-articles-multistream-index27.txt-p65475910p66975909.bz2',\n",
              "  ['4.6', 'MB']),\n",
              " ('enwiki-20231020-pages-articles-multistream27.xml-p66975910p68475909.bz2',\n",
              "  ['380.0', 'MB']),\n",
              " ('enwiki-20231020-pages-articles-multistream-index27.txt-p66975910p68475909.bz2',\n",
              "  ['5.0', 'MB']),\n",
              " ('enwiki-20231020-pages-articles-multistream27.xml-p68475910p69975909.bz2',\n",
              "  ['375.0', 'MB']),\n",
              " ('enwiki-20231020-pages-articles-multistream-index27.txt-p68475910p69975909.bz2',\n",
              "  ['5.2', 'MB']),\n",
              " ('enwiki-20231020-pages-articles-multistream27.xml-p69975910p71475909.bz2',\n",
              "  ['366.5', 'MB']),\n",
              " ('enwiki-20231020-pages-articles-multistream-index27.txt-p69975910p71475909.bz2',\n",
              "  ['5.1', 'MB']),\n",
              " ('enwiki-20231020-pages-articles-multistream27.xml-p71475910p72975909.bz2',\n",
              "  ['348.7', 'MB']),\n",
              " ('enwiki-20231020-pages-articles-multistream-index27.txt-p71475910p72975909.bz2',\n",
              "  ['4.9', 'MB']),\n",
              " ('enwiki-20231020-pages-articles-multistream27.xml-p72975910p74475909.bz2',\n",
              "  ['354.0', 'MB']),\n",
              " ('enwiki-20231020-pages-articles-multistream-index27.txt-p72975910p74475909.bz2',\n",
              "  ['5.1', 'MB']),\n",
              " ('enwiki-20231020-pages-articles-multistream27.xml-p74475910p75105778.bz2',\n",
              "  ['161.5', 'MB']),\n",
              " ('enwiki-20231020-pages-articles-multistream-index27.txt-p74475910p75105778.bz2',\n",
              "  ['2.5', 'MB']),\n",
              " ('enwiki-20231020-pages-articles.xml.bz2', ['19.9', 'GB']),\n",
              " ('enwiki-20231020-pages-articles1.xml-p1p41242.bz2', ['260.4', 'MB']),\n",
              " ('enwiki-20231020-pages-articles2.xml-p41243p151573.bz2', ['345.4', 'MB']),\n",
              " ('enwiki-20231020-pages-articles3.xml-p151574p311329.bz2', ['376.1', 'MB']),\n",
              " ('enwiki-20231020-pages-articles4.xml-p311330p558391.bz2', ['417.7', 'MB']),\n",
              " ('enwiki-20231020-pages-articles5.xml-p558392p958045.bz2', ['445.7', 'MB']),\n",
              " ('enwiki-20231020-pages-articles6.xml-p958046p1483661.bz2', ['476.6', 'MB']),\n",
              " ('enwiki-20231020-pages-articles7.xml-p1483662p2134111.bz2', ['486.8', 'MB']),\n",
              " ('enwiki-20231020-pages-articles8.xml-p2134112p2936260.bz2', ['495.1', 'MB']),\n",
              " ('enwiki-20231020-pages-articles9.xml-p2936261p4045402.bz2', ['532.5', 'MB']),\n",
              " ('enwiki-20231020-pages-articles10.xml-p4045403p5399366.bz2',\n",
              "  ['522.7', 'MB']),\n",
              " ('enwiki-20231020-pages-articles11.xml-p5399367p6899366.bz2',\n",
              "  ['503.7', 'MB']),\n",
              " ('enwiki-20231020-pages-articles11.xml-p6899367p7054859.bz2', ['48.2', 'MB']),\n",
              " ('enwiki-20231020-pages-articles12.xml-p7054860p8554859.bz2',\n",
              "  ['415.9', 'MB']),\n",
              " ('enwiki-20231020-pages-articles12.xml-p8554860p9172788.bz2',\n",
              "  ['167.9', 'MB']),\n",
              " ('enwiki-20231020-pages-articles13.xml-p9172789p10672788.bz2',\n",
              "  ['339.1', 'MB']),\n",
              " ('enwiki-20231020-pages-articles13.xml-p10672789p11659682.bz2',\n",
              "  ['234.8', 'MB']),\n",
              " ('enwiki-20231020-pages-articles14.xml-p11659683p13159682.bz2',\n",
              "  ['405.0', 'MB']),\n",
              " ('enwiki-20231020-pages-articles14.xml-p13159683p14324602.bz2',\n",
              "  ['278.6', 'MB']),\n",
              " ('enwiki-20231020-pages-articles15.xml-p14324603p15824602.bz2',\n",
              "  ['360.9', 'MB']),\n",
              " ('enwiki-20231020-pages-articles15.xml-p15824603p17324602.bz2',\n",
              "  ['310.5', 'MB']),\n",
              " ('enwiki-20231020-pages-articles15.xml-p17324603p17460152.bz2',\n",
              "  ['28.6', 'MB']),\n",
              " ('enwiki-20231020-pages-articles16.xml-p17460153p18960152.bz2',\n",
              "  ['342.9', 'MB']),\n",
              " ('enwiki-20231020-pages-articles16.xml-p18960153p20460152.bz2',\n",
              "  ['318.1', 'MB']),\n",
              " ('enwiki-20231020-pages-articles16.xml-p20460153p20570392.bz2',\n",
              "  ['23.4', 'MB']),\n",
              " ('enwiki-20231020-pages-articles17.xml-p20570393p22070392.bz2',\n",
              "  ['354.6', 'MB']),\n",
              " ('enwiki-20231020-pages-articles17.xml-p22070393p23570392.bz2',\n",
              "  ['364.7', 'MB']),\n",
              " ('enwiki-20231020-pages-articles17.xml-p23570393p23716197.bz2',\n",
              "  ['40.5', 'MB']),\n",
              " ('enwiki-20231020-pages-articles18.xml-p23716198p25216197.bz2',\n",
              "  ['378.8', 'MB']),\n",
              " ('enwiki-20231020-pages-articles18.xml-p25216198p26716197.bz2',\n",
              "  ['347.5', 'MB']),\n",
              " ('enwiki-20231020-pages-articles18.xml-p26716198p27121850.bz2',\n",
              "  ['88.1', 'MB']),\n",
              " ('enwiki-20231020-pages-articles19.xml-p27121851p28621850.bz2',\n",
              "  ['337.8', 'MB']),\n",
              " ('enwiki-20231020-pages-articles19.xml-p28621851p30121850.bz2',\n",
              "  ['296.9', 'MB']),\n",
              " ('enwiki-20231020-pages-articles19.xml-p30121851p31308442.bz2',\n",
              "  ['284.2', 'MB']),\n",
              " ('enwiki-20231020-pages-articles20.xml-p31308443p32808442.bz2',\n",
              "  ['383.5', 'MB']),\n",
              " ('enwiki-20231020-pages-articles20.xml-p32808443p34308442.bz2',\n",
              "  ['349.9', 'MB']),\n",
              " ('enwiki-20231020-pages-articles20.xml-p34308443p35522432.bz2',\n",
              "  ['258.2', 'MB']),\n",
              " ('enwiki-20231020-pages-articles21.xml-p35522433p37022432.bz2',\n",
              "  ['354.2', 'MB']),\n",
              " ('enwiki-20231020-pages-articles21.xml-p37022433p38522432.bz2',\n",
              "  ['342.7', 'MB']),\n",
              " ('enwiki-20231020-pages-articles21.xml-p38522433p39996245.bz2',\n",
              "  ['347.7', 'MB']),\n",
              " ('enwiki-20231020-pages-articles22.xml-p39996246p41496245.bz2',\n",
              "  ['342.2', 'MB']),\n",
              " ('enwiki-20231020-pages-articles22.xml-p41496246p42996245.bz2',\n",
              "  ['352.4', 'MB']),\n",
              " ('enwiki-20231020-pages-articles22.xml-p42996246p44496245.bz2',\n",
              "  ['355.8', 'MB']),\n",
              " ('enwiki-20231020-pages-articles22.xml-p44496246p44788941.bz2',\n",
              "  ['56.3', 'MB']),\n",
              " ('enwiki-20231020-pages-articles23.xml-p44788942p46288941.bz2',\n",
              "  ['229.8', 'MB']),\n",
              " ('enwiki-20231020-pages-articles23.xml-p46288942p47788941.bz2',\n",
              "  ['366.2', 'MB']),\n",
              " ('enwiki-20231020-pages-articles23.xml-p47788942p49288941.bz2',\n",
              "  ['306.8', 'MB']),\n",
              " ('enwiki-20231020-pages-articles23.xml-p49288942p50564553.bz2',\n",
              "  ['238.7', 'MB']),\n",
              " ('enwiki-20231020-pages-articles24.xml-p50564554p52064553.bz2',\n",
              "  ['328.8', 'MB']),\n",
              " ('enwiki-20231020-pages-articles24.xml-p52064554p53564553.bz2',\n",
              "  ['329.5', 'MB']),\n",
              " ('enwiki-20231020-pages-articles24.xml-p53564554p55064553.bz2',\n",
              "  ['314.3', 'MB']),\n",
              " ('enwiki-20231020-pages-articles24.xml-p55064554p56564553.bz2',\n",
              "  ['330.0', 'MB']),\n",
              " ('enwiki-20231020-pages-articles24.xml-p56564554p57025655.bz2',\n",
              "  ['104.4', 'MB']),\n",
              " ('enwiki-20231020-pages-articles25.xml-p57025656p58525655.bz2',\n",
              "  ['344.0', 'MB']),\n",
              " ('enwiki-20231020-pages-articles25.xml-p58525656p60025655.bz2',\n",
              "  ['308.3', 'MB']),\n",
              " ('enwiki-20231020-pages-articles25.xml-p60025656p61525655.bz2',\n",
              "  ['343.6', 'MB']),\n",
              " ('enwiki-20231020-pages-articles25.xml-p61525656p62585850.bz2',\n",
              "  ['237.7', 'MB']),\n",
              " ('enwiki-20231020-pages-articles26.xml-p62585851p63975909.bz2',\n",
              "  ['345.5', 'MB']),\n",
              " ('enwiki-20231020-pages-articles27.xml-p63975910p65475909.bz2',\n",
              "  ['312.6', 'MB']),\n",
              " ('enwiki-20231020-pages-articles27.xml-p65475910p66975909.bz2',\n",
              "  ['340.6', 'MB']),\n",
              " ('enwiki-20231020-pages-articles27.xml-p66975910p68475909.bz2',\n",
              "  ['359.1', 'MB']),\n",
              " ('enwiki-20231020-pages-articles27.xml-p68475910p69975909.bz2',\n",
              "  ['354.7', 'MB']),\n",
              " ('enwiki-20231020-pages-articles27.xml-p69975910p71475909.bz2',\n",
              "  ['346.9', 'MB']),\n",
              " ('enwiki-20231020-pages-articles27.xml-p71475910p72975909.bz2',\n",
              "  ['329.4', 'MB']),\n",
              " ('enwiki-20231020-pages-articles27.xml-p72975910p74475909.bz2',\n",
              "  ['332.6', 'MB']),\n",
              " ('enwiki-20231020-pages-articles27.xml-p74475910p75105778.bz2',\n",
              "  ['150.1', 'MB'])]"
            ]
          },
          "execution_count": 6,
          "metadata": {},
          "output_type": "execute_result"
        }
      ],
      "source": [
        "# Initialize an empty list to store file information\n",
        "files = []\n",
        "\n",
        "# Iterate through all list items ('<li>') with the 'class' attribute set to 'file' in the parsed HTML content\n",
        "for file in soup_dump.find_all('li', {'class': 'file'}):\n",
        "    # Extract the text content of the current list item\n",
        "    text = file.text\n",
        "\n",
        "    # Check if the text contains the substring 'pages-articles'\n",
        "    if 'pages-articles' in text:\n",
        "        # Split the text into a list using spaces as a delimiter\n",
        "        # The first element will be the file size, and the rest will be file details\n",
        "        files.append((text.split()[0], text.split()[1:]))\n",
        "\n",
        "# The 'files' list now contains information about files that match the criteria\n",
        "files"
      ]
    },
    {
      "cell_type": "code",
      "execution_count": 7,
      "metadata": {
        "colab": {
          "base_uri": "https://localhost:8080/"
        },
        "id": "ljif73ozeMBD",
        "outputId": "2625c792-7f85-408a-b633-60a2466f0f31"
      },
      "outputs": [
        {
          "data": {
            "text/plain": [
              "['enwiki-20231020-pages-articles27.xml-p68475910p69975909.bz2',\n",
              " 'enwiki-20231020-pages-articles27.xml-p69975910p71475909.bz2',\n",
              " 'enwiki-20231020-pages-articles27.xml-p71475910p72975909.bz2',\n",
              " 'enwiki-20231020-pages-articles27.xml-p72975910p74475909.bz2',\n",
              " 'enwiki-20231020-pages-articles27.xml-p74475910p75105778.bz2']"
            ]
          },
          "execution_count": 7,
          "metadata": {},
          "output_type": "execute_result"
        }
      ],
      "source": [
        "# Create a list of file sizes (the first element in each 'files' tuple)\n",
        "# for files where the filename contains '.xml-p'\n",
        "files_to_download = [file[0] for file in files if '.xml-p' in file[0]]\n",
        "\n",
        "# Select the last 5 elements of the 'files_to_download' list\n",
        "# These represent the file sizes of the 5 most recent files with '.xml-p' in the filename\n",
        "files_to_download"
      ]
    },
    {
      "cell_type": "code",
      "execution_count": 8,
      "metadata": {
        "colab": {
          "base_uri": "https://localhost:8080/"
        },
        "id": "fInkgFaziNuz",
        "outputId": "8548e56f-49f0-4161-d624-49d93de26115"
      },
      "outputs": [
        {
          "name": "stdout",
          "output_type": "stream",
          "text": [
            "Requirement already satisfied: keras in /usr/local/lib/python3.10/dist-packages (2.14.0)\n"
          ]
        }
      ],
      "source": [
        "!pip install keras"
      ]
    },
    {
      "cell_type": "code",
      "execution_count": 9,
      "metadata": {
        "id": "C-24OlpFeU4v"
      },
      "outputs": [],
      "source": [
        "import sys\n",
        "from keras.utils import get_file\n",
        "\n",
        "keras_home = '/content/drive/MyDrive/Data/'"
      ]
    },
    {
      "cell_type": "code",
      "execution_count": 15,
      "metadata": {
        "id": "ZZBoiPI_n6wB"
      },
      "outputs": [],
      "source": [
        "# Initialize empty lists to store data paths and file information\n",
        "data_paths = []\n",
        "file_info = []\n",
        "\n",
        "# Iterate through each file in the 'files_to_download' list\n",
        "for file in files_to_download:\n",
        "    # Create a full file path by concatenating 'keras_home' and the file name\n",
        "    path = keras_home + file\n",
        "    \n",
        "    # Check to see if the file exists at the specified path (if it's already downloaded)\n",
        "    if not os.path exists(path):\n",
        "        # Print a message indicating that the file is being downloaded\n",
        "        print('Downloading')\n",
        "        \n",
        "        # Append the downloaded file path to the 'data_paths' list using 'get_file' function\n",
        "        data_paths.append(get_file(file, dump_url, cache_subdir=keras_home))\n",
        "        \n",
        "        # Find the file size in megabytes and store it in 'file_size'\n",
        "        file_size = os.stat(path).st_size / 1e6\n",
        "        \n",
        "        # Calculate the number of articles in the file by parsing the filename\n",
        "        file_articles = int(file.split('p')[-1].split('.')[-2]) - int(file.split('p')[-2])\n",
        "        \n",
        "        # Append the file information (file name, file size, and number of articles) to 'file_info' list\n",
        "        file_info.append((file, file_size, file_articles))\n",
        "        \n",
        "    # If the file is already downloaded, find some information about it\n",
        "    else:\n",
        "        # Append the file path to the 'data_paths' list\n",
        "        data_paths.append(path)\n",
        "        \n",
        "        # Find the file size in megabytes and store it in 'file_size'\n",
        "        file_size = os.stat(path).st_size / 1e6\n",
        "        \n",
        "        # Calculate the number of articles in the file by parsing the filename\n",
        "        file_number = int(file.split('p')[-1].split('.')[-2]) - int(file.split('p')[-2])\n",
        "        \n",
        "        # Append the file information (file name, file size, and number of articles) to 'file_info' list\n",
        "        file_info.append((file.split('-')[-1], file_size, file_number))"
      ]
    },
    {
      "cell_type": "code",
      "execution_count": 16,
      "metadata": {
        "colab": {
          "base_uri": "https://localhost:8080/"
        },
        "id": "dUXMawpFeiTA",
        "outputId": "b7c0da6c-6a16-4352-f2b6-5343ab4630e9"
      },
      "outputs": [
        {
          "data": {
            "text/plain": [
              "[('p1p41242.bz2', 0.090857, 41241),\n",
              " ('p41243p151573.bz2', 0.090857, 110330),\n",
              " ('p151574p311329.bz2', 0.090857, 159755),\n",
              " ('p311330p558391.bz2', 0.090857, 247061),\n",
              " ('p558392p958045.bz2', 0.090857, 399653)]"
            ]
          },
          "execution_count": 16,
          "metadata": {},
          "output_type": "execute_result"
        }
      ],
      "source": [
        "sorted(file_info, key=lambda x: x[1], reverse=True)"
      ]
    },
    {
      "cell_type": "code",
      "execution_count": 17,
      "metadata": {
        "colab": {
          "base_uri": "https://localhost:8080/"
        },
        "id": "FsusZ6RLejbU",
        "outputId": "b64f49eb-6414-4d63-f9ea-0371f88f6490"
      },
      "outputs": [
        {
          "data": {
            "text/plain": [
              "[('p5399367p6899366.bz2', 0.090857, 1499999),\n",
              " ('p7054860p8554859.bz2', 0.090857, 1499999),\n",
              " ('p9172789p10672788.bz2', 0.090857, 1499999),\n",
              " ('p11659683p13159682.bz2', 0.090857, 1499999),\n",
              " ('p14324603p15824602.bz2', 0.090857, 1499999)]"
            ]
          },
          "execution_count": 17,
          "metadata": {},
          "output_type": "execute_result"
        }
      ],
      "source": [
        "sorted(file_info, key=lambda x: x[2], reverse=True)"
      ]
    },
    {
      "cell_type": "code",
      "execution_count": 18,
      "metadata": {
        "colab": {
          "base_uri": "https://localhost:8080/"
        },
        "id": "-UTSjojTen1R",
        "outputId": "2e3c6ead-7ab0-435a-9bdd-9546e3d2f7c4"
      },
      "outputs": [
        {
          "name": "stdout",
          "output_type": "stream",
          "text": [
            "There are 130 partitions.\n"
          ]
        }
      ],
      "source": [
        "print(f'There are {len(file_info)} partitions.')"
      ]
    },
    {
      "cell_type": "code",
      "execution_count": 19,
      "metadata": {
        "colab": {
          "base_uri": "https://localhost:8080/",
          "height": 733
        },
        "id": "-PL1JadXep-g",
        "outputId": "25d6d985-448b-48c9-8b2d-b464f4438647"
      },
      "outputs": [
        {
          "data": {
            "text/plain": [
              "<Axes: xlabel='file'>"
            ]
          },
          "execution_count": 19,
          "metadata": {},
          "output_type": "execute_result"
        },
        {
          "data": {
            "image/png": "[encoded data removed]",
            "text/plain": [
              "<Figure size 1200x600 with 1 Axes>"
            ]
          },
          "metadata": {},
          "output_type": "display_data"
        }
      ],
      "source": [
        "# Import the pandas library as 'pd' and the matplotlib library as 'plt'\n",
        "import pandas as pd\n",
        "import matplotlib.pyplot as plt\n",
        "\n",
        "# Enable inline plotting in the Jupyter Notebook (if running in a Jupyter environment)\n",
        "%matplotlib inline\n",
        "\n",
        "# Create a DataFrame 'file_df' from the 'file_info' list, specifying column names\n",
        "# and set the 'file' column as the index\n",
        "file_df = pd.DataFrame(file_info, columns=['file', 'size (MB)', 'articles']).set_index('file')\n",
        "\n",
        "# Create a bar plot of the 'size (MB)' column in the DataFrame\n",
        "# Using a red color and specifying the figure size\n",
        "file_df['size (MB)'].plot.bar(color='red', figsize=(12, 6))"
      ]
    },
    {
      "cell_type": "code",
      "execution_count": null,
      "metadata": {},
      "outputs": [],
      "source": [
        "print(f\"The total size of files on disk is {file_df['size (MB)'].sum() / 1e3} GB\")"
      ]
    },
    {
      "cell_type": "code",
      "execution_count": null,
      "metadata": {},
      "outputs": [],
      "source": [
        "# Import the 'bz2' module to work with BZ2-compressed files\n",
        "import bz2\n",
        "\n",
        "# Import the 'subprocess' module for running external commands\n",
        "import subprocess\n",
        "\n",
        "# Select a specific data path (in this case, the 16th element of the 'data_paths' list)\n",
        "data_path = data_paths[15]\n",
        "\n",
        "# The 'data_path' variable now contains the path to the selected data file\n",
        "data_path"
      ]
    },
    {
      "cell_type": "code",
      "execution_count": null,
      "metadata": {},
      "outputs": [],
      "source": [
        "# Measure the execution time of the following code block using the %%timeit magic command\n",
        "# Run the code block 3 times with a repeat of 3 and collect timing information\n",
        "%%timeit -n 3 -r 3\n",
        "\n",
        "# Initialize an empty list to store lines from the BZ2-compressed file\n",
        "lines = []\n",
        "\n",
        "# Iterate over the lines in the BZ2-compressed file using the 'bz2.BZ2File' object\n",
        "# and append each line to the 'lines' list\n",
        "# Break the loop if more than 1 million lines have been processed\n",
        "for i, line in enumerate(bz2.BZ2File(data_path, 'r')):\n",
        "    lines.append(line)\n",
        "    if i > 1e6:\n",
        "        break"
      ]
    },
    {
      "cell_type": "code",
      "execution_count": null,
      "metadata": {},
      "outputs": [],
      "source": [
        "%%timeit -n 3 -r 3\n",
        "\n",
        "# Initialize an empty list to store lines\n",
        "lines = []\n",
        "\n",
        "# Iterate over lines in a BZ2-compressed file using the 'bzcat' command executed via 'subprocess'\n",
        "# Append each line to the 'lines' list\n",
        "# Break the loop if more than 1 million lines have been processed\n",
        "for i, line in enumerate(subprocess.Popen(['bzcat'], \n",
        "                         stdin=open(data_path), \n",
        "                         stdout=subprocess.PIPE).stdout):\n",
        "    lines.append(line)\n",
        "    if i > 1e6:\n",
        "        break"
      ]
    },
    {
      "cell_type": "code",
      "execution_count": null,
      "metadata": {},
      "outputs": [],
      "source": [
        "import xml.sax\n",
        "\n",
        "class WikiXmlHandler(xml.sax.handler.ContentHandler):\n",
        "    \"\"\"Content handler for Wiki XML data using SAX\"\"\"\n",
        "    \n",
        "    def __init__(self):\n",
        "        # Constructor to initialize the handler\n",
        "        xml.sax.handler.ContentHandler.__init__(self)\n",
        "        self._buffer = None\n",
        "        self._values = {}\n",
        "        self._current_tag = None\n",
        "        self._pages = []\n",
        "\n",
        "    def characters(self, content):\n",
        "        \"\"\"Characters between opening and closing tags\"\"\"\n",
        "        # Called when characters are encountered between opening and closing tags\n",
        "        # If the current tag is being processed, append the content to the buffer\n",
        "        if self._current_tag:\n",
        "            self._buffer.append(content)\n",
        "\n",
        "    def startElement(self, name, attrs):\n",
        "        \"\"\"Opening tag of element\"\"\"\n",
        "        # Called when an opening tag is encountered\n",
        "        # If the tag is 'title,' 'text,' or 'timestamp,' set it as the current tag\n",
        "        # and create a buffer to collect the content\n",
        "        if name in ('title', 'text', 'timestamp'):\n",
        "            self._current_tag = name\n",
        "            self._buffer = []\n",
        "\n",
        "    def endElement(self, name):\n",
        "        \"\"\"Closing tag of element\"\"\"\n",
        "        # Called when a closing tag is encountered\n",
        "        # If the closing tag matches the current tag, join the content from the buffer\n",
        "        # and store it in the values dictionary\n",
        "        if name == self._current_tag:\n",
        "            self._values[name] = ' '.join(self._buffer)\n",
        "\n",
        "        # If the closing tag is 'page,' it means the end of a page element\n",
        "        # Store the collected 'title' and 'text' in the pages list as a tuple\n",
        "        if name == 'page':\n",
        "            self._pages.append((self._values['title'], self._values['text']))"
      ]
    },
    {
      "cell_type": "code",
      "execution_count": null,
      "metadata": {},
      "outputs": [],
      "source": [
        "# Create an instance of the WikiXmlHandler class\n",
        "handler = WikiXmlHandler()\n",
        "\n",
        "# Create a SAX parser\n",
        "parser = xml.sax.make_parser()\n",
        "\n",
        "# Set the content handler for the parser as the 'handler' instance\n",
        "parser.setContentHandler(handler)\n",
        "\n",
        "# Access the '_pages' attribute of the 'handler' instance (empty list at this point)\n",
        "handler._pages"
      ]
    },
    {
      "cell_type": "code",
      "execution_count": null,
      "metadata": {},
      "outputs": [],
      "source": [
        "# Create an instance of the WikiXmlHandler class for handling XML data\n",
        "handler = WikiXmlHandler()\n",
        "\n",
        "# Create a SAX parser\n",
        "parser = xml.sax.make_parser()\n",
        "\n",
        "# Set the content handler for the parser as the 'handler' instance\n",
        "parser.setContentHandler(handler)\n",
        "\n",
        "# Initialize a loop to read lines from the BZ2-compressed file using 'bzcat' via subprocess\n",
        "for i, line in enumerate(subprocess.Popen(['bzcat'], \n",
        "                     stdin=open(data_path), \n",
        "                     stdout=subprocess.PIPE).stdout):\n",
        "    # Feed each line to the parser for XML processing\n",
        "    parser.feed(line)\n",
        "    \n",
        "    # Stop the loop when 3 articles have been found and processed\n",
        "    if len(handler._pages) > 2:\n",
        "        break\n",
        "\n",
        "# Print the titles of the 3 articles found\n",
        "print([x[0] for x in handler._pages])"
      ]
    },
    {
      "cell_type": "code",
      "execution_count": null,
      "metadata": {},
      "outputs": [],
      "source": [
        "# Create an instance of the WikiXmlHandler class for handling XML data\n",
        "handler = WikiXmlHandler()\n",
        "\n",
        "# Create a SAX parser\n",
        "parser = xml.sax.make_parser()\n",
        "\n",
        "# Set the content handler for the parser as the 'handler' instance\n",
        "parser.setContentHandler(handler)\n",
        "\n",
        "# Initialize a loop to read lines from the BZ2-compressed file using 'bzcat' via subprocess\n",
        "for i, line in enumerate(subprocess.Popen(['bzcat'], \n",
        "                     stdin=open(data_path), \n",
        "                     stdout=subprocess.PIPE).stdout):\n",
        "    # Feed each line to the parser for XML processing\n",
        "    parser.feed(line)\n",
        "    \n",
        "    # Stop the loop when 50 articles have been found and processed\n",
        "    if len(handler._pages) > 50:\n",
        "        break"
      ]
    },
    {
      "cell_type": "code",
      "execution_count": null,
      "metadata": {},
      "outputs": [],
      "source": [
        "# Import the 'mwparserfromhell' library for parsing MediaWiki text\n",
        "import mwparserfromhell"
      ]
    },
    {
      "cell_type": "code",
      "execution_count": null,
      "metadata": {},
      "outputs": [],
      "source": [
        "# Print the title of the 7th article (index 6) from the handler's pages\n",
        "print(handler._pages[6][0])\n",
        "\n",
        "# Parse the wikitext of the 7th article using 'mwparserfromhell.parse' and store it in the 'wiki' variable\n",
        "wiki = mwparserfromhell.parse(handler._pages[6][1])\n",
        "wiki"
      ]
    },
    {
      "cell_type": "code",
      "execution_count": null,
      "metadata": {},
      "outputs": [],
      "source": [
        "# Extract wikilinks from the parsed wikitext and store them in the 'wikilinks' list\n",
        "wikilinks = [x.title for x in wiki.filter_wikilinks()]\n",
        "\n",
        "# Print the number of wikilinks found\n",
        "print(f'There are {len(wikilinks)} wikilinks.')\n",
        "\n",
        "# Print the list of wikilinks\n",
        "wikilinks"
      ]
    },
    {
      "cell_type": "code",
      "execution_count": null,
      "metadata": {},
      "outputs": [],
      "source": [
        "# Extract argument strings from templates in the parsed wikitext and print them\n",
        "arguments = wiki.filter_arguments()\n",
        "arguments"
      ]
    },
    {
      "cell_type": "code",
      "execution_count": null,
      "metadata": {},
      "outputs": [],
      "source": [
        "# Extract comments from the parsed wikitext and store them in the 'comments' list\n",
        "comments = wiki.filter_comments()\n",
        "comments"
      ]
    },
    {
      "cell_type": "code",
      "execution_count": null,
      "metadata": {},
      "outputs": [],
      "source": [
        "# Extract external links (titles and URLs) from the parsed wikitext and store them in the 'external_links' list\n",
        "external_links = [(x.title, x.url) for x in wiki.filter_external_links()]\n",
        "\n",
        "# Print the number of external links found\n",
        "print(f'There are {len(external_links)} external links.')\n",
        "\n",
        "# Print the list of external links (titles and URLs)\n",
        "external_links"
      ]
    },
    {
      "cell_type": "code",
      "execution_count": null,
      "metadata": {},
      "outputs": [],
      "source": [
        "# Use the 'wiki.filter()' method to search for the text pattern 'contemporary' within the parsed wikitext\n",
        "contemporary = wiki.filter(matches='contemporary')\n",
        "\n",
        "# Print the second matching element and its data type\n",
        "print(contemporary[1], type(contemporary[1]))"
      ]
    },
    {
      "cell_type": "code",
      "execution_count": null,
      "metadata": {},
      "outputs": [],
      "source": [
        "# Remove all wiki markup and leading/trailing white spaces from the parsed content\n",
        "stripped_content = wiki.strip_code().strip()\n",
        "stripped_content"
      ]
    },
    {
      "cell_type": "code",
      "execution_count": null,
      "metadata": {},
      "outputs": [],
      "source": [
        "# Extract templates from the parsed wikitext and store them in the 'templates' list\n",
        "templates = wiki.filter_templates()\n",
        "\n",
        "# Print the number of templates found\n",
        "print(f'There are {len(templates)} templates.')\n",
        "\n",
        "# Iterate over each template and print its name\n",
        "for template in templates:\n",
        "    print(template.name)"
      ]
    },
    {
      "cell_type": "code",
      "execution_count": null,
      "metadata": {},
      "outputs": [],
      "source": [
        "# Use the 'wiki.filter_templates()' method to extract templates from the parsed wikitext\n",
        "# and filter for templates that match the name 'Infobox radio station'\n",
        "infobox = wiki.filter_templates(matches='Infobox radio station')[0]\n",
        "infobox"
      ]
    },
    {
      "cell_type": "code",
      "execution_count": null,
      "metadata": {},
      "outputs": [],
      "source": [
        "# Extract information from the parameters of the 'infobox' template\n",
        "# Create a dictionary where parameter names are keys and their values are values\n",
        "information = {param.name.strip_code().strip(): param.value.strip_code().strip() for param in infobox.params}\n",
        "information"
      ]
    },
    {
      "cell_type": "code",
      "execution_count": null,
      "metadata": {},
      "outputs": [],
      "source": [
        "import re\n",
        "\n",
        "def process_article(title, text, timestamp, template = 'Infobox book'):\n",
        "    \"\"\"Process a wikipedia article looking for template\"\"\"\n",
        "    \n",
        "    # Create a parsing object\n",
        "    wikicode = mwparserfromhell.parse(text)\n",
        "    \n",
        "    # Search through templates for the template\n",
        "    matches = wikicode.filter_templates(matches = template)\n",
        "    \n",
        "    # Filter out errant matches\n",
        "    matches = [x for x in matches if x.name.strip_code().strip().lower() == template.lower()]\n",
        "    \n",
        "    if len(matches) >= 1:\n",
        "        # template_name = matches[0].name.strip_code().strip()\n",
        "\n",
        "        # Extract information from infobox\n",
        "        properties = {param.name.strip_code().strip(): param.value.strip_code().strip() \n",
        "                      for param in matches[0].params\n",
        "                      if param.value.strip_code().strip()}\n",
        "\n",
        "        # Extract internal wikilinks\n",
        "        wikilinks = [x.title.strip_code().strip() for x in wikicode.filter_wikilinks()]\n",
        "\n",
        "        # Extract external links\n",
        "        exlinks = [x.url.strip_code().strip() for x in wikicode.filter_external_links()]\n",
        "\n",
        "        # Find approximate length of article\n",
        "        text_length = len(wikicode.strip_code().strip())\n",
        "\n",
        "        return (title, properties, wikilinks, exlinks, timestamp, text_length)"
      ]
    },
    {
      "cell_type": "code",
      "execution_count": null,
      "metadata": {},
      "outputs": [],
      "source": [
        "r = process_article('KENZ (FM)', wiki, None)\n",
        "r"
      ]
    },
    {
      "cell_type": "code",
      "execution_count": null,
      "metadata": {},
      "outputs": [],
      "source": [
        "r = process_article('KENZ (FM)', wiki, None, template = 'Infobox radio station')\n",
        "r[0], r[1]"
      ]
    },
    {
      "cell_type": "code",
      "execution_count": null,
      "metadata": {},
      "outputs": [],
      "source": [
        "import xml.sax\n",
        "\n",
        "class WikiXmlHandler(xml.sax.handler.ContentHandler):\n",
        "    \"\"\"Parse through XML data using SAX\"\"\"\n",
        "    \n",
        "    def __init__(self):\n",
        "        # Constructor to initialize the handler\n",
        "        xml.sax.handler.ContentHandler.__init__(self)\n",
        "        self._buffer = None\n",
        "        self._values = {}\n",
        "        self._current_tag = None\n",
        "        self._books = []  # List to store information about books\n",
        "        self._article_count = 0\n",
        "        self._non_matches = []  # List to store non-matching articles\n",
        "\n",
        "    def characters(self, content):\n",
        "        \"\"\"Characters between opening and closing tags\"\"\"\n",
        "        if self._current_tag:\n",
        "            self._buffer.append(content)\n",
        "\n",
        "    def startElement(self, name, attrs):\n",
        "        \"\"\"Opening tag of element\"\"\"\n",
        "        if name in ('title', 'text', 'timestamp'):\n",
        "            self._current_tag = name\n",
        "            self._buffer = []\n",
        "\n",
        "    def endElement(self, name):\n",
        "        \"\"\"Closing tag of element\"\"\"\n",
        "        if name == self._current_tag:\n",
        "            self._values[name] = ' '.join(self._buffer)\n",
        "\n",
        "        if name == 'page':\n",
        "            self._article_count += 1\n",
        "            # Search through the page to see if the page is a book using 'process_article'\n",
        "            book = process_article(**self._values, template='Infobox book')\n",
        "            # Append the book information to the list of books\n",
        "            if book:\n",
        "                self._books.append(book)\n",
        "            else:\n",
        "                self._non_matches.append(self._values['title'])"
      ]
    },
    {
      "cell_type": "code",
      "execution_count": null,
      "metadata": {},
      "outputs": [],
      "source": [
        "# Create an instance of the WikiXmlHandler class for handling XML data\n",
        "handler = WikiXmlHandler()\n",
        "\n",
        "# Create a SAX parser and set the content handler to the 'handler' instance\n",
        "parser = xml.sax.make_parser()\n",
        "parser.setContentHandler(handler)\n",
        "\n",
        "# Initialize a loop to read lines from a BZ2-compressed file using 'bzcat' via subprocess\n",
        "for i, line in enumerate(subprocess.Popen(['bzcat'], \n",
        "                         stdin=open(data_path), \n",
        "                         stdout=subprocess.PIPE).stdout):\n",
        "    # Feed each line to the parser for XML processing\n",
        "    parser.feed(line)\n",
        "    \n",
        "    # Stop the loop when 3 books have been found\n",
        "    if len(handler._books) > 2:\n",
        "        break\n",
        "\n",
        "# Print the total number of articles searched to find 3 books\n",
        "print(f'Searched through {handler._article_count} articles to find 3 books.')"
      ]
    },
    {
      "cell_type": "code",
      "execution_count": null,
      "metadata": {},
      "outputs": [],
      "source": [
        "handler._books[0]"
      ]
    },
    {
      "cell_type": "code",
      "execution_count": null,
      "metadata": {},
      "outputs": [],
      "source": [
        "# Check if the uncompressed file does not already exist\n",
        "if not os.path.exists('/home/ubuntu/.keras/datasets/p15.xml'):\n",
        "    # Use subprocess to execute a shell command for decompression\n",
        "    subprocess.call(['bzcat /home/ubuntu/.keras/datasets/enwiki-20180901-pages-articles15.xml-p7744803p9244803.bz2 >> p15.xml'],\n",
        "                    shell=True)\n",
        "else:\n",
        "    # Print a message if the file is already uncompressed\n",
        "    print('Already uncompressed')"
      ]
    },
    {
      "cell_type": "code",
      "execution_count": null,
      "metadata": {},
      "outputs": [],
      "source": [
        "!wc /home/ubuntu/.keras/datasets/p15.xml"
      ]
    },
    {
      "cell_type": "code",
      "execution_count": null,
      "metadata": {},
      "outputs": [],
      "source": [
        "from timeit import default_timer as timer\n",
        "\n",
        "# Record the start time\n",
        "start = timer()\n",
        "\n",
        "# Create an instance of the WikiXmlHandler class for handling XML data\n",
        "handler = WikiXmlHandler()\n",
        "\n",
        "# Create a SAX parser and set the content handler to the 'handler' instance\n",
        "parser = xml.sax.make_parser()\n",
        "parser.setContentHandler(handler)\n",
        "\n",
        "# Initialize a loop to read lines from a BZ2-compressed file using 'bzcat' via subprocess\n",
        "for i, line in enumerate(subprocess.Popen(['bzcat'], \n",
        "                         stdin=open(data_path), \n",
        "                         stdout=subprocess.PIPE).stdout):\n",
        "    if (i + 1) % 10000 == 0:\n",
        "        # Print progress every 10,000 lines\n",
        "        print(f'Processed {i + 1} lines so far.', end='\\r')\n",
        "    try:\n",
        "        # Feed each line to the parser for XML processing\n",
        "        parser.feed(line)\n",
        "    except StopIteration:\n",
        "        # Stop parsing when the process is completed\n",
        "        break\n",
        "\n",
        "# Record the end time\n",
        "end = timer()\n",
        "books = handler._books\n",
        "\n",
        "# Print the total number of articles searched and the number of books found\n",
        "print(f'\\nSearched through {handler._article_count} articles.')\n",
        "print(f'Found {len(books)} books in {round(end - start)} seconds.')"
      ]
    },
    {
      "cell_type": "code",
      "execution_count": null,
      "metadata": {},
      "outputs": [],
      "source": [
        "import json"
      ]
    },
    {
      "cell_type": "code",
      "execution_count": null,
      "metadata": {},
      "outputs": [],
      "source": [
        "# Define the path to the output JSON file\n",
        "output_file_path = '../data/p15_books.ndjson'\n",
        "\n",
        "# Save the list of books to the JSON file\n",
        "with open(output_file_path, 'wt') as fout:\n",
        "    for book in books:\n",
        "        # Write each book as a JSON object on a separate line\n",
        "        fout.write(json.dumps(book) + '\\n')"
      ]
    },
    {
      "cell_type": "code",
      "execution_count": null,
      "metadata": {},
      "outputs": [],
      "source": [
        "# Define the path to the input JSON file\n",
        "input_file_path = '../data/p15_books.ndjson'\n",
        "\n",
        "# Initialize a list to store the books read from the JSON file\n",
        "books_in = []\n",
        "\n",
        "# Read in the list of books from the JSON file\n",
        "with open(input_file_path, 'rt') as fin:\n",
        "    for line in fin.readlines():\n",
        "        # Parse each line as a JSON object and append it to the 'books_in' list\n",
        "        books_in.append(json.loads(line))"
      ]
    },
    {
      "cell_type": "code",
      "execution_count": null,
      "metadata": {},
      "outputs": [],
      "source": [
        "books_in[10]"
      ]
    },
    {
      "cell_type": "code",
      "execution_count": null,
      "metadata": {},
      "outputs": [],
      "source": [
        "import gc"
      ]
    },
    {
      "cell_type": "code",
      "execution_count": null,
      "metadata": {},
      "outputs": [],
      "source": [
        "def find_books(data_path, limit=None, save=True):\n",
        "    \"\"\"Find all the book articles from a compressed Wikipedia XML dump.\n",
        "       `limit` is an optional argument to only return a set number of books.\n",
        "        If save is True, books are saved to partition directories based on the file name\"\"\"\n",
        "\n",
        "    # Object for handling XML\n",
        "    handler = WikiXmlHandler()\n",
        "\n",
        "    # Parsing object\n",
        "    parser = xml.sax.make_parser()\n",
        "    parser.setContentHandler(handler)\n",
        "\n",
        "    # Iterate through the compressed file\n",
        "    for i, line in enumerate(subprocess.Popen(['bzcat'], \n",
        "                         stdin=open(data_path), \n",
        "                         stdout=subprocess.PIPE).stdout):\n",
        "        try:\n",
        "            # Feed each line to the parser for XML processing\n",
        "            parser.feed(line)\n",
        "        except StopIteration:\n",
        "            break\n",
        "            \n",
        "        # Optional limit\n",
        "        if limit is not None and len(handler._books) >= limit:\n",
        "            return handler._books\n",
        "    \n",
        "    if save:\n",
        "        # Define the directory where partitioned JSON files will be saved\n",
        "        partition_dir = '/data/wiki/partitions/'\n",
        "\n",
        "        # Create a file name based on the partition name\n",
        "        p_str = data_path.split('-')[-1].split('.')[-2]\n",
        "        out_dir = partition_dir + f'{p_str}.ndjson'\n",
        "\n",
        "        # Open the file\n",
        "        with open(out_dir, 'w') as fout:\n",
        "            # Write the books as JSON objects, each on a separate line\n",
        "            for book in handler._books:\n",
        "                fout.write(json.dumps(book) + '\\n')\n",
        "        \n",
        "        print(f'{len(os.listdir(partition_dir))} files processed.', end='\\r')\n",
        "\n",
        "    # Memory management\n",
        "    del handler\n",
        "    del parser\n",
        "    gc.collect()\n",
        "    return None"
      ]
    },
    {
      "cell_type": "code",
      "execution_count": null,
      "metadata": {},
      "outputs": [],
      "source": [
        "# Create a list of file paths for partitioned Wikipedia XML dump files\n",
        "partitions = [keras_home + file for file in os.listdir(keras_home) if 'xml-p' in file]\n",
        "\n",
        "# Get the number of partitions\n",
        "num_partitions = len(partitions)\n",
        "\n",
        "# Get the file path of the last partition (if any)\n",
        "last_partition = partitions[-1]\n",
        "\n",
        "# Print the number of partitions and the file path of the last partition\n",
        "print(f'Number of partitions found: {num_partitions}')\n",
        "print(f'File path of the last partition: {last_partition}')"
      ]
    },
    {
      "cell_type": "code",
      "execution_count": null,
      "metadata": {},
      "outputs": [],
      "source": [
        "from multiprocessing import Pool \n",
        "import tqdm \n",
        "\n",
        "# List of lists to single list\n",
        "from itertools import chain\n",
        "\n",
        "# Sending keyword arguments in map\n",
        "from functools import partial"
      ]
    },
    {
      "cell_type": "code",
      "execution_count": null,
      "metadata": {},
      "outputs": [],
      "source": [
        "os.cpu_count()"
      ]
    },
    {
      "cell_type": "code",
      "execution_count": null,
      "metadata": {},
      "outputs": [],
      "source": [
        "# Import the multiprocessing library\n",
        "from multiprocessing import Pool\n",
        "\n",
        "# Create a pool of 16 workers to execute processes in parallel\n",
        "pool = Pool(processes=16)\n",
        "\n",
        "# Record the start time\n",
        "start = timer()\n",
        "\n",
        "# Map (service, tasks) to apply the 'find_books' function to each partition\n",
        "results = pool.map(find_books, partitions)\n",
        "\n",
        "# Close the pool of workers\n",
        "pool.close()\n",
        "\n",
        "# Wait for all processes to complete\n",
        "pool.join()\n",
        "\n",
        "# Record the end time\n",
        "end = timer()\n",
        "\n",
        "# Print the total time elapsed for the parallel processing\n",
        "print(f'{end - start} seconds elapsed.')"
      ]
    },
    {
      "cell_type": "code",
      "execution_count": null,
      "metadata": {},
      "outputs": [],
      "source": [
        "def read_data(file_path):\n",
        "    \"\"\"Read in JSON data from `file_path` and return it as a list of objects.\"\"\"\n",
        "    \n",
        "    # Initialize an empty list to store the JSON data\n",
        "    data = []\n",
        "    \n",
        "    # Open the file in read mode and load JSON objects line by line\n",
        "    with open(file_path, 'r') as fin:\n",
        "        for line in fin.readlines():\n",
        "            # Parse each line as a JSON object and append it to the 'data' list\n",
        "            data.append(json.loads(line))\n",
        "            \n",
        "    # Return the list of JSON objects\n",
        "    return data"
      ]
    },
    {
      "cell_type": "code",
      "execution_count": null,
      "metadata": {},
      "outputs": [],
      "source": [
        "# Import necessary modules\n",
        "from multiprocessing.dummy import Pool as Threadpool\n",
        "from itertools import chain\n",
        "\n",
        "# Record the start time\n",
        "start = timer()\n",
        "\n",
        "# List of file paths to read in\n",
        "saved_files = ['/data/wiki/partitions/' + x for x in os.listdir('/data/wiki/partitions/')]\n",
        "\n",
        "# Create a thread pool with 10 worker threads for reading files in parallel\n",
        "threadpool = Threadpool(processes=10)\n",
        "\n",
        "# Read in the files as a list of lists using the thread pool\n",
        "results = threadpool.map(read_data, saved_files)\n",
        "\n",
        "# Flatten the list of lists into a single list using itertools.chain\n",
        "book_list = list(chain(*results))\n",
        "\n",
        "# Record the end time\n",
        "end = timer()\n",
        "\n",
        "# Print the number of books found and the time elapsed\n",
        "print(f'Found {len(book_list)} books in {round(end - start)} seconds.')"
      ]
    },
    {
      "cell_type": "code",
      "execution_count": null,
      "metadata": {},
      "outputs": [],
      "source": [
        "# Check if the file 'found_books_filtered.ndjson' does not exist in the current directory\n",
        "if not os.path.exists(os.getcwd() + '../data/found_books_filtered.ndjson'):\n",
        "    # If the file doesn't exist, create it and save the book_list in JSON format\n",
        "    with open('../data/found_books_filtered.ndjson', 'wt') as fout:\n",
        "        for book in book_list:\n",
        "             fout.write(json.dumps(book) + '\\n')\n",
        "    print('Books saved.')\n",
        "else:\n",
        "    # If the file already exists, print a message indicating that it's already saved\n",
        "    print('Files already saved.')"
      ]
    },
    {
      "cell_type": "code",
      "execution_count": null,
      "metadata": {},
      "outputs": [],
      "source": [
        "def test_speed(pool):\n",
        "    \"\"\"Time how long it takes to find books in Wikipedia XML dump partitions.\"\"\"\n",
        "\n",
        "    # Record the start time\n",
        "    start = timer()\n",
        "\n",
        "    # Define a partial function to pass in the 'limit' and 'save' arguments\n",
        "    map_find_books = partial(find_books, limit=10, save=False)\n",
        "\n",
        "    # Initialize a list to store results\n",
        "    results = []\n",
        "\n",
        "    # Display a progress bar with tqdm\n",
        "    for x in tqdm.tqdm_notebook(pool.imap_unordered(map_find_books, partitions), total=len(partitions)):\n",
        "        results.append(x)\n",
        "\n",
        "    # Close the pool of workers\n",
        "    pool.close()\n",
        "    pool.join()\n",
        "\n",
        "    # Record the end time\n",
        "    end = timer()\n",
        "\n",
        "    # Flatten the list of results into a single list\n",
        "    book_list = list(chain(*results))\n",
        "\n",
        "    # Print the number of books found and the time taken\n",
        "    print(f'Found {len(book_list)} books in {round(end - start)} seconds.')"
      ]
    },
    {
      "cell_type": "code",
      "execution_count": null,
      "metadata": {},
      "outputs": [],
      "source": [
        "pool = Pool(processes = 8)\n",
        "test_speed(pool)"
      ]
    },
    {
      "cell_type": "code",
      "execution_count": null,
      "metadata": {},
      "outputs": [],
      "source": [
        "pool = Pool(processes = 16)\n",
        "test_speed(pool)"
      ]
    },
    {
      "cell_type": "code",
      "execution_count": null,
      "metadata": {},
      "outputs": [],
      "source": [
        "# Import the ThreadPool class from the multiprocessing.dummy module\n",
        "from multiprocessing.dummy import Pool as ThreadPool\n",
        "\n",
        "# Create a thread pool with 10 worker threads\n",
        "thread_pool = ThreadPool(processes=10)\n",
        "\n",
        "# Call the test_speed function to measure the time it takes to find books\n",
        "test_speed(thread_pool)"
      ]
    },
    {
      "cell_type": "code",
      "execution_count": null,
      "metadata": {},
      "outputs": [],
      "source": [
        "thread_pool = ThreadPool(processes = 20)\n",
        "test_speed(thread_pool)"
      ]
    }
  ],
  "metadata": {
    "colab": {
      "include_colab_link": true,
      "provenance": []
    },
    "kernelspec": {
      "display_name": "Python 3",
      "name": "python3"
    },
    "language_info": {
      "name": "python"
    }
  },
  "nbformat": 4,
  "nbformat_minor": 0
}
